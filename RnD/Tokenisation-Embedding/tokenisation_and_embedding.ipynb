{
 "cells": [
  {
   "cell_type": "markdown",
   "id": "8d98cf8e-7fd2-49aa-aa6d-3177887b8621",
   "metadata": {},
   "source": [
    "# Import data"
   ]
  },
  {
   "cell_type": "code",
   "execution_count": 1,
   "id": "67286c7a-f86d-4277-9648-92c12c112a33",
   "metadata": {},
   "outputs": [],
   "source": [
    "import urllib.request"
   ]
  },
  {
   "cell_type": "code",
   "execution_count": 2,
   "id": "9932bab4-a64c-4654-ad82-b251e93ec3c4",
   "metadata": {},
   "outputs": [
    {
     "data": {
      "text/plain": [
       "('the-verdict.txt', <http.client.HTTPMessage at 0x78bb0db56000>)"
      ]
     },
     "execution_count": 2,
     "metadata": {},
     "output_type": "execute_result"
    }
   ],
   "source": [
    "url = (\"https://raw.githubusercontent.com/rasbt/\"\n",
    "       \"LLMs-from-scratch/main/ch02/01_main-chapter-code/\"\n",
    "      \"the-verdict.txt\")\n",
    "file_path = \"the-verdict.txt\"\n",
    "urllib.request.urlretrieve(url, file_path)"
   ]
  },
  {
   "cell_type": "code",
   "execution_count": 3,
   "id": "4189fb28-5f6a-4636-8277-7a60c62faf61",
   "metadata": {},
   "outputs": [
    {
     "name": "stdout",
     "output_type": "stream",
     "text": [
      "Total number of characters: 20479\n",
      "I HAD always thought Jack Gisburn rather a cheap genius--though a good fellow enough--so it was no \n"
     ]
    }
   ],
   "source": [
    "with open(\"the-verdict.txt\", \"r\", encoding=\"utf-8\") as f:\n",
    "    raw_text = f.read()\n",
    "print(f\"Total number of characters: {len(raw_text)}\")\n",
    "print(raw_text[:99])"
   ]
  },
  {
   "cell_type": "markdown",
   "id": "3d9ec01a-fdfe-47cf-a680-b97af0a8b983",
   "metadata": {},
   "source": [
    "# Custom tokenizer"
   ]
  },
  {
   "cell_type": "code",
   "execution_count": 4,
   "id": "f2500c8b-be82-4a34-924b-2f593cc5f663",
   "metadata": {},
   "outputs": [],
   "source": [
    "import re"
   ]
  },
  {
   "cell_type": "code",
   "execution_count": 5,
   "id": "0ce348a8-a85b-44a7-9875-204887294441",
   "metadata": {},
   "outputs": [],
   "source": [
    "extracted_content = re.split(r'([,.:;?_!\"()\\']|--|\\s)', raw_text)"
   ]
  },
  {
   "cell_type": "code",
   "execution_count": 6,
   "id": "eab69b0a-3322-4d28-9b58-6c627b9742d6",
   "metadata": {},
   "outputs": [
    {
     "data": {
      "text/plain": [
       "9235"
      ]
     },
     "execution_count": 6,
     "metadata": {},
     "output_type": "execute_result"
    }
   ],
   "source": [
    "len(extracted_content)"
   ]
  },
  {
   "cell_type": "markdown",
   "id": "3dcf96d3-4881-46ba-9b87-b2d0bbe4e895",
   "metadata": {},
   "source": [
    "#### number of white spaces"
   ]
  },
  {
   "cell_type": "code",
   "execution_count": 7,
   "id": "0a371ff9-5912-4491-82de-b3b551926235",
   "metadata": {},
   "outputs": [
    {
     "data": {
      "text/plain": [
       "list"
      ]
     },
     "execution_count": 7,
     "metadata": {},
     "output_type": "execute_result"
    }
   ],
   "source": [
    "type(extracted_content)"
   ]
  },
  {
   "cell_type": "code",
   "execution_count": 8,
   "id": "fc38e4dd-b634-4343-86eb-90655aa6dec6",
   "metadata": {},
   "outputs": [
    {
     "data": {
      "text/plain": [
       "3551"
      ]
     },
     "execution_count": 8,
     "metadata": {},
     "output_type": "execute_result"
    }
   ],
   "source": [
    "len(list(filter(lambda x: x == ' ' or x =='\\t', extracted_content)))"
   ]
  },
  {
   "cell_type": "markdown",
   "id": "5d4c25bb-b812-479e-aef1-ec9951a1f358",
   "metadata": {},
   "source": [
    "#### removing white spaces"
   ]
  },
  {
   "cell_type": "code",
   "execution_count": 9,
   "id": "549d2b08-09df-4a84-80c1-1d6209d34427",
   "metadata": {},
   "outputs": [],
   "source": [
    "x = 'tst '"
   ]
  },
  {
   "cell_type": "code",
   "execution_count": 10,
   "id": "5ebee162-500f-4279-a6a6-28d122f943fa",
   "metadata": {},
   "outputs": [
    {
     "data": {
      "text/plain": [
       "'tst'"
      ]
     },
     "execution_count": 10,
     "metadata": {},
     "output_type": "execute_result"
    }
   ],
   "source": [
    "x.strip()"
   ]
  },
  {
   "cell_type": "code",
   "execution_count": 11,
   "id": "283ddb5a-62ff-41c6-8d47-3c5560c518f8",
   "metadata": {},
   "outputs": [],
   "source": [
    "extracted_content =  [item.strip() for item in extracted_content if item.strip()]"
   ]
  },
  {
   "cell_type": "code",
   "execution_count": 12,
   "id": "827d9834-cdf2-4acf-a389-a085b0eec2e6",
   "metadata": {},
   "outputs": [
    {
     "data": {
      "text/plain": [
       "4690"
      ]
     },
     "execution_count": 12,
     "metadata": {},
     "output_type": "execute_result"
    }
   ],
   "source": [
    "len(extracted_content)"
   ]
  },
  {
   "cell_type": "code",
   "execution_count": 13,
   "id": "9ba58479-ccb5-4d30-9f74-b395c103aea6",
   "metadata": {},
   "outputs": [
    {
     "data": {
      "text/plain": [
       "['I',\n",
       " 'HAD',\n",
       " 'always',\n",
       " 'thought',\n",
       " 'Jack',\n",
       " 'Gisburn',\n",
       " 'rather',\n",
       " 'a',\n",
       " 'cheap',\n",
       " 'genius',\n",
       " '--',\n",
       " 'though',\n",
       " 'a',\n",
       " 'good',\n",
       " 'fellow',\n",
       " 'enough',\n",
       " '--',\n",
       " 'so',\n",
       " 'it',\n",
       " 'was',\n",
       " 'no',\n",
       " 'great',\n",
       " 'surprise',\n",
       " 'to',\n",
       " 'me',\n",
       " 'to',\n",
       " 'hear',\n",
       " 'that',\n",
       " ',',\n",
       " 'in']"
      ]
     },
     "execution_count": 13,
     "metadata": {},
     "output_type": "execute_result"
    }
   ],
   "source": [
    "extracted_content[:30]"
   ]
  },
  {
   "cell_type": "markdown",
   "id": "ebf36360-08b5-47fa-a63b-eac6361dae8e",
   "metadata": {},
   "source": [
    "## Assign tokenIDs"
   ]
  },
  {
   "cell_type": "code",
   "execution_count": 14,
   "id": "940e5e59-f4d4-4908-bc18-191fd177db44",
   "metadata": {},
   "outputs": [],
   "source": [
    "# unique tokens\n",
    "vocab = set(extracted_content)"
   ]
  },
  {
   "cell_type": "code",
   "execution_count": 15,
   "id": "dd193886-a080-442e-b3cd-1974474a9792",
   "metadata": {
    "scrolled": true
   },
   "outputs": [
    {
     "data": {
      "text/plain": [
       "1130"
      ]
     },
     "execution_count": 15,
     "metadata": {},
     "output_type": "execute_result"
    }
   ],
   "source": [
    "len(vocab)"
   ]
  },
  {
   "cell_type": "code",
   "execution_count": 16,
   "id": "34b6c619-9e84-46db-b9ac-6c72d8e12e60",
   "metadata": {},
   "outputs": [],
   "source": [
    "# sorting alphabetically\n",
    "vocab = sorted(vocab)"
   ]
  },
  {
   "cell_type": "code",
   "execution_count": 17,
   "id": "6e808c07-d635-4c34-ac80-2e5aea4fe07f",
   "metadata": {},
   "outputs": [
    {
     "data": {
      "text/plain": [
       "['!', '\"', \"'\", '(', ')', ',', '--', '.', ':', ';']"
      ]
     },
     "execution_count": 17,
     "metadata": {},
     "output_type": "execute_result"
    }
   ],
   "source": [
    "vocab[:10]"
   ]
  },
  {
   "cell_type": "code",
   "execution_count": 18,
   "id": "71a1ad20-2b90-46d8-8a7b-11631ff9c703",
   "metadata": {},
   "outputs": [],
   "source": [
    "vocab = {token: integer for integer, token in enumerate(vocab)}"
   ]
  },
  {
   "cell_type": "code",
   "execution_count": 19,
   "id": "6a0f7adb-76d8-4964-b3dc-da7840e26739",
   "metadata": {},
   "outputs": [
    {
     "name": "stdout",
     "output_type": "stream",
     "text": [
      "('!', 0)\n",
      "('\"', 1)\n",
      "(\"'\", 2)\n",
      "('(', 3)\n",
      "(')', 4)\n",
      "(',', 5)\n",
      "('--', 6)\n",
      "('.', 7)\n",
      "(':', 8)\n",
      "(';', 9)\n",
      "('?', 10)\n"
     ]
    }
   ],
   "source": [
    "for i, item in enumerate(vocab.items()):\n",
    "    print(item)\n",
    "    if i>=10:\n",
    "        break"
   ]
  },
  {
   "cell_type": "markdown",
   "id": "501d0d92-dbd2-4e12-8005-86ca377a3ce5",
   "metadata": {},
   "source": [
    "## Tokenizer:V1"
   ]
  },
  {
   "cell_type": "code",
   "execution_count": 20,
   "id": "933ae685-5eb1-40e5-89cc-4ac0c142231d",
   "metadata": {},
   "outputs": [],
   "source": [
    "class SimpleTokenizerV1:\n",
    "\n",
    "    def __init__(self, vocab):\n",
    "\n",
    "        self.str_to_int =  vocab\n",
    "        self.int_to_str = {i:s for s,i in vocab.items()}\n",
    "\n",
    "    def encode(self, text):\n",
    "        preprocessed = re.split(r'([,.?_!\"()\\']|--|\\s)', text)\n",
    "        preprocessed = [item.strip() for item in preprocessed if item.strip()]\n",
    "        ids = [self.str_to_int[item] for item in preprocessed]\n",
    "        return ids\n",
    "\n",
    "    def decode(self, ids):\n",
    "        text = \" \".join([self.int_to_str[i] for i in ids])\n",
    "        text = re.sub(r'\\s+([,.?!\"()\\'])', r'\\1', text)\n",
    "        return text"
   ]
  },
  {
   "cell_type": "markdown",
   "id": "9896ebb0-e53c-486c-8c12-a4ad12e4bc45",
   "metadata": {},
   "source": [
    "##### NOTES\n",
    "\n",
    "* r'\\1': This is a backreference in regex, referring to the first captured group in a pattern.\n"
   ]
  },
  {
   "cell_type": "code",
   "execution_count": 21,
   "id": "eb276650-6f11-4d6a-96a1-71fcfffc6e1c",
   "metadata": {},
   "outputs": [],
   "source": [
    "# tokenizer\n",
    "simpletokenizer_v1 = SimpleTokenizerV1(vocab)"
   ]
  },
  {
   "cell_type": "code",
   "execution_count": 22,
   "id": "ce045982-e18e-4f5e-aa38-85f0d5610326",
   "metadata": {},
   "outputs": [],
   "source": [
    "test = \"\"\"\"It's the last he painted, you know,\"\n",
    "Mrs.Gisburn said with pardonable pride.\"\"\"\n",
    "test_ids = simpletokenizer_v1.encode(test)"
   ]
  },
  {
   "cell_type": "code",
   "execution_count": 23,
   "id": "c7d9b423-948c-4abb-8103-72ed264ec498",
   "metadata": {},
   "outputs": [
    {
     "data": {
      "text/plain": [
       "[1,\n",
       " 56,\n",
       " 2,\n",
       " 850,\n",
       " 988,\n",
       " 602,\n",
       " 533,\n",
       " 746,\n",
       " 5,\n",
       " 1126,\n",
       " 596,\n",
       " 5,\n",
       " 1,\n",
       " 67,\n",
       " 7,\n",
       " 38,\n",
       " 851,\n",
       " 1108,\n",
       " 754,\n",
       " 793,\n",
       " 7]"
      ]
     },
     "execution_count": 23,
     "metadata": {},
     "output_type": "execute_result"
    }
   ],
   "source": [
    "test_ids"
   ]
  },
  {
   "cell_type": "code",
   "execution_count": 24,
   "id": "1c928eb7-946e-485f-9a99-22a9a079feb7",
   "metadata": {},
   "outputs": [
    {
     "data": {
      "text/plain": [
       "'\" It\\' s the last he painted, you know,\" Mrs. Gisburn said with pardonable pride.'"
      ]
     },
     "execution_count": 24,
     "metadata": {},
     "output_type": "execute_result"
    }
   ],
   "source": [
    "simpletokenizer_v1.decode(test_ids)"
   ]
  },
  {
   "cell_type": "code",
   "execution_count": 25,
   "id": "8271f92b-2a04-481a-bba6-4776000f79b3",
   "metadata": {},
   "outputs": [
    {
     "name": "stdout",
     "output_type": "stream",
     "text": [
      "\" It' s the last he painted, you know,\" Mrs. Gisburn said with pardonable pride.\n"
     ]
    }
   ],
   "source": [
    "print(simpletokenizer_v1.decode(test_ids))"
   ]
  },
  {
   "cell_type": "code",
   "execution_count": null,
   "id": "ca1dd705-78dd-4cc3-a703-afd8f29d1558",
   "metadata": {},
   "outputs": [],
   "source": []
  },
  {
   "cell_type": "markdown",
   "id": "20eeac77-b7b9-44e4-b961-28a91cf97716",
   "metadata": {},
   "source": [
    "## Tokenizer:V2"
   ]
  },
  {
   "cell_type": "markdown",
   "id": "7fb8c46c-3e35-4ada-a719-aca73152ff61",
   "metadata": {},
   "source": [
    "### \\<unk> and \\<endoftext>"
   ]
  },
  {
   "cell_type": "code",
   "execution_count": 26,
   "id": "972f8d7c-a7c8-4ead-bfb9-0ff70b6a8917",
   "metadata": {},
   "outputs": [],
   "source": [
    "alltokens = sorted(set(extracted_content))"
   ]
  },
  {
   "cell_type": "code",
   "execution_count": 27,
   "id": "882e5602-38a7-41ee-bbdf-caff82ab4970",
   "metadata": {},
   "outputs": [],
   "source": [
    "alltokens.extend([\"<|endoftext|>\", \"<|unk|>\"])"
   ]
  },
  {
   "cell_type": "code",
   "execution_count": 28,
   "id": "e9f2ae0a-ad10-4ba4-9270-98ed432274a5",
   "metadata": {},
   "outputs": [],
   "source": [
    "vocab_dict = {token:integer for integer, token in enumerate(alltokens)}"
   ]
  },
  {
   "cell_type": "code",
   "execution_count": 29,
   "id": "5d6667fb-4980-4bd9-8318-f8a84bc94d11",
   "metadata": {},
   "outputs": [
    {
     "data": {
      "text/plain": [
       "1132"
      ]
     },
     "execution_count": 29,
     "metadata": {},
     "output_type": "execute_result"
    }
   ],
   "source": [
    "len(vocab_dict)"
   ]
  },
  {
   "cell_type": "code",
   "execution_count": 30,
   "id": "b950b83e-5dd8-44fa-b90b-06d884717e22",
   "metadata": {
    "scrolled": true
   },
   "outputs": [
    {
     "name": "stdout",
     "output_type": "stream",
     "text": [
      "('younger', 1127)\n",
      "('your', 1128)\n",
      "('yourself', 1129)\n",
      "('<|endoftext|>', 1130)\n",
      "('<|unk|>', 1131)\n"
     ]
    }
   ],
   "source": [
    "# CHECKING\n",
    "for i, item in enumerate(list(vocab_dict.items())[-5:]):\n",
    "    print(item)"
   ]
  },
  {
   "cell_type": "code",
   "execution_count": 31,
   "id": "f2b62e93-4b37-4d69-8836-fc74fa9a47d0",
   "metadata": {},
   "outputs": [
    {
     "data": {
      "text/plain": [
       "True"
      ]
     },
     "execution_count": 31,
     "metadata": {},
     "output_type": "execute_result"
    }
   ],
   "source": [
    "'your' in vocab_dict"
   ]
  },
  {
   "cell_type": "code",
   "execution_count": 32,
   "id": "07980db7-39db-4199-8846-bd53224f6dd9",
   "metadata": {},
   "outputs": [
    {
     "data": {
      "text/plain": [
       "False"
      ]
     },
     "execution_count": 32,
     "metadata": {},
     "output_type": "execute_result"
    }
   ],
   "source": [
    "1127 in vocab_dict"
   ]
  },
  {
   "cell_type": "code",
   "execution_count": 33,
   "id": "b987d592-60b2-425d-bec3-1605510e29e5",
   "metadata": {},
   "outputs": [],
   "source": [
    "class SimpleTokenizerV2:\n",
    "\n",
    "    def __init__(self, vocab):\n",
    "\n",
    "        self.str_to_int =  vocab\n",
    "        self.int_to_str = {i:s for s,i in vocab.items()}\n",
    "\n",
    "    def encode(self, text):\n",
    "        preprocessed = re.split(r'([,.?_!\"()\\']|--|\\s)', text)\n",
    "        preprocessed = [item.strip() for item in preprocessed if item.strip()]\n",
    "        preprocessed = [item if item in self.str_to_int else \"<|unk|>\" for item in preprocessed]\n",
    "        ids = [self.str_to_int[item] for item in preprocessed]\n",
    "        return ids\n",
    "\n",
    "    def decode(self, ids):\n",
    "        text = \" \".join([self.int_to_str[i] for i in ids])\n",
    "        text = re.sub(r'\\s+([,.?!\"()\\'])', r'\\1', text)\n",
    "        return text"
   ]
  },
  {
   "cell_type": "code",
   "execution_count": 34,
   "id": "dbaf0d21-b88f-4247-ac1e-0252aece039a",
   "metadata": {},
   "outputs": [],
   "source": [
    "# testing\n",
    "test1 = \"Hello, do you like tea?\"\n",
    "\n",
    "simpletokenizer_v2 = SimpleTokenizerV2(vocab_dict)"
   ]
  },
  {
   "cell_type": "code",
   "execution_count": 35,
   "id": "a4e7923c-070e-4a5d-9b5a-156eb4f7873b",
   "metadata": {},
   "outputs": [],
   "source": [
    "output1 = simpletokenizer_v2.encode(test1)"
   ]
  },
  {
   "cell_type": "code",
   "execution_count": 36,
   "id": "2b852bea-ea30-490c-81d5-c07a7ae0466f",
   "metadata": {},
   "outputs": [
    {
     "data": {
      "text/plain": [
       "'<|unk|>, do you like tea?'"
      ]
     },
     "execution_count": 36,
     "metadata": {},
     "output_type": "execute_result"
    }
   ],
   "source": [
    "simpletokenizer_v2.decode(output1)"
   ]
  },
  {
   "cell_type": "code",
   "execution_count": 37,
   "id": "a912113f-2eac-420d-ae51-00091abd4eee",
   "metadata": {},
   "outputs": [
    {
     "data": {
      "text/plain": [
       "'Hello, do you like tea? <|endoftext|> In the sunlit terraces of the palace. <|endoftext|> With some sugar.'"
      ]
     },
     "execution_count": 37,
     "metadata": {},
     "output_type": "execute_result"
    }
   ],
   "source": [
    "test2 = \"In the sunlit terraces of the palace.\"\n",
    "test3 = \"With some sugar.\"\n",
    "test = \" <|endoftext|> \".join([test1, test2, test3])\n",
    "test"
   ]
  },
  {
   "cell_type": "code",
   "execution_count": 38,
   "id": "67a98825-3ee7-4a55-862f-e8aca3d61ce7",
   "metadata": {},
   "outputs": [],
   "source": [
    "output2 = simpletokenizer_v2.encode(test)"
   ]
  },
  {
   "cell_type": "code",
   "execution_count": 39,
   "id": "b77dcd2a-3624-4f14-b3c1-a5972099e75d",
   "metadata": {},
   "outputs": [
    {
     "data": {
      "text/plain": [
       "'<|unk|>, do you like tea? <|endoftext|> In the sunlit terraces of the <|unk|>. <|endoftext|> <|unk|> some sugar.'"
      ]
     },
     "execution_count": 39,
     "metadata": {},
     "output_type": "execute_result"
    }
   ],
   "source": [
    "simpletokenizer_v2.decode(output2)"
   ]
  },
  {
   "cell_type": "code",
   "execution_count": null,
   "id": "38a6a614-b808-4666-9ec0-c1a606f4970b",
   "metadata": {},
   "outputs": [],
   "source": []
  },
  {
   "cell_type": "markdown",
   "id": "88434283-0053-4b97-a0e5-3220080d1fff",
   "metadata": {},
   "source": [
    "# Byte-Pair encoding"
   ]
  },
  {
   "cell_type": "markdown",
   "id": "ac70369c-5649-4d72-8703-0980de085d87",
   "metadata": {},
   "source": [
    "## Pretrained tokenizer"
   ]
  },
  {
   "cell_type": "code",
   "execution_count": 40,
   "id": "0af2064b-b5c1-4c07-8a19-d4888c8700f0",
   "metadata": {},
   "outputs": [],
   "source": [
    "from tokenizers import Tokenizer"
   ]
  },
  {
   "cell_type": "code",
   "execution_count": 41,
   "id": "cd39aef5-94c0-43d4-978f-49cfb7c418a7",
   "metadata": {},
   "outputs": [],
   "source": [
    "gpt_tokenizer = Tokenizer.from_pretrained('gpt2')"
   ]
  },
  {
   "cell_type": "code",
   "execution_count": 42,
   "id": "575042e6-222f-48d7-9370-630140899a30",
   "metadata": {},
   "outputs": [
    {
     "data": {
      "text/plain": [
       "50257"
      ]
     },
     "execution_count": 42,
     "metadata": {},
     "output_type": "execute_result"
    }
   ],
   "source": [
    "gpt_tokenizer.get_vocab_size()"
   ]
  },
  {
   "cell_type": "code",
   "execution_count": 43,
   "id": "7a442208-e202-4bf9-a57a-022cbfdf2470",
   "metadata": {},
   "outputs": [],
   "source": [
    "gpt_vocab = gpt_tokenizer.get_vocab()"
   ]
  },
  {
   "cell_type": "code",
   "execution_count": 44,
   "id": "d1e141a7-0a4a-4ec8-8cc2-54e919c36e7d",
   "metadata": {
    "scrolled": true
   },
   "outputs": [
    {
     "data": {
      "text/plain": [
       "{'!?\"': 42720,\n",
       " 'anguages': 33213,\n",
       " 'raising': 32741,\n",
       " 'ĠInternet': 4455,\n",
       " 'itent': 48324,\n",
       " 'ĠEE': 27254,\n",
       " 'Ġannually': 13844,\n",
       " 'Ġtuning': 24549,\n",
       " 'Ġdear': 13674,\n",
       " 'Whatever': 21875,\n",
       " 'ĠOften': 18023,\n",
       " 'cription': 6820,\n",
       " 'Ġcontact': 2800,\n",
       " 'Ġinclud': 846,\n",
       " 'Hash': 26257,\n",
       " 'UTE': 37780,\n",
       " 'uristic': 27915,\n",
       " 'cam': 20991,\n",
       " 'ourced': 30555,\n",
       " 'Ġinfant': 11212,\n",
       " 'Ġnarrowed': 33214,\n",
       " 'Ġsignal': 6737,\n",
       " 'ĠFin': 4463,\n",
       " 'ĠInteresting': 43580,\n",
       " 'pid': 35317,\n",
       " 'olkien': 31052,\n",
       " 'ĠDisorder': 31162,\n",
       " 'Ġlogistics': 26355,\n",
       " 'wy': 21768,\n",
       " 'Ġoverflowing': 43347,\n",
       " 'Ġinserts': 42220,\n",
       " 'Ġexpended': 37328,\n",
       " 'advert': 17904,\n",
       " 'Ġdinners': 42541,\n",
       " 'Ġtyp': 2170,\n",
       " 'Ġ630': 44505,\n",
       " 'Ġrescued': 19868,\n",
       " 'iframe': 39621,\n",
       " '035': 44215,\n",
       " 'Ġpenetrated': 41847,\n",
       " 'ĠExt': 5683,\n",
       " 'ĠBros': 14266,\n",
       " 'ĠFresh': 20138,\n",
       " 'ĠJustin': 10799,\n",
       " 'Ġweren': 6304,\n",
       " 'Ġ136': 21056,\n",
       " 'Ġ98': 9661,\n",
       " 'Ġstarted': 2067,\n",
       " 'except': 16341,\n",
       " 'hist': 10034,\n",
       " 'Ġsqueezed': 29650,\n",
       " 'rossover': 23954,\n",
       " 'ĠPopulation': 20133,\n",
       " 'ĠCBI': 47970,\n",
       " 'utton': 21115,\n",
       " 'Ġcha': 17792,\n",
       " 'line': 1370,\n",
       " 'ĠClever': 42486,\n",
       " 'll': 297,\n",
       " 'ilk': 43545,\n",
       " 'ĠDeposit': 44158,\n",
       " 'ĠTerran': 33486,\n",
       " 'osp': 2117,\n",
       " 'itative': 12464,\n",
       " 'pload': 7304,\n",
       " 'ilda': 27281,\n",
       " 'ĠConversely': 34511,\n",
       " 'ĠSyrian': 6318,\n",
       " 'uron': 44372,\n",
       " 'ĠScholars': 26381,\n",
       " 'Ġclassics': 29039,\n",
       " 'ĠEW': 43255,\n",
       " 'Ġ2001': 5878,\n",
       " 'Ġembodies': 45370,\n",
       " 'Ġbrief': 4506,\n",
       " 'Ġmascara': 48430,\n",
       " '745': 50150,\n",
       " 'Ġpersons': 6506,\n",
       " 'Ġskewed': 37543,\n",
       " '_>': 49029,\n",
       " 'hner': 22277,\n",
       " 'Ġunn': 41231,\n",
       " 'Ġbounces': 49623,\n",
       " 'Ġchanges': 2458,\n",
       " 'Ġframing': 30811,\n",
       " 'ando': 25440,\n",
       " 'Ġprematurely': 41370,\n",
       " 'Ġmarsh': 22397,\n",
       " 'acity': 4355,\n",
       " 'reverse': 50188,\n",
       " 'orce': 8387,\n",
       " 'string': 8841,\n",
       " 'Ġcaster': 31680,\n",
       " 'Ġloads': 15989,\n",
       " 'Ġpuzzles': 24367,\n",
       " 'mr': 43395,\n",
       " 'ĠHungry': 42939,\n",
       " 'ito': 10094,\n",
       " 'phalt': 41942,\n",
       " 'whose': 38159,\n",
       " 'ãĤ¦ãĤ¹': 34103,\n",
       " 'pherd': 23111,\n",
       " 'ĠLouisiana': 13340,\n",
       " '877': 42802,\n",
       " 'ĠTimber': 27893,\n",
       " 'Ġtwisting': 36373,\n",
       " 'Ġchalk': 30860,\n",
       " 'Ġcapita': 21344,\n",
       " '127': 16799,\n",
       " 'ĠMahm': 31556,\n",
       " '514': 47396,\n",
       " 'Ġmsec': 43242,\n",
       " 'focus': 37635,\n",
       " 'illon': 23027,\n",
       " 'Ġmachinery': 20230,\n",
       " 'nesses': 47556,\n",
       " 'ĠNor': 5414,\n",
       " 'Ġsided': 34384,\n",
       " 'Plugin': 37233,\n",
       " 'inen': 42326,\n",
       " 'ĠGM': 6951,\n",
       " 'spot': 20485,\n",
       " 'Ġcolonial': 17091,\n",
       " 'Ġconfirming': 23366,\n",
       " 'ĠDON': 23917,\n",
       " 'ĠFinder': 42500,\n",
       " 'ĠBaton': 38617,\n",
       " 'ĠRHP': 47201,\n",
       " 'Ġawarded': 11343,\n",
       " 'Ġactivate': 15155,\n",
       " 'Ġcoli': 40395,\n",
       " 'Ġdaily': 4445,\n",
       " 'Ġflu': 6562,\n",
       " 'owitz': 20951,\n",
       " 'ĠDV': 29854,\n",
       " 'Ġgreatly': 9257,\n",
       " 'actus': 34144,\n",
       " 'Ġheter': 14445,\n",
       " 'Ġlack': 3092,\n",
       " 'Ġresort': 12600,\n",
       " 'Ġsolicitation': 47770,\n",
       " 'ĠFan': 13836,\n",
       " 'Ġpossess': 8588,\n",
       " 'tions': 45240,\n",
       " 'Ġstrikingly': 47305,\n",
       " 'Ġtheatrical': 32010,\n",
       " 'Context': 21947,\n",
       " '753': 44550,\n",
       " 'Attorney': 46319,\n",
       " 'hod': 2065,\n",
       " 'ĠCrab': 32379,\n",
       " 'Ġfanatic': 43631,\n",
       " 'ĠâĢİ': 24398,\n",
       " 'ATA': 13563,\n",
       " 'ĠBarbar': 45952,\n",
       " 'Capital': 39315,\n",
       " 'xes': 48169,\n",
       " 'kai': 32765,\n",
       " 'Ġio': 33245,\n",
       " 'Ġexorc': 48479,\n",
       " 'ĠHitler': 11908,\n",
       " 'Ġfrustrating': 16655,\n",
       " 'Ġ(>': 45160,\n",
       " 'Ġtwilight': 45493,\n",
       " 'ĠAcross': 27497,\n",
       " 'eur': 23365,\n",
       " 'Ġprincip': 26303,\n",
       " 'Ġvulner': 6222,\n",
       " 'erers': 19288,\n",
       " 'ĠSeal': 26975,\n",
       " 'lings': 17783,\n",
       " 'Ġvigorous': 31543,\n",
       " 'omaly': 24335,\n",
       " 'ubi': 29603,\n",
       " 'ĠBook': 4897,\n",
       " 'ignore': 46430,\n",
       " 'ĠStories': 18152,\n",
       " 'Ġeverything': 2279,\n",
       " 'Ġbeast': 13824,\n",
       " 'national': 14648,\n",
       " 'Ġtedious': 32460,\n",
       " '413': 44103,\n",
       " 'Ġachie': 3302,\n",
       " 'Ġmoderator': 31847,\n",
       " 'Ġonlook': 47747,\n",
       " '%\"': 39658,\n",
       " 'YA': 44947,\n",
       " 'irrel': 22793,\n",
       " 'Ġperforms': 17706,\n",
       " 'ĠMediterranean': 19517,\n",
       " 'Ġglac': 25169,\n",
       " '467': 24669,\n",
       " 'Ġnitrogen': 23417,\n",
       " 'smoking': 48783,\n",
       " 'Ġaimed': 8998,\n",
       " 'Ġparty': 2151,\n",
       " 'uler': 18173,\n",
       " 'Ġtook': 1718,\n",
       " 'ggle': 16444,\n",
       " 'ipper': 14710,\n",
       " 'property': 26745,\n",
       " 'Ġsymptoms': 7460,\n",
       " 'hen': 831,\n",
       " 'ĠAngela': 17799,\n",
       " 'Role': 47445,\n",
       " 'ĠWednesday': 3583,\n",
       " 'ĠBarack': 8732,\n",
       " 'Enlarge': 30952,\n",
       " 'ĠNeutral': 25627,\n",
       " 'Ġreside': 26412,\n",
       " 'oks': 28194,\n",
       " 'ĠPreferred': 31278,\n",
       " 'Ġhomicide': 19625,\n",
       " 'iety': 1905,\n",
       " 'ĠLawn': 46007,\n",
       " 'ĠZion': 16899,\n",
       " 'Ġmonopoly': 22036,\n",
       " 'clair': 27659,\n",
       " 'Ġpublications': 16125,\n",
       " 'Ġbowl': 9396,\n",
       " 'electric': 31067,\n",
       " 'ĠDiego': 9500,\n",
       " 'activate': 39022,\n",
       " 'Ġlawsuits': 17785,\n",
       " 'ppers': 11799,\n",
       " 'Ġadvoc': 5271,\n",
       " 'åĬ': 27950,\n",
       " 'Ġdecline': 7794,\n",
       " 'Ġdet': 1062,\n",
       " 'Ġdioxide': 17556,\n",
       " 'Ġfixes': 13040,\n",
       " 'peat': 18267,\n",
       " 'Ġfunk': 46212,\n",
       " 'ĠStarg': 44393,\n",
       " 'Ġlaw': 1099,\n",
       " 'Ġlistener': 24783,\n",
       " 'Ġpillow': 28774,\n",
       " 'ĠPetersburg': 27051,\n",
       " 'Ġconvert': 10385,\n",
       " 'Ġarchives': 22415,\n",
       " 'ĠHDD': 43601,\n",
       " 'Init': 31768,\n",
       " 'Ġoutbreak': 17645,\n",
       " 'Ġselected': 6163,\n",
       " '+.': 27613,\n",
       " 'Ġtantal': 46937,\n",
       " 'Ġtoy': 13373,\n",
       " 'Understanding': 43467,\n",
       " 'aki': 8182,\n",
       " 'ĠNASCAR': 30774,\n",
       " 'Ġinfantry': 21548,\n",
       " 'existence': 41084,\n",
       " 'ĠNissan': 28190,\n",
       " 'Ġgrind': 20078,\n",
       " 'Ġangles': 18333,\n",
       " 'ĠAlzheimer': 22434,\n",
       " 'Install': 15798,\n",
       " 'Teen': 45639,\n",
       " 'Ġtransm': 21595,\n",
       " 'ĠReligious': 23945,\n",
       " 'Sov': 38574,\n",
       " 'ĠGong': 47142,\n",
       " '222': 23148,\n",
       " 'Ġresponsibility': 5798,\n",
       " 'amsung': 30136,\n",
       " 'sorry': 41599,\n",
       " 'iggurat': 44557,\n",
       " 'ĠExplore': 41401,\n",
       " 'ĠOmaha': 37053,\n",
       " 'termination': 41382,\n",
       " 'Tech': 17760,\n",
       " 'f': 69,\n",
       " 'ĠReturning': 42882,\n",
       " 'ĠWays': 26658,\n",
       " 'Ġammonia': 44957,\n",
       " 'APS': 44580,\n",
       " 'pred': 28764,\n",
       " 'Ġfunc': 25439,\n",
       " 'Ġnests': 44382,\n",
       " 'Ġove': 31471,\n",
       " 'Ross': 38328,\n",
       " 'Ġnoticed': 6810,\n",
       " 'urchase': 18737,\n",
       " 'Ġconsumers': 7008,\n",
       " 'Ġpsychedelic': 34490,\n",
       " 'ĠDrill': 46350,\n",
       " 'Ġcelebrated': 13943,\n",
       " 'ĠHuntington': 40644,\n",
       " 'rep': 7856,\n",
       " 'Ġunsure': 22147,\n",
       " 'Ġto': 284,\n",
       " 'Ġdives': 46638,\n",
       " 'ĠGaga': 42192,\n",
       " 'ĠStain': 39445,\n",
       " 'aughs': 19256,\n",
       " 'etry': 11973,\n",
       " 'ĠPhilips': 46905,\n",
       " 'Ġaccountable': 16689,\n",
       " 'Ġairspace': 34216,\n",
       " 'Catholic': 48919,\n",
       " 'Ġcriterion': 34054,\n",
       " 'Ġshader': 33030,\n",
       " 'Ġconsiderably': 15394,\n",
       " 'Ġsubcontract': 47980,\n",
       " 'Ġcentimeters': 48829,\n",
       " 'nce': 1198,\n",
       " 'ĠAmmunition': 41411,\n",
       " 'ĠForce': 5221,\n",
       " 'storage': 35350,\n",
       " 'Ġmedical': 3315,\n",
       " 'andestine': 35887,\n",
       " 'Ġ254': 35360,\n",
       " 'Ġfilm': 2646,\n",
       " 'otide': 45608,\n",
       " 'ĠGandhi': 22081,\n",
       " 'Ġhop': 1725,\n",
       " 'Ġmagic': 5536,\n",
       " 'Ġcleansing': 32784,\n",
       " 'Ġinward': 29879,\n",
       " 'Ġevolving': 21568,\n",
       " 'Ġsensations': 34129,\n",
       " 'Ġprosecuting': 38242,\n",
       " '233': 25429,\n",
       " 'âĸĪâĸĪâĸĪâĸĪâĸĪâĸĪâĸĪâĸĪ': 49527,\n",
       " 'ĠTN': 29025,\n",
       " 'ĠMichele': 38872,\n",
       " 'Model': 17633,\n",
       " 'Ġaccol': 45667,\n",
       " 'Ġmaster': 4958,\n",
       " 'ĠSPL': 46341,\n",
       " 'ĠShield': 10022,\n",
       " 'Ġgamb': 45756,\n",
       " 'Ġproposed': 5150,\n",
       " 'GT': 19555,\n",
       " 'ĠPowder': 33688,\n",
       " 'Ġmagazine': 7093,\n",
       " 'Ġexists': 7160,\n",
       " 'Ġrpm': 37542,\n",
       " 'standing': 5646,\n",
       " 'ineries': 48858,\n",
       " 'Ġbalancing': 22486,\n",
       " 'ĠEcc': 38308,\n",
       " '840': 40675,\n",
       " 'Ĕ': 208,\n",
       " 'Ġclone': 17271,\n",
       " 'Ġrinse': 42145,\n",
       " 'Ġreducing': 8868,\n",
       " 'ĠMatth': 45524,\n",
       " 'Ġaccomplishment': 29340,\n",
       " 'Ġair': 1633,\n",
       " 'usercontent': 43667,\n",
       " 'Ġcommod': 13088,\n",
       " 'Ġlisted': 5610,\n",
       " 'Ġstaples': 46413,\n",
       " 'ID': 2389,\n",
       " 'ĠFOX': 19912,\n",
       " 'aimon': 49438,\n",
       " 'Ġkay': 34681,\n",
       " 'Ġants': 27842,\n",
       " 'Ġcampaign': 1923,\n",
       " 'heimer': 16288,\n",
       " 'ĠJenner': 39760,\n",
       " 'Ġsands': 30959,\n",
       " 'ed': 276,\n",
       " 'BLE': 19146,\n",
       " 'ĠPremier': 9952,\n",
       " 'ĠOrche': 30369,\n",
       " 'Ġclarify': 18282,\n",
       " 'Ġchart': 8262,\n",
       " 'Ġnest': 16343,\n",
       " 'Ġpouch': 36594,\n",
       " 'quickShip': 39752,\n",
       " 'ĠMalf': 32197,\n",
       " 'Ġdiamonds': 30984,\n",
       " 'Ġclinch': 45963,\n",
       " 'ĠCodes': 44380,\n",
       " 'ĠJays': 23288,\n",
       " 'Ġproclaiming': 46431,\n",
       " 'null': 8423,\n",
       " 'ĠAffairs': 10665,\n",
       " 'pleted': 16838,\n",
       " 'istani': 16688,\n",
       " 'wich': 11451,\n",
       " 'Ġcurves': 23759,\n",
       " '»Ĵ': 36596,\n",
       " 'Ġevaluates': 47850,\n",
       " 'Ġridiculed': 47263,\n",
       " 'Ġuns': 5576,\n",
       " 'Ġinfluences': 16717,\n",
       " 'ozo': 45149,\n",
       " 'ĠPress': 4332,\n",
       " 'ĠWebs': 47736,\n",
       " 'ĠLabor': 7882,\n",
       " 'Ġshutting': 25136,\n",
       " 'ĠComb': 14336,\n",
       " 'Vi': 38432,\n",
       " 'pour': 48681,\n",
       " 'ĠExercise': 32900,\n",
       " 'Ġconspiring': 50186,\n",
       " 'Ġsocialist': 15889,\n",
       " '701': 41583,\n",
       " 'Ġelectronics': 17075,\n",
       " 'Ġsouth': 5366,\n",
       " 'ĠRange': 13667,\n",
       " '790': 37750,\n",
       " 'ĠTimothy': 22283,\n",
       " 'Ġscrut': 12054,\n",
       " 'Ġwield': 15445,\n",
       " 'cffff': 31727,\n",
       " 'Ġ}': 1782,\n",
       " 'Ġcleared': 12539,\n",
       " 'Ġconstituents': 22573,\n",
       " 'ensive': 2021,\n",
       " 'Ġunrelated': 19938,\n",
       " 'ĠPrevent': 31572,\n",
       " 'ĠInsert': 35835,\n",
       " 'ĠHab': 19654,\n",
       " 'Ġconcedes': 49867,\n",
       " 'Vaults': 33937,\n",
       " 'usra': 28352,\n",
       " 'master': 9866,\n",
       " 'ĠRequ': 9394,\n",
       " 'Ġexpressed': 6241,\n",
       " 'Ġinterfere': 18135,\n",
       " 'Ġmetres': 18985,\n",
       " 'Ġutilize': 17624,\n",
       " 'Ġvantage': 47929,\n",
       " 'Ġridden': 46715,\n",
       " 'Ġtension': 12097,\n",
       " 'ĠRogue': 16432,\n",
       " 'Ġairports': 22600,\n",
       " 'ĠCNN': 8100,\n",
       " 'OOOO': 23803,\n",
       " 'azes': 36096,\n",
       " 'Ġprofess': 2992,\n",
       " 'English': 15823,\n",
       " 'TM': 15972,\n",
       " 'tank': 28451,\n",
       " 'nexpected': 42072,\n",
       " '855': 45432,\n",
       " 'Ġ06': 9130,\n",
       " 'WT': 39386,\n",
       " 'omination': 27744,\n",
       " 'ĠSeller': 46555,\n",
       " 'ally': 453,\n",
       " 'ĠThermal': 41590,\n",
       " 'uous': 5623,\n",
       " 'Ġextinction': 21935,\n",
       " 'Ġreplication': 30330,\n",
       " 'ivation': 26939,\n",
       " 'ĠDad': 17415,\n",
       " 'Ġpads': 21226,\n",
       " 'ĠIndy': 26023,\n",
       " 'Ġeliminating': 18591,\n",
       " 'Ġinformative': 30304,\n",
       " 'EL': 3698,\n",
       " 'oted': 5191,\n",
       " 'ĠStarCraft': 38460,\n",
       " 'Ġchances': 8395,\n",
       " 'Dri': 20564,\n",
       " 'Ã©s': 20954,\n",
       " 'Ġ21': 2310,\n",
       " 'ĠQur': 17599,\n",
       " 'ĠExplosive': 48178,\n",
       " 'Ġretake': 41754,\n",
       " 'Ġprivatization': 41110,\n",
       " 'Ġcentres': 19788,\n",
       " 'ï¿½ï¿½': 6353,\n",
       " 'Ġeagerly': 30130,\n",
       " 'Ġ1400': 36641,\n",
       " 'Ġcrowdfunding': 33851,\n",
       " 'sie': 44524,\n",
       " 'ĠHarbaugh': 39944,\n",
       " 'ĠLabrador': 45246,\n",
       " 'Ġlevy': 35783,\n",
       " 'Ġliable': 17583,\n",
       " 'Ġromantic': 14348,\n",
       " 'Ġ1989': 11104,\n",
       " 'ĠMoral': 39020,\n",
       " 'ĠSW': 12672,\n",
       " 'Ġadvocacy': 15364,\n",
       " 'Ġcouple': 3155,\n",
       " '693': 48528,\n",
       " 'het': 3202,\n",
       " 'ĠLeader': 10540,\n",
       " 'ĠMigration': 36991,\n",
       " 'Ġactivists': 7941,\n",
       " 'Ġhave': 423,\n",
       " 'Dual': 36248,\n",
       " 'Ġheadsets': 44257,\n",
       " 'Ġimposed': 10893,\n",
       " 'Ġjihadist': 32384,\n",
       " 'Ġtooltip': 49472,\n",
       " 'ĠExtended': 24204,\n",
       " 'ĠLaz': 22807,\n",
       " 'Ġhesitant': 32848,\n",
       " 'Ġreinforced': 23738,\n",
       " 'ĠDe': 1024,\n",
       " 'Ġhydra': 25039,\n",
       " 'later': 36760,\n",
       " 'Planet': 41801,\n",
       " 'puff': 49357,\n",
       " 'Ġisolation': 15133,\n",
       " 'ĠTrave': 43662,\n",
       " 'Ġhonored': 21014,\n",
       " 'Send': 25206,\n",
       " 'Ġserve': 4691,\n",
       " 'Ġcane': 33009,\n",
       " 'Ġarmies': 18837,\n",
       " 'hub': 40140,\n",
       " 'Ġconclud': 5392,\n",
       " 'Ġessays': 27126,\n",
       " 'bees': 41712,\n",
       " 'ĠNewspaper': 49598,\n",
       " 'Ġaccept': 2453,\n",
       " 'ĠQuad': 20648,\n",
       " 'Ġabandon': 6871,\n",
       " 'ĠRetirement': 41863,\n",
       " 'auna': 32837,\n",
       " 'Ġcompetence': 31450,\n",
       " 'olia': 22703,\n",
       " 'Ġdivision': 7297,\n",
       " 'Ġmanipulation': 17512,\n",
       " 'agh': 10471,\n",
       " 'ĠFranz': 38323,\n",
       " 'Ġcommonly': 8811,\n",
       " 'ĠYards': 42673,\n",
       " 'Ġatt': 708,\n",
       " 'ĠRELEASE': 46492,\n",
       " 'arc': 5605,\n",
       " 'ĠDownload': 10472,\n",
       " 'ĠIranian': 10704,\n",
       " 'Ġoptimized': 23392,\n",
       " 'Ġfulfillment': 32402,\n",
       " 'Wars': 41508,\n",
       " 'Moving': 33622,\n",
       " 'ĠServer': 9652,\n",
       " 'Ġtreatment': 3513,\n",
       " 'Michael': 13256,\n",
       " 'Tool': 25391,\n",
       " 'rises': 26064,\n",
       " 'Ġimpression': 10647,\n",
       " 'ĠSlim': 34199,\n",
       " 'Ġswath': 50176,\n",
       " 'ĠInitiative': 18362,\n",
       " 'ĠWithout': 9170,\n",
       " 'settings': 33692,\n",
       " 'Ġexiting': 33895,\n",
       " 'Ġmixed': 7668,\n",
       " 'Theme': 47863,\n",
       " 'Ġtourism': 19277,\n",
       " 'Ġbreast': 9296,\n",
       " \"Ġ('\": 19203,\n",
       " 'Ġinnovative': 13097,\n",
       " 'Ġ211': 28714,\n",
       " 'ĠAlz': 21535,\n",
       " 'Ġheadache': 24902,\n",
       " 'Ġchest': 7721,\n",
       " 'Ġbreadth': 32483,\n",
       " 'Ġfixme': 45199,\n",
       " 'Ġladder': 18002,\n",
       " 'war': 5767,\n",
       " 'ĠNAT': 10149,\n",
       " 'iled': 3902,\n",
       " 'Ġstatically': 47746,\n",
       " 'Ġ},': 8964,\n",
       " 'ĠXuan': 37746,\n",
       " 'tree': 21048,\n",
       " 'WE': 8845,\n",
       " 'ara': 3301,\n",
       " 'ombat': 41628,\n",
       " 'Ġfelony': 14544,\n",
       " 'Ġpregnancy': 10241,\n",
       " 'Ġrooted': 19459,\n",
       " 'ĠSamson': 47977,\n",
       " 'Ġinterrog': 15054,\n",
       " 'astern': 6470,\n",
       " 'ĠMar': 1526,\n",
       " 'ĠPenguins': 29755,\n",
       " 'ĠFlow': 27782,\n",
       " 'Ask': 25214,\n",
       " 'ĠBa': 8999,\n",
       " 'ãĤ¯': 14099,\n",
       " 'ĠKeep': 9175,\n",
       " 'Ġsans': 38078,\n",
       " 'available': 15182,\n",
       " 'ĠRules': 14252,\n",
       " 'ĠEn': 2039,\n",
       " 'ĠCull': 31289,\n",
       " 'dependent': 21186,\n",
       " 'ĠHomeless': 47706,\n",
       " 'ĠNK': 46465,\n",
       " 'ĠStru': 34887,\n",
       " 'ĠTracks': 42259,\n",
       " 'Ġhold': 1745,\n",
       " 'Ġlieu': 32267,\n",
       " 'Ġmetaphors': 49610,\n",
       " 'Ġoath': 17865,\n",
       " 'arthed': 36370,\n",
       " 'Ġres': 581,\n",
       " 'Ġemail': 3053,\n",
       " 'Ġcave': 11527,\n",
       " 'ĠWizard': 16884,\n",
       " 'Ġappearance': 5585,\n",
       " 'Ġresidual': 29598,\n",
       " 'Ġthrottle': 29976,\n",
       " 'Ġxml': 35555,\n",
       " 'goo': 42469,\n",
       " 'ass': 562,\n",
       " 'ĠHello': 18435,\n",
       " 'nesty': 18718,\n",
       " 'Ġblade': 11865,\n",
       " 'eman': 8463,\n",
       " 'ĠDorothy': 40349,\n",
       " 'annah': 25761,\n",
       " 'AD': 2885,\n",
       " 'å¯': 43380,\n",
       " 'Ġregimen': 37086,\n",
       " 'Road': 29197,\n",
       " 'Ġcoping': 35326,\n",
       " 'Ġpatrols': 34141,\n",
       " 'Ġstamps': 25560,\n",
       " 'Ġemerged': 9349,\n",
       " 'lol': 47288,\n",
       " 'ĠWhere': 6350,\n",
       " 'ĠGat': 29074,\n",
       " 'oning': 12484,\n",
       " 'ĠWhitman': 47958,\n",
       " 'Ġenraged': 37530,\n",
       " 'Ġvisionary': 41740,\n",
       " 'ĠNe': 3169,\n",
       " 'Ġadmission': 13938,\n",
       " 'Ġstaged': 23393,\n",
       " 'ĠWak': 46033,\n",
       " 'Exp': 16870,\n",
       " 'Again': 15316,\n",
       " 'Fair': 30099,\n",
       " 'Ġsavior': 47921,\n",
       " 'Ġassassin': 31120,\n",
       " 'izes': 4340,\n",
       " 'ĠCO': 7375,\n",
       " 'Ġepist': 34795,\n",
       " 'Ġtriggering': 26555,\n",
       " '647': 33981,\n",
       " 'ardy': 39124,\n",
       " 'MY': 26708,\n",
       " 'client': 16366,\n",
       " 'ĠAthen': 18001,\n",
       " 'the': 1169,\n",
       " 'Ġcompositions': 33543,\n",
       " 'iOS': 35742,\n",
       " 'Ġdecl': 2377,\n",
       " 'Pod': 41565,\n",
       " 'Ġfists': 33053,\n",
       " 'Ġeasiest': 16638,\n",
       " 'plementation': 32851,\n",
       " 'ĠDealer': 44480,\n",
       " 'ĠDarkness': 16306,\n",
       " 'ĠStartup': 40472,\n",
       " 'ĠNG': 39058,\n",
       " 'Ġwob': 46867,\n",
       " 'ĠASIC': 48445,\n",
       " 'ĠShit': 41356,\n",
       " 'tm': 17209,\n",
       " 'cluded': 10341,\n",
       " 'ĠDiaz': 26899,\n",
       " 'ĠFILE': 45811,\n",
       " 'Ġdashboard': 30415,\n",
       " 'Ġremained': 6150,\n",
       " 'ĠTanaka': 47825,\n",
       " 'Protect': 41426,\n",
       " 'leaf': 33201,\n",
       " 'Ġclub': 3430,\n",
       " 'Ġindemn': 47846,\n",
       " 'Ġadaptive': 29605,\n",
       " 'Ġsourced': 18229,\n",
       " 'ĠKlu': 41269,\n",
       " 'ĠPric': 35077,\n",
       " 'ĠGrave': 36424,\n",
       " 'OLD': 15173,\n",
       " 'Ġanimation': 11034,\n",
       " 'Ġspices': 27952,\n",
       " 'Ġskin': 4168,\n",
       " 'GE': 8264,\n",
       " 'ĠDeputy': 15110,\n",
       " '699': 47325,\n",
       " 'num': 22510,\n",
       " 'ĠMale': 12674,\n",
       " 'Ġcrab': 32202,\n",
       " 'Ġslept': 21256,\n",
       " 'ittance': 47912,\n",
       " 'ĠPepsi': 38428,\n",
       " 'Ġsurvive': 7866,\n",
       " 'offs': 8210,\n",
       " 'ĠHeath': 25846,\n",
       " 'tu': 28047,\n",
       " 'Ġhosting': 13662,\n",
       " 'Ġrang': 28077,\n",
       " 'Ġsmartphone': 11745,\n",
       " 'Ġsovereign': 18901,\n",
       " 'Ġte': 573,\n",
       " 'ģ«': 43769,\n",
       " 'ĠJen': 13364,\n",
       " '471': 38339,\n",
       " 'Ġcarpet': 20710,\n",
       " 'ĠFukushima': 34170,\n",
       " 'IM': 3955,\n",
       " 'iversary': 9023,\n",
       " 'ĠLORD': 35750,\n",
       " 'ĠSettlement': 45404,\n",
       " 'ITCH': 31949,\n",
       " 'Ġchef': 21221,\n",
       " 'Ġjab': 33896,\n",
       " 'âĶ': 6552,\n",
       " 'ĠHin': 29094,\n",
       " 'ĠPlayoff': 41325,\n",
       " 'Ġneighbouring': 29272,\n",
       " 'ae': 3609,\n",
       " 'aphael': 34889,\n",
       " 'Ġerotic': 32739,\n",
       " 'ho': 8873,\n",
       " 'Ġdiesel': 21866,\n",
       " 'Ġconquest': 29179,\n",
       " 'ĠHos': 30789,\n",
       " 'ĠKitty': 21168,\n",
       " 'ĠProvision': 43161,\n",
       " 'Ġguru': 35730,\n",
       " 'Ġstandardized': 25713,\n",
       " 'ĠRiley': 22637,\n",
       " 'ĠLol': 44841,\n",
       " 'ĠBoots': 28807,\n",
       " 'Ġlions': 31420,\n",
       " 'Ġimitate': 44638,\n",
       " 'Ġonly': 691,\n",
       " 'ĠPKK': 35176,\n",
       " 'Ġausterity': 22518,\n",
       " 'ĠMaya': 26041,\n",
       " 'ĠSel': 15300,\n",
       " 'Ġriches': 35000,\n",
       " 'ú': 182,\n",
       " 'ĠHit': 7286,\n",
       " 'export': 39344,\n",
       " 'ĠFedora': 32245,\n",
       " 'Deploy': 49322,\n",
       " 'ĠTemper': 48125,\n",
       " 'Ġusable': 24284,\n",
       " 'bishop': 27832,\n",
       " 'require': 46115,\n",
       " 'ĠAbilities': 31447,\n",
       " 'herry': 13372,\n",
       " 'razen': 36409,\n",
       " 'ĠKil': 19902,\n",
       " 'Kn': 25095,\n",
       " 'mic': 9383,\n",
       " 'z': 89,\n",
       " 'ĠBr': 1709,\n",
       " 'ĠCharity': 37575,\n",
       " 'ĠCombat': 14487,\n",
       " 'ĠMeat': 19145,\n",
       " 'Ġcarbs': 33037,\n",
       " 'Mount': 35452,\n",
       " 'ĠSolution': 28186,\n",
       " 'Ġimprovements': 8561,\n",
       " 'Ġmenu': 6859,\n",
       " 'Ġprophes': 48897,\n",
       " 'Ġscen': 4408,\n",
       " 'Men': 10418,\n",
       " 'UV': 31667,\n",
       " 'oreal': 39396,\n",
       " 'Ġ1600': 26143,\n",
       " 'ĠWitt': 38005,\n",
       " 'Ġdeduction': 24374,\n",
       " 'ected': 11197,\n",
       " 'Ġ................': 44713,\n",
       " 'ĠSyndrome': 27109,\n",
       " 'Ġslut': 33526,\n",
       " 'produ': 18230,\n",
       " 'secondary': 38238,\n",
       " 'ĠSad': 14668,\n",
       " 'Ġchained': 40682,\n",
       " 'vere': 4119,\n",
       " '549': 44966,\n",
       " 'ublished': 33286,\n",
       " '794': 50242,\n",
       " 'ĠBoris': 25026,\n",
       " 'Ġbasics': 19165,\n",
       " 'Ġcooperation': 11113,\n",
       " 'girls': 36960,\n",
       " '::': 3712,\n",
       " 'orted': 9741,\n",
       " 'pher': 17042,\n",
       " 'Î¹': 29945,\n",
       " 'ĠFirefly': 40374,\n",
       " 'resident': 8154,\n",
       " 'wrap': 37150,\n",
       " 'ĠLev': 16042,\n",
       " 'Ġpictures': 5986,\n",
       " 'Ġdeities': 43844,\n",
       " 'ĠCompatibility': 46021,\n",
       " 'ense': 1072,\n",
       " 'ĠRandolph': 39845,\n",
       " 'IDER': 41237,\n",
       " 'olitical': 13781,\n",
       " 'ĠJR': 32598,\n",
       " 'Ġgrasp': 13180,\n",
       " 'OW': 3913,\n",
       " 'ĠTaylor': 8121,\n",
       " 'Ġgroundwater': 34573,\n",
       " 'ĠCoinbase': 45802,\n",
       " 'Ġbehaving': 37722,\n",
       " 'Ġles': 10287,\n",
       " 'Ton': 35416,\n",
       " '<?': 47934,\n",
       " 'Ġmort': 5596,\n",
       " 'GU': 38022,\n",
       " 'Ġpard': 41746,\n",
       " 'Ġpeace': 4167,\n",
       " 'ĠKnot': 42572,\n",
       " 'Ġcaut': 17258,\n",
       " 'conom': 1519,\n",
       " 'Ġpersistence': 30802,\n",
       " 'Ġretailers': 16167,\n",
       " 'Australian': 38036,\n",
       " 'ĠReached': 13618,\n",
       " 'ĠWP': 28993,\n",
       " 'Ġcomplainant': 42764,\n",
       " 'dead': 25124,\n",
       " 'Ġinstrument': 8875,\n",
       " 'Ġplanting': 26630,\n",
       " 'Ġviolet': 45725,\n",
       " 'Ġleads': 5983,\n",
       " 'Phoenix': 36422,\n",
       " 'Tw': 5080,\n",
       " 'ĠVoy': 23020,\n",
       " 'araoh': 33766,\n",
       " 'Ġprism': 46475,\n",
       " 'Ġpus': 4192,\n",
       " 'TIME': 34694,\n",
       " 'Ġconscientious': 47963,\n",
       " 'Ġlower': 2793,\n",
       " 'JB': 47858,\n",
       " 'Box': 14253,\n",
       " 'Ġbottleneck': 49936,\n",
       " 'c': 66,\n",
       " 'Ġfolks': 7974,\n",
       " 'Ġtrains': 13404,\n",
       " 'ĠLaunch': 21225,\n",
       " '87': 5774,\n",
       " 'ensional': 37176,\n",
       " 'elled': 11978,\n",
       " 'Ġappreciate': 9144,\n",
       " 'Ġcounts': 9853,\n",
       " 'Object': 10267,\n",
       " 'asin': 47337,\n",
       " 'attr': 35226,\n",
       " 'ĠPompe': 36103,\n",
       " 'default': 12286,\n",
       " 'gey': 39608,\n",
       " 'ĠShadows': 18037,\n",
       " 'Ġleans': 39416,\n",
       " 'Ġunnatural': 33975,\n",
       " 'Ġpointers': 32007,\n",
       " 'apult': 41387,\n",
       " 'Ġcompelling': 13206,\n",
       " 'ĠDawn': 12258,\n",
       " 'ĠVariety': 39143,\n",
       " 'ĠStrikes': 37836,\n",
       " 'Ġqueen': 16599,\n",
       " 'ĠRip': 29496,\n",
       " 'DES': 30910,\n",
       " 'Cat': 21979,\n",
       " 'ĠSOM': 42121,\n",
       " 'Ġmineral': 18352,\n",
       " 'Ġmigr': 15720,\n",
       " 'Then': 6423,\n",
       " 'ĠLeadership': 26935,\n",
       " 'Ġamendment': 11326,\n",
       " 'ĠDT': 24311,\n",
       " 'ĠHeard': 49417,\n",
       " 'ington': 9557,\n",
       " 'Ġremoved': 4615,\n",
       " 'Ġhighlights': 11330,\n",
       " 'WARD': 39743,\n",
       " 'ĠBoston': 6182,\n",
       " 'Ġfucking': 9372,\n",
       " 'Ġwidow': 27075,\n",
       " 'Ġexponent': 28622,\n",
       " 'last': 12957,\n",
       " 'Ġinterested': 4609,\n",
       " 'ameda': 49637,\n",
       " 'Ġemanc': 37672,\n",
       " 'insula': 16495,\n",
       " 'inged': 24431,\n",
       " 'First': 5962,\n",
       " 'ĠBene': 36585,\n",
       " 'ĠHumans': 27411,\n",
       " 'Ġcs': 50115,\n",
       " 'ikk': 36073,\n",
       " 'ãĤµ': 26503,\n",
       " 'Ġdisappears': 27934,\n",
       " 'ĠArena': 10937,\n",
       " 'Ġmanifestations': 38538,\n",
       " '51': 4349,\n",
       " 'Ġmissions': 10566,\n",
       " 'ĠGrimoire': 43077,\n",
       " 'iton': 37752,\n",
       " 'CAP': 33177,\n",
       " 'Ġgraduates': 19087,\n",
       " 'Ġjewel': 16927,\n",
       " 'MK': 33907,\n",
       " 'Ġperpetrated': 35524,\n",
       " 'ĠPres': 1763,\n",
       " 'ĠEven': 3412,\n",
       " 'Ġwhisper': 31992,\n",
       " 'Ġhitters': 34113,\n",
       " 'ĠDota': 30710,\n",
       " 'ĠBrooklyn': 12232,\n",
       " 'okes': 3369,\n",
       " 'ĠEstimates': 47052,\n",
       " 'Ġfooled': 35820,\n",
       " 'ectar': 44504,\n",
       " 'Ġphotographs': 12566,\n",
       " 'Ġautomatic': 11353,\n",
       " 'exempt': 42679,\n",
       " 'hack': 31153,\n",
       " 'ĠHath': 36556,\n",
       " 'Ġforwarding': 43448,\n",
       " '.\"': 526,\n",
       " 'ĠBattles': 25467,\n",
       " 'ĠVortex': 49790,\n",
       " 'Ġflash': 7644,\n",
       " 'ĠCarpenter': 32659,\n",
       " '2004': 15724,\n",
       " 'Ġlonger': 2392,\n",
       " 'Ġacoustic': 26071,\n",
       " 'Ġnations': 7027,\n",
       " 'ago': 3839,\n",
       " 'script': 12048,\n",
       " 'ĠYear': 6280,\n",
       " 'Companies': 49111,\n",
       " 'Ġdistortion': 25100,\n",
       " 'Blade': 47520,\n",
       " 'ĠManufacturer': 40218,\n",
       " '2016': 5304,\n",
       " 'ÃĥÃĤÃĥÃĤÃĥÃĤÃĥÃĤÃĥÃĤÃĥÃĤÃĥÃĤÃĥÃĤ': 14827,\n",
       " 'Arthur': 29874,\n",
       " 'Commercial': 48401,\n",
       " 'Sure': 19457,\n",
       " 'cluding': 6360,\n",
       " 'ĠXie': 48989,\n",
       " 'Ġsingles': 25287,\n",
       " 'Ġyounger': 7099,\n",
       " 'ĠâĸĪ': 23287,\n",
       " 'ĠAmir': 43931,\n",
       " 'Ġcompliance': 11846,\n",
       " 'heard': 23636,\n",
       " 'ĠMelbourne': 14819,\n",
       " 'Ġevolves': 43576,\n",
       " 'Ġimplicit': 16992,\n",
       " 'Grand': 23581,\n",
       " 'science': 16801,\n",
       " 'seekers': 47971,\n",
       " 'Larry': 42918,\n",
       " 'Ġupon': 2402,\n",
       " 'uphem': 45640,\n",
       " 'ĠCIA': 7688,\n",
       " 'ley': 1636,\n",
       " 'ĠFramework': 25161,\n",
       " 'Ġcounseling': 21951,\n",
       " 'Ġrefinery': 44133,\n",
       " 'Ġstatues': 25827,\n",
       " 'adesh': 13410,\n",
       " 'Ġwiring': 29477,\n",
       " 'ĠTroy': 21439,\n",
       " 'Ġfate': 10030,\n",
       " 'mens': 45535,\n",
       " 'ĠIntellectual': 42443,\n",
       " 'Ġcz': 24785,\n",
       " 'ĠBur': 5481,\n",
       " 'call': 13345,\n",
       " 'cision': 16005,\n",
       " 'Ġabolish': 35531,\n",
       " 'ĠLimits': 44943,\n",
       " 'Ġdiabetes': 12593,\n",
       " 'mc': 23209,\n",
       " 'Ġsaline': 47375,\n",
       " 'Next': 10019,\n",
       " 'ĠOrganic': 31734,\n",
       " 'Ġcrossover': 27668,\n",
       " 'Ġlos': 22346,\n",
       " 'Ġsuspensions': 47228,\n",
       " 'ĠBeck': 11739,\n",
       " 'ech': 3055,\n",
       " 'orde': 17531,\n",
       " 'ĠChallenger': 39221,\n",
       " 'Ġinfluenza': 29491,\n",
       " 'Ġexploded': 18750,\n",
       " 'ĠMajority': 22171,\n",
       " 'Ġoutward': 23537,\n",
       " 'ĠUr': 8799,\n",
       " ...}"
      ]
     },
     "execution_count": 44,
     "metadata": {},
     "output_type": "execute_result"
    }
   ],
   "source": [
    "gpt_vocab"
   ]
  },
  {
   "cell_type": "code",
   "execution_count": 45,
   "id": "f84bedd4-201e-4567-b2e6-43719f43b691",
   "metadata": {},
   "outputs": [
    {
     "data": {
      "text/plain": [
       "['!?\"', 'anguages', 'raising', 'ĠInternet', 'itent']"
      ]
     },
     "execution_count": 45,
     "metadata": {},
     "output_type": "execute_result"
    }
   ],
   "source": [
    "list(gpt_vocab)[:5]"
   ]
  },
  {
   "cell_type": "code",
   "execution_count": 46,
   "id": "4054b014-dfa3-4143-8e2c-c3ca6248fcbc",
   "metadata": {},
   "outputs": [
    {
     "data": {
      "text/plain": [
       "['ĠPercent', 'ĠNRA']"
      ]
     },
     "execution_count": 46,
     "metadata": {},
     "output_type": "execute_result"
    }
   ],
   "source": [
    "list(gpt_vocab)[-2:]"
   ]
  },
  {
   "cell_type": "code",
   "execution_count": 47,
   "id": "f540ad32-f2ed-4301-affe-e4d194032c55",
   "metadata": {},
   "outputs": [
    {
     "data": {
      "text/plain": [
       "True"
      ]
     },
     "execution_count": 47,
     "metadata": {},
     "output_type": "execute_result"
    }
   ],
   "source": [
    "'<|endoftext|>' in gpt_vocab"
   ]
  },
  {
   "cell_type": "code",
   "execution_count": 48,
   "id": "04fa25ad-6fe0-461c-83c5-992ea2f9c19d",
   "metadata": {},
   "outputs": [
    {
     "data": {
      "text/plain": [
       "50256"
      ]
     },
     "execution_count": 48,
     "metadata": {},
     "output_type": "execute_result"
    }
   ],
   "source": [
    "gpt_vocab['<|endoftext|>']"
   ]
  },
  {
   "cell_type": "markdown",
   "id": "02c4ae20-00a6-4226-8140-d4ab90551f2f",
   "metadata": {},
   "source": [
    "#### Letter casing"
   ]
  },
  {
   "cell_type": "code",
   "execution_count": 49,
   "id": "44f16120-080e-4100-b980-3006ef70f3df",
   "metadata": {},
   "outputs": [
    {
     "data": {
      "text/plain": [
       "64"
      ]
     },
     "execution_count": 49,
     "metadata": {},
     "output_type": "execute_result"
    }
   ],
   "source": [
    "gpt_vocab['a']"
   ]
  },
  {
   "cell_type": "code",
   "execution_count": 50,
   "id": "b1513bd1-86a2-4d2c-b7d5-92b005bad880",
   "metadata": {},
   "outputs": [
    {
     "data": {
      "text/plain": [
       "32"
      ]
     },
     "execution_count": 50,
     "metadata": {},
     "output_type": "execute_result"
    }
   ],
   "source": [
    "gpt_vocab['A']"
   ]
  },
  {
   "cell_type": "code",
   "execution_count": null,
   "id": "dccfebb0-7c41-4d4d-8b6b-f6dc2fea004e",
   "metadata": {},
   "outputs": [],
   "source": []
  },
  {
   "cell_type": "markdown",
   "id": "1210360a-68bf-4326-8b6d-6485aa56159d",
   "metadata": {},
   "source": [
    "### Encode"
   ]
  },
  {
   "cell_type": "code",
   "execution_count": 51,
   "id": "1e3c2417-a8c2-4db8-a6cf-175342967357",
   "metadata": {},
   "outputs": [],
   "source": [
    "gpt_encoded = gpt_tokenizer.encode(sequence=test1, pair=test2)"
   ]
  },
  {
   "cell_type": "code",
   "execution_count": 52,
   "id": "be7d53c8-9b60-4c4d-8a53-c0c59d090e6f",
   "metadata": {},
   "outputs": [
    {
     "data": {
      "text/plain": [
       "[15496,\n",
       " 11,\n",
       " 466,\n",
       " 345,\n",
       " 588,\n",
       " 8887,\n",
       " 30,\n",
       " 818,\n",
       " 262,\n",
       " 4252,\n",
       " 18250,\n",
       " 8812,\n",
       " 2114,\n",
       " 286,\n",
       " 262,\n",
       " 20562,\n",
       " 13]"
      ]
     },
     "execution_count": 52,
     "metadata": {},
     "output_type": "execute_result"
    }
   ],
   "source": [
    "gpt_encoded.ids"
   ]
  },
  {
   "cell_type": "code",
   "execution_count": 53,
   "id": "e7da6abd-30b7-4231-9ef0-ac99344877bf",
   "metadata": {},
   "outputs": [
    {
     "data": {
      "text/plain": [
       "[1, 1, 1, 1, 1, 1, 1, 1, 1, 1, 1, 1, 1, 1, 1, 1, 1]"
      ]
     },
     "execution_count": 53,
     "metadata": {},
     "output_type": "execute_result"
    }
   ],
   "source": [
    "gpt_encoded.attention_mask"
   ]
  },
  {
   "cell_type": "code",
   "execution_count": 54,
   "id": "542c579e-2dbd-42e9-ab46-fd3d46d6fdf2",
   "metadata": {},
   "outputs": [
    {
     "data": {
      "text/plain": [
       "[0, 0, 0, 0, 0, 0, 0, 1, 1, 1, 1, 1, 1, 1, 1, 1, 1]"
      ]
     },
     "execution_count": 54,
     "metadata": {},
     "output_type": "execute_result"
    }
   ],
   "source": [
    "# sentence1, sentence2\n",
    "gpt_encoded.sequence_ids"
   ]
  },
  {
   "cell_type": "code",
   "execution_count": 55,
   "id": "42d75743-b27e-4438-a88e-96402a7969eb",
   "metadata": {},
   "outputs": [
    {
     "data": {
      "text/plain": [
       "[0, 1, 2, 3, 4, 5, 6, 0, 1, 2, 2, 3, 3, 4, 5, 6, 7]"
      ]
     },
     "execution_count": 55,
     "metadata": {},
     "output_type": "execute_result"
    }
   ],
   "source": [
    "gpt_encoded.word_ids"
   ]
  },
  {
   "cell_type": "code",
   "execution_count": 56,
   "id": "b7e352d1-7cb0-4b35-ae5e-6d13f8032c82",
   "metadata": {},
   "outputs": [
    {
     "data": {
      "text/plain": [
       "['Hello',\n",
       " ',',\n",
       " 'Ġdo',\n",
       " 'Ġyou',\n",
       " 'Ġlike',\n",
       " 'Ġtea',\n",
       " '?',\n",
       " 'In',\n",
       " 'Ġthe',\n",
       " 'Ġsun',\n",
       " 'lit',\n",
       " 'Ġterr',\n",
       " 'aces',\n",
       " 'Ġof',\n",
       " 'Ġthe',\n",
       " 'Ġpalace',\n",
       " '.']"
      ]
     },
     "execution_count": 56,
     "metadata": {},
     "output_type": "execute_result"
    }
   ],
   "source": [
    "gpt_encoded.tokens"
   ]
  },
  {
   "cell_type": "code",
   "execution_count": 57,
   "id": "000cb4bb-2068-41bc-b7d7-662f9266339a",
   "metadata": {},
   "outputs": [
    {
     "data": {
      "text/plain": [
       "[0, 0, 0, 0, 0, 0, 0, 1, 1, 1, 1, 1, 1, 1, 1, 1, 1]"
      ]
     },
     "execution_count": 57,
     "metadata": {},
     "output_type": "execute_result"
    }
   ],
   "source": [
    "gpt_encoded.type_ids"
   ]
  },
  {
   "cell_type": "markdown",
   "id": "85ba96b5-2031-480c-891c-c623070658d9",
   "metadata": {},
   "source": [
    "#### Offsets for alignment tracking"
   ]
  },
  {
   "cell_type": "code",
   "execution_count": 58,
   "id": "c4a07950-af5c-410f-a2e2-294249034b0e",
   "metadata": {},
   "outputs": [
    {
     "data": {
      "text/plain": [
       "[(0, 5),\n",
       " (5, 6),\n",
       " (6, 9),\n",
       " (9, 13),\n",
       " (13, 18),\n",
       " (18, 22),\n",
       " (22, 23),\n",
       " (0, 2),\n",
       " (2, 6),\n",
       " (6, 10),\n",
       " (10, 13),\n",
       " (13, 18),\n",
       " (18, 22),\n",
       " (22, 25),\n",
       " (25, 29),\n",
       " (29, 36),\n",
       " (36, 37)]"
      ]
     },
     "execution_count": 58,
     "metadata": {},
     "output_type": "execute_result"
    }
   ],
   "source": [
    "gpt_encoded.offsets"
   ]
  },
  {
   "cell_type": "code",
   "execution_count": 59,
   "id": "3cfebb80-a782-4474-8369-58afb713a951",
   "metadata": {},
   "outputs": [
    {
     "name": "stdout",
     "output_type": "stream",
     "text": [
      "Hello\n",
      ",\n",
      " do\n",
      " you\n",
      " like\n",
      " tea\n",
      "?\n",
      "He\n",
      "llo,\n",
      " do \n",
      "you\n",
      " like\n",
      " tea\n",
      "?In\n",
      " the\n",
      " sunlit\n",
      " \n"
     ]
    }
   ],
   "source": [
    "sentence =  \"\".join([test1, test2])\n",
    "for (i, j) in gpt_encoded.offsets:\n",
    "    \n",
    "    print(sentence[i:j])"
   ]
  },
  {
   "cell_type": "markdown",
   "id": "7613f7bd-f90a-492f-924a-811b76bdbb40",
   "metadata": {},
   "source": [
    "### Decode"
   ]
  },
  {
   "cell_type": "code",
   "execution_count": 60,
   "id": "c8fcab98-fa68-40a4-b106-1266ed59bcad",
   "metadata": {},
   "outputs": [
    {
     "data": {
      "text/plain": [
       "['Hello, do you like tea?In the sunlit terraces of the palace.']"
      ]
     },
     "execution_count": 60,
     "metadata": {},
     "output_type": "execute_result"
    }
   ],
   "source": [
    "gpt_tokenizer.decode_batch(sequences=[gpt_encoded.ids])"
   ]
  },
  {
   "cell_type": "code",
   "execution_count": null,
   "id": "57a22bc2-544f-432b-90e9-4cb4d3e0709e",
   "metadata": {},
   "outputs": [],
   "source": []
  },
  {
   "cell_type": "markdown",
   "id": "96b981c4-2c93-49f1-a154-1edf3e9461e2",
   "metadata": {},
   "source": [
    "# Data sampling with a sliding window\n",
    "\n",
    "* For training"
   ]
  },
  {
   "cell_type": "markdown",
   "id": "11e1ac57-f761-4a09-b80d-04c24045f18e",
   "metadata": {},
   "source": [
    "## Encode"
   ]
  },
  {
   "cell_type": "code",
   "execution_count": 61,
   "id": "21259d08-8314-4fc8-9d4e-df53aa0fe19f",
   "metadata": {},
   "outputs": [],
   "source": [
    "# encode the data using the pretrained tokenizer\n",
    "encoded_text = gpt_tokenizer.encode(raw_text)"
   ]
  },
  {
   "cell_type": "code",
   "execution_count": 62,
   "id": "ff2bdf26-3f24-4786-a085-2c8675886805",
   "metadata": {},
   "outputs": [
    {
     "data": {
      "text/plain": [
       "list"
      ]
     },
     "execution_count": 62,
     "metadata": {},
     "output_type": "execute_result"
    }
   ],
   "source": [
    "type(encoded_text.tokens)"
   ]
  },
  {
   "cell_type": "code",
   "execution_count": 63,
   "id": "1f214a8e-0adb-4bcb-8946-16dc7d6e39ca",
   "metadata": {},
   "outputs": [
    {
     "data": {
      "text/plain": [
       "5145"
      ]
     },
     "execution_count": 63,
     "metadata": {},
     "output_type": "execute_result"
    }
   ],
   "source": [
    "len(encoded_text.tokens)"
   ]
  },
  {
   "cell_type": "code",
   "execution_count": null,
   "id": "9bc3f78b-6677-4976-b504-3000867e5ddd",
   "metadata": {},
   "outputs": [],
   "source": []
  },
  {
   "cell_type": "markdown",
   "id": "372fc940-53ae-4544-a996-fb587cd23337",
   "metadata": {},
   "source": [
    "## Dataloader"
   ]
  },
  {
   "cell_type": "code",
   "execution_count": 75,
   "id": "437b055b-8c94-4b2c-8937-09cc24fbc70a",
   "metadata": {},
   "outputs": [],
   "source": [
    "from importlib import reload"
   ]
  },
  {
   "cell_type": "code",
   "execution_count": 126,
   "id": "c258b7c9-f661-4aca-a2fc-4abbd1bb479f",
   "metadata": {},
   "outputs": [],
   "source": [
    "import dataloader"
   ]
  },
  {
   "cell_type": "code",
   "execution_count": 96,
   "id": "80f68522-bc49-4fae-a22b-64b97b220b41",
   "metadata": {},
   "outputs": [
    {
     "data": {
      "text/plain": [
       "<module 'dataloader' from '/home/sameervk/Documents/Training/MachineLearning/LLM_app_huggingface/RnD/Tokenisation-Embedding/dataloader.py'>"
      ]
     },
     "execution_count": 96,
     "metadata": {},
     "output_type": "execute_result"
    }
   ],
   "source": [
    "# %reload_ext dataloader\n",
    "reload(dataloader)"
   ]
  },
  {
   "cell_type": "code",
   "execution_count": 97,
   "id": "1b0ea7a5-6ce0-4cca-a7dd-435e82be9d58",
   "metadata": {},
   "outputs": [],
   "source": [
    "dataset = dataloader.GPTDatasetV1(txt=raw_text, \n",
    "                                  tokenizer=gpt_tokenizer,\n",
    "                                  max_length=4, \n",
    "                                  stride=1\n",
    "                                 )"
   ]
  },
  {
   "cell_type": "code",
   "execution_count": 112,
   "id": "9ab143f7-48e3-43be-a75d-4518a4c94ae5",
   "metadata": {},
   "outputs": [],
   "source": [
    "data_loader = dataloader.create_dataloader_v1(dataset=dataset, \n",
    "                                              batch_size=1,\n",
    "                                              shuffle=False, \n",
    "                                              drop_last=True, \n",
    "                                              num_workers=0\n",
    "                                             )"
   ]
  },
  {
   "cell_type": "markdown",
   "id": "a5c2e021-32f5-4f13-84c6-27f52a54a785",
   "metadata": {},
   "source": [
    "### TESTING"
   ]
  },
  {
   "cell_type": "code",
   "execution_count": 113,
   "id": "c278c9fe-a406-425c-baf9-5a0c7c399e5c",
   "metadata": {},
   "outputs": [],
   "source": [
    "data_iterator = iter(data_loader)"
   ]
  },
  {
   "cell_type": "code",
   "execution_count": 114,
   "id": "2f60d44c-1dd8-444d-9c70-9c86e86e4fa5",
   "metadata": {},
   "outputs": [],
   "source": [
    "first_batch = next(data_iterator)"
   ]
  },
  {
   "cell_type": "code",
   "execution_count": 115,
   "id": "b2f3d654-fcd9-44eb-b38c-a2b6b4624b69",
   "metadata": {},
   "outputs": [
    {
     "name": "stdout",
     "output_type": "stream",
     "text": [
      "[tensor([[  40,  367, 2885, 1464]]), tensor([[ 367, 2885, 1464, 1807]])]\n"
     ]
    }
   ],
   "source": [
    "print(first_batch)"
   ]
  },
  {
   "cell_type": "code",
   "execution_count": 116,
   "id": "b5da5543-1128-4793-8c54-2b18eb0c539b",
   "metadata": {},
   "outputs": [],
   "source": [
    "second_batch = next(data_iterator)"
   ]
  },
  {
   "cell_type": "code",
   "execution_count": 117,
   "id": "468212a4-ff07-4646-bc67-e84142f100db",
   "metadata": {},
   "outputs": [
    {
     "name": "stdout",
     "output_type": "stream",
     "text": [
      "[tensor([[ 367, 2885, 1464, 1807]]), tensor([[2885, 1464, 1807, 3619]])]\n"
     ]
    }
   ],
   "source": [
    "print(second_batch)"
   ]
  },
  {
   "cell_type": "code",
   "execution_count": 118,
   "id": "b2066ec9-6e5b-4cac-8812-51c700ca0471",
   "metadata": {},
   "outputs": [
    {
     "data": {
      "text/plain": [
       "617558016"
      ]
     },
     "execution_count": 118,
     "metadata": {},
     "output_type": "execute_result"
    }
   ],
   "source": [
    "50257*12288"
   ]
  },
  {
   "cell_type": "code",
   "execution_count": null,
   "id": "2c487bac-2e9f-446a-bc45-2555088c1f2b",
   "metadata": {},
   "outputs": [],
   "source": []
  },
  {
   "cell_type": "markdown",
   "id": "a9e14ad3-405d-40c8-a439-36043101fee8",
   "metadata": {},
   "source": [
    "# Embedding layer"
   ]
  },
  {
   "cell_type": "code",
   "execution_count": 119,
   "id": "44a9b39d-bc23-4425-87f0-036cf1becedd",
   "metadata": {},
   "outputs": [],
   "source": [
    "import torch"
   ]
  },
  {
   "cell_type": "code",
   "execution_count": 120,
   "id": "df20e95f-48de-4ceb-94cf-86f92e078288",
   "metadata": {},
   "outputs": [
    {
     "data": {
      "text/plain": [
       "50257"
      ]
     },
     "execution_count": 120,
     "metadata": {},
     "output_type": "execute_result"
    }
   ],
   "source": [
    "vocab_size = gpt_tokenizer.get_vocab_size()\n",
    "vocab_size"
   ]
  },
  {
   "cell_type": "code",
   "execution_count": 121,
   "id": "9de5f1ac-8d8f-41d4-baa8-2afcb62f7f85",
   "metadata": {},
   "outputs": [],
   "source": [
    "embedding_dimension = 256"
   ]
  },
  {
   "cell_type": "code",
   "execution_count": 122,
   "id": "4c128710-0ec6-4a58-ae2d-4805234412ef",
   "metadata": {},
   "outputs": [],
   "source": [
    "embedding_layer = torch.nn.Embedding(num_embeddings=vocab_size, \n",
    "                                     embedding_dim=embedding_dimension\n",
    "                                    )"
   ]
  },
  {
   "cell_type": "markdown",
   "id": "4a01edfd-40e6-4d99-8415-8ea1af56f95a",
   "metadata": {},
   "source": [
    "#### TESTING"
   ]
  },
  {
   "cell_type": "code",
   "execution_count": 127,
   "id": "1a4930fd-b6cd-4fe8-980e-d6da4fc4700e",
   "metadata": {},
   "outputs": [],
   "source": [
    "del data_loader"
   ]
  },
  {
   "cell_type": "code",
   "execution_count": 124,
   "id": "1f6da05d-90c2-499b-97c4-06b62f462e81",
   "metadata": {},
   "outputs": [],
   "source": [
    "del dataset"
   ]
  },
  {
   "cell_type": "code",
   "execution_count": 128,
   "id": "23cd16a3-c2dd-4c6a-a8cf-d66d8e86d331",
   "metadata": {},
   "outputs": [],
   "source": [
    "max_input_length=4\n",
    "dataset = GPTDatasetV1(txt=raw_text, \n",
    "                       tokenizer=gpt_tokenizer, \n",
    "                       max_length=max_input_length, \n",
    "                       stride=max_input_length \n",
    "                      )\n",
    "data_loader = dataloader.create_dataloader_v1(dataset=dataset, \n",
    "                                              batch_size=8,\n",
    "                                              shuffle=False, \n",
    "                                              drop_last=True, \n",
    "                                              num_workers=0\n",
    "                                             )"
   ]
  },
  {
   "cell_type": "code",
   "execution_count": 129,
   "id": "6c2a86ed-1675-467c-b782-59a9cf9b15e2",
   "metadata": {},
   "outputs": [],
   "source": [
    "data_iterator = iter(data_loader)"
   ]
  },
  {
   "cell_type": "code",
   "execution_count": 130,
   "id": "96b82ecb-4148-455b-b276-47168a89cdf8",
   "metadata": {},
   "outputs": [
    {
     "data": {
      "text/plain": [
       "[tensor([[   40,   367,  2885,  1464],\n",
       "         [ 1807,  3619,   402,   271],\n",
       "         [10899,  2138,   257,  7026],\n",
       "         [15632,   438,  2016,   257],\n",
       "         [  922,  5891,  1576,   438],\n",
       "         [  568,   340,   373,   645],\n",
       "         [ 1049,  5975,   284,   502],\n",
       "         [  284,  3285,   326,    11]]),\n",
       " tensor([[  367,  2885,  1464,  1807],\n",
       "         [ 3619,   402,   271, 10899],\n",
       "         [ 2138,   257,  7026, 15632],\n",
       "         [  438,  2016,   257,   922],\n",
       "         [ 5891,  1576,   438,   568],\n",
       "         [  340,   373,   645,  1049],\n",
       "         [ 5975,   284,   502,   284],\n",
       "         [ 3285,   326,    11,   287]])]"
      ]
     },
     "execution_count": 130,
     "metadata": {},
     "output_type": "execute_result"
    }
   ],
   "source": [
    "test_batch = next(data_iterator)\n",
    "test_batch"
   ]
  },
  {
   "cell_type": "code",
   "execution_count": 131,
   "id": "92792e53-9f89-4412-8356-1ac03791d6a3",
   "metadata": {},
   "outputs": [
    {
     "data": {
      "text/plain": [
       "torch.Size([8, 4])"
      ]
     },
     "execution_count": 131,
     "metadata": {},
     "output_type": "execute_result"
    }
   ],
   "source": [
    "test_batch[0].shape"
   ]
  },
  {
   "cell_type": "code",
   "execution_count": 132,
   "id": "936fb811-b83a-4e77-91ab-1868097506ac",
   "metadata": {},
   "outputs": [],
   "source": [
    "test_batch_embeddings = embedding_layer(test_batch[0])"
   ]
  },
  {
   "cell_type": "code",
   "execution_count": 134,
   "id": "ed0e0cad-a928-4782-b22e-77531269e465",
   "metadata": {},
   "outputs": [
    {
     "data": {
      "text/plain": [
       "torch.Size([8, 4, 256])"
      ]
     },
     "execution_count": 134,
     "metadata": {},
     "output_type": "execute_result"
    }
   ],
   "source": [
    "test_batch_embeddings.shape"
   ]
  },
  {
   "cell_type": "code",
   "execution_count": null,
   "id": "e58204e3-6620-40c1-945f-ae7e06a6aaba",
   "metadata": {},
   "outputs": [],
   "source": []
  },
  {
   "cell_type": "markdown",
   "id": "d414df3e-8db9-4a2d-a67d-94984d5b5a9e",
   "metadata": {},
   "source": [
    "# Positional Encoding layer\n",
    "\n",
    "* This is also a layer with learnable weights"
   ]
  },
  {
   "cell_type": "markdown",
   "id": "611d23c9-ccec-43c5-a350-10deb12694cd",
   "metadata": {},
   "source": [
    "## Context length"
   ]
  },
  {
   "cell_type": "code",
   "execution_count": 135,
   "id": "dfce06ec-cefd-41d0-9f42-ee289a50f01a",
   "metadata": {},
   "outputs": [],
   "source": [
    "context_length = max_input_length"
   ]
  },
  {
   "cell_type": "markdown",
   "id": "f14452fc-b851-44c0-80a3-090bd2b6c646",
   "metadata": {},
   "source": [
    "## Layer"
   ]
  },
  {
   "cell_type": "code",
   "execution_count": 136,
   "id": "e4ff7ae1-49a8-47a0-b2f3-a6ae4375eb46",
   "metadata": {},
   "outputs": [],
   "source": [
    "pos_embedding_layer = torch.nn.Embedding(context_length, embedding_dimension)"
   ]
  },
  {
   "cell_type": "code",
   "execution_count": 137,
   "id": "6409b3f9-01fc-412d-928c-4304ca2cbe1f",
   "metadata": {},
   "outputs": [
    {
     "data": {
      "text/plain": [
       "torch.Size([4, 256])"
      ]
     },
     "execution_count": 137,
     "metadata": {},
     "output_type": "execute_result"
    }
   ],
   "source": [
    "pos_embeddings = pos_embedding_layer(torch.arange(0, context_length))\n",
    "pos_embeddings.shape"
   ]
  },
  {
   "cell_type": "code",
   "execution_count": null,
   "id": "624037a5-9c7e-49d4-b675-d67abb4b2142",
   "metadata": {},
   "outputs": [],
   "source": []
  },
  {
   "cell_type": "markdown",
   "id": "ca4d8ef7-3ca9-484b-92c2-d559537974a5",
   "metadata": {},
   "source": [
    "# Embeddings + Positional Encoding"
   ]
  },
  {
   "cell_type": "code",
   "execution_count": 138,
   "id": "5d843855-c379-4d04-883b-4132a91a57ca",
   "metadata": {},
   "outputs": [],
   "source": [
    "test_input_embeddings = test_batch_embeddings +  pos_embeddings"
   ]
  },
  {
   "cell_type": "code",
   "execution_count": 139,
   "id": "be7c7660-3a23-47d2-b7a9-155d09457efe",
   "metadata": {},
   "outputs": [
    {
     "data": {
      "text/plain": [
       "torch.Size([8, 4, 256])"
      ]
     },
     "execution_count": 139,
     "metadata": {},
     "output_type": "execute_result"
    }
   ],
   "source": [
    "test_input_embeddings.shape"
   ]
  },
  {
   "cell_type": "markdown",
   "id": "149dafd5-b70c-4a5e-b0db-2951c0dbe6c9",
   "metadata": {},
   "source": [
    "## NOTE\n",
    "\n",
    "* The sum of Embeddings and Positional Encoding are the inputs to the LLM.\n",
    "  "
   ]
  },
  {
   "cell_type": "code",
   "execution_count": null,
   "id": "13e118e1-e33d-41a2-ba13-32f973df1d92",
   "metadata": {},
   "outputs": [],
   "source": []
  }
 ],
 "metadata": {
  "kernelspec": {
   "display_name": "llm",
   "language": "python",
   "name": "llm"
  },
  "language_info": {
   "codemirror_mode": {
    "name": "ipython",
    "version": 3
   },
   "file_extension": ".py",
   "mimetype": "text/x-python",
   "name": "python",
   "nbconvert_exporter": "python",
   "pygments_lexer": "ipython3",
   "version": "3.12.8"
  }
 },
 "nbformat": 4,
 "nbformat_minor": 5
}
