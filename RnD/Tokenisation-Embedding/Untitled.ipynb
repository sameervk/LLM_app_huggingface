{
 "cells": [
  {
   "cell_type": "code",
   "execution_count": 1,
   "id": "67555cc8-24ef-4a2b-9241-0c95bb9cff21",
   "metadata": {},
   "outputs": [],
   "source": [
    "from dataloader import create_dataloader_v1"
   ]
  },
  {
   "cell_type": "code",
   "execution_count": null,
   "id": "4bebc97d-bc14-4855-ad37-0044b3ad7ed4",
   "metadata": {},
   "outputs": [],
   "source": []
  }
 ],
 "metadata": {
  "kernelspec": {
   "display_name": "llm",
   "language": "python",
   "name": "llm"
  },
  "language_info": {
   "codemirror_mode": {
    "name": "ipython",
    "version": 3
   },
   "file_extension": ".py",
   "mimetype": "text/x-python",
   "name": "python",
   "nbconvert_exporter": "python",
   "pygments_lexer": "ipython3",
   "version": "3.12.8"
  }
 },
 "nbformat": 4,
 "nbformat_minor": 5
}
