{
 "cells": [
  {
   "cell_type": "code",
   "execution_count": 1,
   "id": "f643a7f8-233b-481a-bf53-2bb12429a5b3",
   "metadata": {},
   "outputs": [],
   "source": [
    "import torch"
   ]
  },
  {
   "cell_type": "code",
   "execution_count": 2,
   "id": "342f544c-c848-4d76-9fbd-f67e17602b8e",
   "metadata": {},
   "outputs": [],
   "source": [
    "from tokenizers import Tokenizer"
   ]
  },
  {
   "cell_type": "code",
   "execution_count": 38,
   "id": "0ca53d51-cef9-44c1-b1cf-c5bca762f58e",
   "metadata": {},
   "outputs": [],
   "source": [
    "import seaborn as sns\n",
    "import matplotlib.pyplot as plt"
   ]
  },
  {
   "cell_type": "markdown",
   "id": "d6201c48-fd62-49e7-9b2f-f4ce703e6b53",
   "metadata": {},
   "source": [
    "# Tokenizer"
   ]
  },
  {
   "cell_type": "code",
   "execution_count": 9,
   "id": "f283f235-f49e-4f18-88d4-0834e547fb82",
   "metadata": {},
   "outputs": [],
   "source": [
    "model_name = \"gpt2\""
   ]
  },
  {
   "cell_type": "code",
   "execution_count": 10,
   "id": "004b9e92-74b0-4404-a29c-536b5347302f",
   "metadata": {},
   "outputs": [],
   "source": [
    "tokenizer = Tokenizer.from_pretrained(model_name)"
   ]
  },
  {
   "cell_type": "code",
   "execution_count": null,
   "id": "7e59d713-aeb6-4442-b02c-072a2c065d36",
   "metadata": {},
   "outputs": [],
   "source": []
  },
  {
   "cell_type": "markdown",
   "id": "2cbac63b-d6e6-4ac8-a6b7-304c6ab9b166",
   "metadata": {},
   "source": [
    "## Test text"
   ]
  },
  {
   "cell_type": "code",
   "execution_count": 11,
   "id": "8be26be5-62fe-460a-8e82-e702e9adccad",
   "metadata": {},
   "outputs": [],
   "source": [
    "test_txt = \"Your journey starts with one step\""
   ]
  },
  {
   "cell_type": "code",
   "execution_count": 12,
   "id": "39f6e183-5776-4372-b16d-73f360d73393",
   "metadata": {},
   "outputs": [],
   "source": [
    "test_txt_encoded = tokenizer.encode(test_txt)"
   ]
  },
  {
   "cell_type": "code",
   "execution_count": 13,
   "id": "5c3fc8e0-00f3-43f6-b602-39cf371d0332",
   "metadata": {},
   "outputs": [
    {
     "data": {
      "text/plain": [
       "[7120, 7002, 4940, 351, 530, 2239]"
      ]
     },
     "execution_count": 13,
     "metadata": {},
     "output_type": "execute_result"
    }
   ],
   "source": [
    "test_txt_encoded.ids"
   ]
  },
  {
   "cell_type": "code",
   "execution_count": null,
   "id": "176e655b-e033-49e5-90bd-84e2844df4b1",
   "metadata": {},
   "outputs": [],
   "source": []
  },
  {
   "cell_type": "markdown",
   "id": "4903a9f4-a27b-4b17-88e5-0fb2cbf17dde",
   "metadata": {},
   "source": [
    "# Embedding"
   ]
  },
  {
   "cell_type": "code",
   "execution_count": 14,
   "id": "e48626ae-b434-4228-8368-eefac5e6c923",
   "metadata": {},
   "outputs": [],
   "source": [
    "embd_dim = 3"
   ]
  },
  {
   "cell_type": "code",
   "execution_count": 15,
   "id": "78007155-3674-4775-925e-5598cd85b439",
   "metadata": {},
   "outputs": [],
   "source": [
    "embd_layer = torch.nn.Embedding(tokenizer.get_vocab_size(), 3)"
   ]
  },
  {
   "cell_type": "code",
   "execution_count": 17,
   "id": "04151956-05fc-4595-9d2a-fe50dfba7cc4",
   "metadata": {},
   "outputs": [
    {
     "data": {
      "text/plain": [
       "torch.Size([6, 3])"
      ]
     },
     "execution_count": 17,
     "metadata": {},
     "output_type": "execute_result"
    }
   ],
   "source": [
    "test_embddings = embd_layer(torch.tensor(test_txt_encoded.ids))\n",
    "test_embddings.shape"
   ]
  },
  {
   "cell_type": "code",
   "execution_count": 18,
   "id": "a56ea906-fff5-494f-9f8c-31700592865d",
   "metadata": {},
   "outputs": [
    {
     "data": {
      "text/plain": [
       "tensor([[-0.3232,  2.0915,  1.3379],\n",
       "        [ 0.8572,  0.3737,  0.2835],\n",
       "        [ 1.5813, -0.0659, -0.4893],\n",
       "        [-0.9152,  1.1908, -1.5363],\n",
       "        [-0.1221,  1.9204,  2.4943],\n",
       "        [-0.1962, -0.1775,  0.6234]], grad_fn=<EmbeddingBackward0>)"
      ]
     },
     "execution_count": 18,
     "metadata": {},
     "output_type": "execute_result"
    }
   ],
   "source": [
    "test_embddings"
   ]
  },
  {
   "cell_type": "code",
   "execution_count": null,
   "id": "51236969-c374-449a-b66d-ea0b64bea8c4",
   "metadata": {},
   "outputs": [],
   "source": []
  },
  {
   "cell_type": "markdown",
   "id": "3559c607-c8b1-419c-bad3-ffbd0892b726",
   "metadata": {},
   "source": [
    "# Simple Attention Mechanism\n",
    "\n",
    "* No learnable weights"
   ]
  },
  {
   "cell_type": "markdown",
   "id": "6aef4489-caa4-43cc-9577-b943f8bb255a",
   "metadata": {},
   "source": [
    "## Attention Scores"
   ]
  },
  {
   "cell_type": "code",
   "execution_count": 19,
   "id": "68c94b85-73e5-41de-b041-1083a9abf997",
   "metadata": {},
   "outputs": [
    {
     "data": {
      "text/plain": [
       "tensor([[ 6.2687,  0.8838, -1.3036,  0.7308,  7.3931,  0.5261],\n",
       "        [ 0.8838,  0.9548,  1.1921, -0.7752,  1.3202, -0.0577],\n",
       "        [-1.3036,  1.1921,  2.7442, -0.7739, -1.5401, -0.6035],\n",
       "        [ 0.7308, -0.7752, -0.7739,  4.6157, -1.4335, -0.9896],\n",
       "        [ 7.3931,  1.3202, -1.5401, -1.4335,  9.9245,  1.2379],\n",
       "        [ 0.5261, -0.0577, -0.6035, -0.9896,  1.2379,  0.4586]],\n",
       "       grad_fn=<MmBackward0>)"
      ]
     },
     "execution_count": 19,
     "metadata": {},
     "output_type": "execute_result"
    }
   ],
   "source": [
    "attention_scores = test_embddings @ test_embddings.T\n",
    "attention_scores"
   ]
  },
  {
   "cell_type": "code",
   "execution_count": null,
   "id": "6719ca61-a451-4ff3-b727-9cf9dc51d7f4",
   "metadata": {},
   "outputs": [],
   "source": []
  },
  {
   "cell_type": "markdown",
   "id": "7471bd69-fdb6-43bd-99b9-9ff6854f966a",
   "metadata": {},
   "source": [
    "## Attention Weights"
   ]
  },
  {
   "cell_type": "code",
   "execution_count": 20,
   "id": "385eacf3-6499-40f4-ab4c-f6ccf970af16",
   "metadata": {},
   "outputs": [
    {
     "data": {
      "text/plain": [
       "tensor([[2.4446e-01, 1.1209e-03, 1.2578e-04, 9.6190e-04, 7.5254e-01, 7.8385e-04],\n",
       "        [1.7979e-01, 1.9302e-01, 2.4471e-01, 3.4220e-02, 2.7815e-01, 7.0123e-02],\n",
       "        [1.3351e-02, 1.6194e-01, 7.6461e-01, 2.2674e-02, 1.0539e-02, 2.6887e-02],\n",
       "        [1.9841e-02, 4.4008e-03, 4.4062e-03, 9.6552e-01, 2.2783e-03, 3.5515e-03],\n",
       "        [7.3664e-02, 1.6975e-04, 9.7188e-06, 1.0812e-05, 9.2599e-01, 1.5635e-04],\n",
       "        [1.9713e-01, 1.0995e-01, 6.3701e-02, 4.3299e-02, 4.0167e-01, 1.8426e-01]],\n",
       "       grad_fn=<SoftmaxBackward0>)"
      ]
     },
     "execution_count": 20,
     "metadata": {},
     "output_type": "execute_result"
    }
   ],
   "source": [
    "attention_weights = torch.softmax(attention_scores, dim=-1)\n",
    "attention_weights"
   ]
  },
  {
   "cell_type": "markdown",
   "id": "8fa62b86-e6d3-416c-b7e0-7296e6684e74",
   "metadata": {},
   "source": [
    "### Verifying"
   ]
  },
  {
   "cell_type": "code",
   "execution_count": 21,
   "id": "69a3e72b-bb00-411f-95ff-6b0f252252fa",
   "metadata": {},
   "outputs": [
    {
     "data": {
      "text/plain": [
       "tensor([1.0000, 1.0000, 1.0000, 1.0000, 1.0000, 1.0000],\n",
       "       grad_fn=<SumBackward1>)"
      ]
     },
     "execution_count": 21,
     "metadata": {},
     "output_type": "execute_result"
    }
   ],
   "source": [
    "attention_weights.sum(dim=-1)"
   ]
  },
  {
   "cell_type": "code",
   "execution_count": 43,
   "id": "0f2088ac-dec6-493a-9407-fbde2f56eb9e",
   "metadata": {},
   "outputs": [
    {
     "data": {
      "image/png": "[encoded data removed]",
      "text/plain": [
       "<Figure size 640x480 with 2 Axes>"
      ]
     },
     "metadata": {},
     "output_type": "display_data"
    }
   ],
   "source": [
    "sns.heatmap(attention_weights.detach().numpy(), annot=True, fmt='0.2f')\n",
    "plt.show()"
   ]
  },
  {
   "cell_type": "markdown",
   "id": "0ee38d48-436f-410d-9cc9-bdfef4d5674a",
   "metadata": {},
   "source": [
    "## Context Vectors"
   ]
  },
  {
   "cell_type": "code",
   "execution_count": 22,
   "id": "bb92bf71-20b6-43c2-9caa-ff5dbf6ec3ee",
   "metadata": {},
   "outputs": [
    {
     "data": {
      "text/plain": [
       "tensor([[-0.1708,  1.9579,  2.2034],\n",
       "        [ 0.4153,  0.9945,  0.8605],\n",
       "        [ 1.3163,  0.0805, -0.3021],\n",
       "        [-0.8803,  1.1963, -1.4498],\n",
       "        [-0.1367,  1.9324,  2.4084],\n",
       "        [ 0.0064,  1.2394,  1.3140]], grad_fn=<MmBackward0>)"
      ]
     },
     "execution_count": 22,
     "metadata": {},
     "output_type": "execute_result"
    }
   ],
   "source": [
    "context_vectors = attention_weights @ test_embddings\n",
    "context_vectors"
   ]
  },
  {
   "cell_type": "code",
   "execution_count": null,
   "id": "49ff0469-ecbe-4f28-b973-77dc7e8f5b9b",
   "metadata": {},
   "outputs": [],
   "source": []
  },
  {
   "cell_type": "markdown",
   "id": "8d5524a2-c40f-407c-ad6b-df9d9627eac9",
   "metadata": {},
   "source": [
    "# Self-Attention Mechanism"
   ]
  },
  {
   "cell_type": "code",
   "execution_count": 23,
   "id": "c50cc23c-9306-4fb5-9b5e-ec0b77db859b",
   "metadata": {},
   "outputs": [],
   "source": [
    "context_vector_output_dim = 2"
   ]
  },
  {
   "cell_type": "markdown",
   "id": "2e88cf2e-19b0-4823-9b2f-f6fb2ec08a8e",
   "metadata": {},
   "source": [
    "## Query"
   ]
  },
  {
   "cell_type": "code",
   "execution_count": 24,
   "id": "393a50e7-836b-42cd-92c7-46c6dd18e041",
   "metadata": {},
   "outputs": [
    {
     "data": {
      "text/plain": [
       "torch.Size([3, 2])"
      ]
     },
     "execution_count": 24,
     "metadata": {},
     "output_type": "execute_result"
    }
   ],
   "source": [
    "W_query = torch.nn.Parameter(torch.rand(embd_dim, context_vector_output_dim), requires_grad=False)\n",
    "W_query.shape"
   ]
  },
  {
   "cell_type": "code",
   "execution_count": null,
   "id": "5639a945-9823-4ff9-bebf-43e899efe882",
   "metadata": {},
   "outputs": [],
   "source": []
  },
  {
   "cell_type": "markdown",
   "id": "6015fc03-81f1-4f80-b88d-7996dbf7c20d",
   "metadata": {},
   "source": [
    "## Key"
   ]
  },
  {
   "cell_type": "code",
   "execution_count": 25,
   "id": "4859cbee-a073-4f6d-bcfc-3fb655ae3e2b",
   "metadata": {},
   "outputs": [
    {
     "data": {
      "text/plain": [
       "torch.Size([3, 2])"
      ]
     },
     "execution_count": 25,
     "metadata": {},
     "output_type": "execute_result"
    }
   ],
   "source": [
    "W_key = torch.nn.Parameter(torch.rand(embd_dim, context_vector_output_dim), requires_grad=False)\n",
    "W_key.shape"
   ]
  },
  {
   "cell_type": "code",
   "execution_count": null,
   "id": "80ac884e-aa3b-4dd1-9844-3d39d52e7d67",
   "metadata": {},
   "outputs": [],
   "source": []
  },
  {
   "cell_type": "markdown",
   "id": "11a13555-58b5-4886-98a6-e3eedb723421",
   "metadata": {},
   "source": [
    "## Value"
   ]
  },
  {
   "cell_type": "code",
   "execution_count": 26,
   "id": "d4da4ddf-091c-4ac6-b44b-2b7148d3babc",
   "metadata": {},
   "outputs": [
    {
     "data": {
      "text/plain": [
       "torch.Size([3, 2])"
      ]
     },
     "execution_count": 26,
     "metadata": {},
     "output_type": "execute_result"
    }
   ],
   "source": [
    "W_value = torch.nn.Parameter(torch.rand(embd_dim, context_vector_output_dim), requires_grad=False)\n",
    "W_value.shape"
   ]
  },
  {
   "cell_type": "code",
   "execution_count": null,
   "id": "10e9b562-dc8a-4773-81b3-2c4ce9390ee2",
   "metadata": {},
   "outputs": [],
   "source": []
  },
  {
   "cell_type": "markdown",
   "id": "b6d4975d-9a20-4b3e-980c-0a82acd1f3af",
   "metadata": {},
   "source": [
    "## Attention scores"
   ]
  },
  {
   "cell_type": "code",
   "execution_count": 27,
   "id": "7775ceac-5201-4753-b71e-ca8143cc6a32",
   "metadata": {},
   "outputs": [
    {
     "data": {
      "text/plain": [
       "torch.Size([6, 2])"
      ]
     },
     "execution_count": 27,
     "metadata": {},
     "output_type": "execute_result"
    }
   ],
   "source": [
    "queries = test_embddings @ W_query\n",
    "queries.shape"
   ]
  },
  {
   "cell_type": "code",
   "execution_count": 28,
   "id": "6af074ce-0825-4944-9549-95c30fe64cb7",
   "metadata": {},
   "outputs": [
    {
     "data": {
      "text/plain": [
       "torch.Size([6, 2])"
      ]
     },
     "execution_count": 28,
     "metadata": {},
     "output_type": "execute_result"
    }
   ],
   "source": [
    "keys = test_embddings @ W_key\n",
    "keys.shape"
   ]
  },
  {
   "cell_type": "code",
   "execution_count": 29,
   "id": "2590d69c-0bd6-4fce-be3b-c1a879c94f77",
   "metadata": {},
   "outputs": [
    {
     "data": {
      "text/plain": [
       "torch.Size([6, 2])"
      ]
     },
     "execution_count": 29,
     "metadata": {},
     "output_type": "execute_result"
    }
   ],
   "source": [
    "values = test_embddings @ W_value\n",
    "values.shape"
   ]
  },
  {
   "cell_type": "code",
   "execution_count": 31,
   "id": "90921c7e-284f-4cc3-8c61-4511445b893f",
   "metadata": {},
   "outputs": [
    {
     "data": {
      "text/plain": [
       "torch.Size([6, 6])"
      ]
     },
     "execution_count": 31,
     "metadata": {},
     "output_type": "execute_result"
    }
   ],
   "source": [
    "attention_scores_2 = queries @ keys.T\n",
    "attention_scores_2.shape"
   ]
  },
  {
   "cell_type": "code",
   "execution_count": 32,
   "id": "1e04b8c1-814d-455c-aa53-c432373cb6d5",
   "metadata": {},
   "outputs": [
    {
     "data": {
      "text/plain": [
       "tensor([[ 3.8654e+00,  2.6045e+00,  2.4314e+00, -2.4971e+00,  5.6755e+00,\n",
       "          2.5143e-01],\n",
       "        [ 1.1116e+00,  5.8938e-01,  4.6263e-01, -4.2866e-01,  1.5116e+00,\n",
       "          5.7789e-02],\n",
       "        [ 3.7210e-01,  1.4967e-02, -1.1542e-01,  1.8719e-01,  3.6842e-01,\n",
       "          2.7638e-03],\n",
       "        [ 8.7482e-01,  8.8241e-01,  9.8456e-01, -1.0965e+00,  1.5056e+00,\n",
       "          8.3545e-02],\n",
       "        [ 4.1796e+00,  2.6937e+00,  2.4476e+00, -2.4781e+00,  6.0443e+00,\n",
       "          2.6073e-01],\n",
       "        [-1.0393e-01, -8.5707e-02, -8.8618e-02,  9.5578e-02, -1.6443e-01,\n",
       "         -8.1860e-03]], grad_fn=<MmBackward0>)"
      ]
     },
     "execution_count": 32,
     "metadata": {},
     "output_type": "execute_result"
    }
   ],
   "source": [
    "attention_scores_2"
   ]
  },
  {
   "cell_type": "markdown",
   "id": "32f855b9-9bf0-4973-98d7-42e91192e2a1",
   "metadata": {},
   "source": [
    "## Attention Weights"
   ]
  },
  {
   "cell_type": "code",
   "execution_count": 33,
   "id": "54f34fcd-146b-487c-9b2e-541548cee709",
   "metadata": {},
   "outputs": [],
   "source": [
    "attention_weights_2 = torch.softmax(attention_scores_2, dim=-1)"
   ]
  },
  {
   "cell_type": "code",
   "execution_count": 34,
   "id": "de98e66e-f8fd-4e67-9c59-baf2f1fe78e8",
   "metadata": {},
   "outputs": [
    {
     "data": {
      "text/plain": [
       "torch.Size([6, 6])"
      ]
     },
     "execution_count": 34,
     "metadata": {},
     "output_type": "execute_result"
    }
   ],
   "source": [
    "attention_weights_2.shape"
   ]
  },
  {
   "cell_type": "markdown",
   "id": "cf8332d2-43da-4c54-80a9-c22329de2e6e",
   "metadata": {},
   "source": [
    "### Verifying"
   ]
  },
  {
   "cell_type": "code",
   "execution_count": 35,
   "id": "ce0786b7-0f6c-4095-97e2-ebc2b0370829",
   "metadata": {},
   "outputs": [
    {
     "data": {
      "text/plain": [
       "tensor([1.0000, 1.0000, 1.0000, 1.0000, 1.0000, 1.0000],\n",
       "       grad_fn=<SumBackward1>)"
      ]
     },
     "execution_count": 35,
     "metadata": {},
     "output_type": "execute_result"
    }
   ],
   "source": [
    "attention_weights_2.sum(dim=-1)"
   ]
  },
  {
   "cell_type": "code",
   "execution_count": 44,
   "id": "344cc8a8-80fe-40a7-ae9a-14519c090899",
   "metadata": {},
   "outputs": [
    {
     "data": {
      "image/png": "[encoded data removed]",
      "text/plain": [
       "<Figure size 640x480 with 2 Axes>"
      ]
     },
     "metadata": {},
     "output_type": "display_data"
    }
   ],
   "source": [
    "sns.heatmap(attention_weights_2.detach().numpy(), annot=True, fmt='0.2f')\n",
    "plt.show()"
   ]
  },
  {
   "cell_type": "code",
   "execution_count": null,
   "id": "923f43c6-17b2-4664-b9f2-71350a7bbb0c",
   "metadata": {},
   "outputs": [],
   "source": []
  },
  {
   "cell_type": "markdown",
   "id": "4d9efa6a-f5b2-4e69-be1f-5817838109c6",
   "metadata": {},
   "source": [
    "## Context Vectors"
   ]
  },
  {
   "cell_type": "code",
   "execution_count": 36,
   "id": "c7ed7115-3370-4268-b2e3-991b7e40fc73",
   "metadata": {},
   "outputs": [
    {
     "data": {
      "text/plain": [
       "tensor([[1.1643, 2.5468],\n",
       "        [0.9371, 1.7337],\n",
       "        [0.7295, 1.1580],\n",
       "        [0.9398, 1.6889],\n",
       "        [1.1707, 2.5808],\n",
       "        [0.6496, 0.9417]], grad_fn=<MmBackward0>)"
      ]
     },
     "execution_count": 36,
     "metadata": {},
     "output_type": "execute_result"
    }
   ],
   "source": [
    "context_vectors_2 =  attention_weights_2 @ values\n",
    "context_vectors_2"
   ]
  },
  {
   "cell_type": "code",
   "execution_count": null,
   "id": "728978f3-dfdb-4a80-a426-54fb39e45368",
   "metadata": {},
   "outputs": [],
   "source": []
  },
  {
   "cell_type": "markdown",
   "id": "3ecdff39-45af-40f0-8049-57b2cc715441",
   "metadata": {},
   "source": [
    "# Masked Attention"
   ]
  },
  {
   "cell_type": "markdown",
   "id": "a4242d4b-034a-467e-9742-01a13853522f",
   "metadata": {},
   "source": [
    "## Method 1"
   ]
  },
  {
   "cell_type": "code",
   "execution_count": 45,
   "id": "76f54ad2-0a4c-41a6-9e24-34520c674c52",
   "metadata": {},
   "outputs": [
    {
     "data": {
      "text/plain": [
       "tensor([[ 3.8654e+00,  2.6045e+00,  2.4314e+00, -2.4971e+00,  5.6755e+00,\n",
       "          2.5143e-01],\n",
       "        [ 1.1116e+00,  5.8938e-01,  4.6263e-01, -4.2866e-01,  1.5116e+00,\n",
       "          5.7789e-02],\n",
       "        [ 3.7210e-01,  1.4967e-02, -1.1542e-01,  1.8719e-01,  3.6842e-01,\n",
       "          2.7638e-03],\n",
       "        [ 8.7482e-01,  8.8241e-01,  9.8456e-01, -1.0965e+00,  1.5056e+00,\n",
       "          8.3545e-02],\n",
       "        [ 4.1796e+00,  2.6937e+00,  2.4476e+00, -2.4781e+00,  6.0443e+00,\n",
       "          2.6073e-01],\n",
       "        [-1.0393e-01, -8.5707e-02, -8.8618e-02,  9.5578e-02, -1.6443e-01,\n",
       "         -8.1860e-03]], grad_fn=<MmBackward0>)"
      ]
     },
     "execution_count": 45,
     "metadata": {},
     "output_type": "execute_result"
    }
   ],
   "source": [
    "attention_scores_2"
   ]
  },
  {
   "cell_type": "code",
   "execution_count": 46,
   "id": "44e354f2-c7da-4843-839c-6b6e9df0e3bf",
   "metadata": {},
   "outputs": [
    {
     "data": {
      "text/plain": [
       "torch.Size([6, 6])"
      ]
     },
     "execution_count": 46,
     "metadata": {},
     "output_type": "execute_result"
    }
   ],
   "source": [
    "attention_scores_2.shape"
   ]
  },
  {
   "cell_type": "code",
   "execution_count": 47,
   "id": "1526c7c7-11fd-4901-b287-4e1abb95a36d",
   "metadata": {},
   "outputs": [
    {
     "data": {
      "text/plain": [
       "torch.Size([6, 6])"
      ]
     },
     "execution_count": 47,
     "metadata": {},
     "output_type": "execute_result"
    }
   ],
   "source": [
    "attention_scores_2.size()"
   ]
  },
  {
   "cell_type": "code",
   "execution_count": 48,
   "id": "bd9aeff8-f6f5-428f-a085-e233b3356686",
   "metadata": {},
   "outputs": [
    {
     "data": {
      "text/plain": [
       "tensor([[1., 0., 0., 0., 0., 0.],\n",
       "        [1., 1., 0., 0., 0., 0.],\n",
       "        [1., 1., 1., 0., 0., 0.],\n",
       "        [1., 1., 1., 1., 0., 0.],\n",
       "        [1., 1., 1., 1., 1., 0.],\n",
       "        [1., 1., 1., 1., 1., 1.]])"
      ]
     },
     "execution_count": 48,
     "metadata": {},
     "output_type": "execute_result"
    }
   ],
   "source": [
    "mask_lower = torch.tril(torch.ones(size=attention_scores_2.size()))\n",
    "mask_lower\n",
    "# here diagonal is also filled with the desired values"
   ]
  },
  {
   "cell_type": "code",
   "execution_count": 58,
   "id": "7eb5c8fa-9d75-4480-97aa-e03f32eb67d6",
   "metadata": {},
   "outputs": [
    {
     "data": {
      "text/plain": [
       "tensor([[1.3053e-01, 0.0000e+00, 0.0000e+00, 0.0000e+00, 0.0000e+00, 0.0000e+00],\n",
       "        [2.3977e-01, 1.4223e-01, 0.0000e+00, 0.0000e+00, 0.0000e+00, 0.0000e+00],\n",
       "        [2.0693e-01, 1.4479e-01, 1.2709e-01, 0.0000e+00, 0.0000e+00, 0.0000e+00],\n",
       "        [1.7872e-01, 1.8009e-01, 1.9946e-01, 2.4892e-02, 0.0000e+00, 0.0000e+00],\n",
       "        [1.2692e-01, 2.8724e-02, 2.2456e-02, 1.6299e-04, 8.1922e-01, 0.0000e+00],\n",
       "        [1.5882e-01, 1.6174e-01, 1.6127e-01, 1.9389e-01, 1.4950e-01, 1.7478e-01]],\n",
       "       grad_fn=<MulBackward0>)"
      ]
     },
     "execution_count": 58,
     "metadata": {},
     "output_type": "execute_result"
    }
   ],
   "source": [
    "masked_attention_weights_1 =  attention_weights_2 * mask_lower\n",
    "masked_attention_weights_1"
   ]
  },
  {
   "cell_type": "code",
   "execution_count": 59,
   "id": "74857510-750a-47c8-bd86-6526432ab1e2",
   "metadata": {},
   "outputs": [
    {
     "data": {
      "text/plain": [
       "tensor([[1.0000e+00, 0.0000e+00, 0.0000e+00, 0.0000e+00, 0.0000e+00, 0.0000e+00],\n",
       "        [6.2766e-01, 3.7234e-01, 0.0000e+00, 0.0000e+00, 0.0000e+00, 0.0000e+00],\n",
       "        [4.3218e-01, 3.0239e-01, 2.6543e-01, 0.0000e+00, 0.0000e+00, 0.0000e+00],\n",
       "        [3.0648e-01, 3.0881e-01, 3.4203e-01, 4.2685e-02, 0.0000e+00, 0.0000e+00],\n",
       "        [1.2724e-01, 2.8796e-02, 2.2513e-02, 1.6340e-04, 8.2129e-01, 0.0000e+00],\n",
       "        [1.5882e-01, 1.6174e-01, 1.6127e-01, 1.9389e-01, 1.4950e-01, 1.7478e-01]],\n",
       "       grad_fn=<DivBackward0>)"
      ]
     },
     "execution_count": 59,
     "metadata": {},
     "output_type": "execute_result"
    }
   ],
   "source": [
    "# normalize\n",
    "masked_attention_weights_1 =  masked_attention_weights_1/masked_attention_weights_1.sum(dim=-1, keepdim=True)\n",
    "masked_attention_weights_1"
   ]
  },
  {
   "cell_type": "code",
   "execution_count": 57,
   "id": "112ce352-a532-4860-97c6-a84a77dd4a31",
   "metadata": {},
   "outputs": [
    {
     "data": {
      "text/plain": [
       "tensor([[1.0000],\n",
       "        [2.2093],\n",
       "        [2.2298],\n",
       "        [2.2999],\n",
       "        [1.9160],\n",
       "        [2.6341]], grad_fn=<SumBackward1>)"
      ]
     },
     "execution_count": 57,
     "metadata": {},
     "output_type": "execute_result"
    }
   ],
   "source": [
    "masked_attention_weights_1.sum(dim=-1, keepdim=True)"
   ]
  },
  {
   "cell_type": "code",
   "execution_count": null,
   "id": "67b328fd-25cc-4061-86af-b14987996cac",
   "metadata": {},
   "outputs": [],
   "source": []
  },
  {
   "cell_type": "markdown",
   "id": "72963860-21b8-4343-9ed5-da01a9b33f41",
   "metadata": {},
   "source": [
    "## Method 2\n",
    "\n",
    "* Using softmax and -inf\n",
    "* Apparently more efficient"
   ]
  },
  {
   "cell_type": "code",
   "execution_count": 62,
   "id": "14484753-515a-438a-acac-7d4ebf86e218",
   "metadata": {},
   "outputs": [
    {
     "data": {
      "text/plain": [
       "tensor([[0., 1., 1., 1., 1., 1.],\n",
       "        [0., 0., 1., 1., 1., 1.],\n",
       "        [0., 0., 0., 1., 1., 1.],\n",
       "        [0., 0., 0., 0., 1., 1.],\n",
       "        [0., 0., 0., 0., 0., 1.],\n",
       "        [0., 0., 0., 0., 0., 0.]])"
      ]
     },
     "execution_count": 62,
     "metadata": {},
     "output_type": "execute_result"
    }
   ],
   "source": [
    "mask_upper =  torch.triu(torch.ones(attention_scores_2.size()), diagonal=1)\n",
    "mask_upper"
   ]
  },
  {
   "cell_type": "code",
   "execution_count": 64,
   "id": "91a3f3e6-6feb-4a38-a799-36ae54cdd6a9",
   "metadata": {},
   "outputs": [
    {
     "data": {
      "text/plain": [
       "tensor([[ 3.8654,    -inf,    -inf,    -inf,    -inf,    -inf],\n",
       "        [ 1.1116,  0.5894,    -inf,    -inf,    -inf,    -inf],\n",
       "        [ 0.3721,  0.0150, -0.1154,    -inf,    -inf,    -inf],\n",
       "        [ 0.8748,  0.8824,  0.9846, -1.0965,    -inf,    -inf],\n",
       "        [ 4.1796,  2.6937,  2.4476, -2.4781,  6.0443,    -inf],\n",
       "        [-0.1039, -0.0857, -0.0886,  0.0956, -0.1644, -0.0082]],\n",
       "       grad_fn=<MaskedFillBackward0>)"
      ]
     },
     "execution_count": 64,
     "metadata": {},
     "output_type": "execute_result"
    }
   ],
   "source": [
    "masked_attention_scores_2 = attention_scores_2.masked_fill(mask_upper.bool(), -torch.inf)\n",
    "masked_attention_scores_2"
   ]
  },
  {
   "cell_type": "code",
   "execution_count": 65,
   "id": "a354f2c7-2fab-4207-8d23-23989d145aab",
   "metadata": {},
   "outputs": [
    {
     "data": {
      "text/plain": [
       "tensor([[1.0000, 0.0000, 0.0000, 0.0000, 0.0000, 0.0000],\n",
       "        [0.5913, 0.4087, 0.0000, 0.0000, 0.0000, 0.0000],\n",
       "        [0.4024, 0.3126, 0.2850, 0.0000, 0.0000, 0.0000],\n",
       "        [0.2999, 0.3015, 0.3241, 0.0744, 0.0000, 0.0000],\n",
       "        [0.1855, 0.0649, 0.0545, 0.0017, 0.6934, 0.0000],\n",
       "        [0.1612, 0.1633, 0.1630, 0.1856, 0.1544, 0.1725]],\n",
       "       grad_fn=<SoftmaxBackward0>)"
      ]
     },
     "execution_count": 65,
     "metadata": {},
     "output_type": "execute_result"
    }
   ],
   "source": [
    "# apply softmax\n",
    "masked_attention_weights_2 = torch.softmax(masked_attention_scores_2/keys.shape[-1]**0.5, dim=-1)\n",
    "masked_attention_weights_2"
   ]
  },
  {
   "cell_type": "code",
   "execution_count": null,
   "id": "f53e92d3-37f6-4856-858a-d9ba65fcead8",
   "metadata": {},
   "outputs": [],
   "source": []
  },
  {
   "cell_type": "markdown",
   "id": "5bc4f992-2ffd-4abb-9e85-3b93302022b4",
   "metadata": {},
   "source": [
    "# Masked Attention with Dropout"
   ]
  },
  {
   "cell_type": "code",
   "execution_count": 66,
   "id": "23bc8509-5267-4ccf-bd01-bc3df31b2d65",
   "metadata": {},
   "outputs": [],
   "source": [
    "dropout_layer = torch.nn.Dropout(0.5)"
   ]
  },
  {
   "cell_type": "code",
   "execution_count": 68,
   "id": "ade1f088-7843-4fd1-806c-ee7beb568733",
   "metadata": {},
   "outputs": [
    {
     "data": {
      "text/plain": [
       "tensor([[2.0000, 0.0000, 0.0000, 0.0000, 0.0000, 0.0000],\n",
       "        [1.1826, 0.0000, 0.0000, 0.0000, 0.0000, 0.0000],\n",
       "        [0.0000, 0.0000, 0.0000, 0.0000, 0.0000, 0.0000],\n",
       "        [0.5998, 0.6031, 0.0000, 0.0000, 0.0000, 0.0000],\n",
       "        [0.0000, 0.0000, 0.1090, 0.0000, 0.0000, 0.0000],\n",
       "        [0.0000, 0.0000, 0.3259, 0.3712, 0.0000, 0.0000]],\n",
       "       grad_fn=<MulBackward0>)"
      ]
     },
     "execution_count": 68,
     "metadata": {},
     "output_type": "execute_result"
    }
   ],
   "source": [
    "masked_attention_weights_2_dropout = dropout_layer(masked_attention_weights_2)\n",
    "masked_attention_weights_2_dropout"
   ]
  },
  {
   "cell_type": "markdown",
   "id": "de298bc1-f999-459b-afbb-f046c6c283de",
   "metadata": {},
   "source": [
    "#### NOTE\n",
    "* To compensate for the dropped elements, the value of the other elements in scaled by the inverse of the probability of dropout."
   ]
  },
  {
   "cell_type": "code",
   "execution_count": null,
   "id": "bdea4ac4-69c0-4672-a78b-2207e8a5f239",
   "metadata": {},
   "outputs": [],
   "source": []
  },
  {
   "cell_type": "markdown",
   "id": "cfaeb49e-39fd-4817-adf2-5a3bb3060df8",
   "metadata": {},
   "source": [
    "# Batch processing"
   ]
  },
  {
   "cell_type": "code",
   "execution_count": 70,
   "id": "01f4824c-e806-4f65-a850-d7a4ef181dcf",
   "metadata": {},
   "outputs": [
    {
     "data": {
      "text/plain": [
       "torch.Size([2, 6, 3])"
      ]
     },
     "execution_count": 70,
     "metadata": {},
     "output_type": "execute_result"
    }
   ],
   "source": [
    "test_batch = torch.stack([test_embddings, test_embddings], dim=0)\n",
    "test_batch.shape\n",
    "# batch_size x context_length x embed_dim"
   ]
  },
  {
   "cell_type": "code",
   "execution_count": 72,
   "id": "122e5f2d-9ed0-402f-b992-e31a19bfc082",
   "metadata": {},
   "outputs": [],
   "source": [
    "W_query = torch.nn.Linear(in_features=test_embddings.shape[-1], out_features=2, bias=False)\n",
    "W_key = torch.nn.Linear(in_features=test_embddings.shape[-1], out_features=2, bias=False)\n",
    "W_value = torch.nn.Linear(in_features=test_embddings.shape[-1], out_features=2, bias=False)"
   ]
  },
  {
   "cell_type": "code",
   "execution_count": 73,
   "id": "016df908-d95b-4d32-8729-edeb5177f05d",
   "metadata": {},
   "outputs": [
    {
     "data": {
      "text/plain": [
       "torch.Size([2, 3])"
      ]
     },
     "execution_count": 73,
     "metadata": {},
     "output_type": "execute_result"
    }
   ],
   "source": [
    "W_query.weight.shape"
   ]
  },
  {
   "cell_type": "markdown",
   "id": "3c81a1ab-dd9f-47d8-91a7-bac833a75a74",
   "metadata": {},
   "source": [
    "### NOTE\n",
    "* The weight matrix of the Linear layer is transpose of what is expected."
   ]
  },
  {
   "cell_type": "code",
   "execution_count": 74,
   "id": "9e27b411-66d9-43bb-a2df-1c810562c37e",
   "metadata": {},
   "outputs": [
    {
     "data": {
      "text/plain": [
       "torch.Size([2, 6, 2])"
      ]
     },
     "execution_count": 74,
     "metadata": {},
     "output_type": "execute_result"
    }
   ],
   "source": [
    "batch_queries = W_query(test_batch)\n",
    "batch_queries.shape"
   ]
  },
  {
   "cell_type": "code",
   "execution_count": 75,
   "id": "63c1d331-1e87-4319-aa8f-5530272a017f",
   "metadata": {},
   "outputs": [],
   "source": [
    "batch_keys = W_key(test_batch)\n",
    "batch_values = W_value(test_batch)"
   ]
  },
  {
   "cell_type": "code",
   "execution_count": 78,
   "id": "a8af8e14-4bfb-418e-8ca0-d68e3448f7fd",
   "metadata": {},
   "outputs": [
    {
     "data": {
      "text/plain": [
       "torch.Size([2, 2, 6])"
      ]
     },
     "execution_count": 78,
     "metadata": {},
     "output_type": "execute_result"
    }
   ],
   "source": [
    "batch_keys.transpose(1,2).shape"
   ]
  },
  {
   "cell_type": "code",
   "execution_count": 79,
   "id": "ef671a2d-66a1-4faa-a524-389ce3aec34f",
   "metadata": {},
   "outputs": [
    {
     "data": {
      "text/plain": [
       "torch.Size([2, 6, 6])"
      ]
     },
     "execution_count": 79,
     "metadata": {},
     "output_type": "execute_result"
    }
   ],
   "source": [
    "batch_attn_sc = batch_queries @ batch_keys.transpose(1,2)\n",
    "batch_attn_sc.shape"
   ]
  },
  {
   "cell_type": "markdown",
   "id": "69b39e01-144e-458a-9db9-c6fe9108d00b",
   "metadata": {},
   "source": [
    "#### NOTE\n",
    "* The transpose of a tensor of more than 2 dimensions can be controlled using its `.transpose` method."
   ]
  },
  {
   "cell_type": "code",
   "execution_count": 80,
   "id": "449ae085-3bc8-45c7-9d79-e92997199152",
   "metadata": {},
   "outputs": [
    {
     "data": {
      "text/plain": [
       "tensor([[0., 1., 1., 1., 1., 1.],\n",
       "        [0., 0., 1., 1., 1., 1.],\n",
       "        [0., 0., 0., 1., 1., 1.],\n",
       "        [0., 0., 0., 0., 1., 1.],\n",
       "        [0., 0., 0., 0., 0., 1.],\n",
       "        [0., 0., 0., 0., 0., 0.]])"
      ]
     },
     "execution_count": 80,
     "metadata": {},
     "output_type": "execute_result"
    }
   ],
   "source": [
    "# mask\n",
    "mask_upper"
   ]
  },
  {
   "cell_type": "code",
   "execution_count": 81,
   "id": "e41744b2-2fc7-4aab-9fca-044cc6da7dfe",
   "metadata": {},
   "outputs": [
    {
     "data": {
      "text/plain": [
       "tensor([[[-1.2595,    -inf,    -inf,    -inf,    -inf,    -inf],\n",
       "         [-0.6768, -0.0113,    -inf,    -inf,    -inf,    -inf],\n",
       "         [-0.6484, -0.3335, -0.6217,    -inf,    -inf,    -inf],\n",
       "         [ 0.0233,  0.0760,  0.1851,  0.2254,    -inf,    -inf],\n",
       "         [-1.4536,  0.7992,  2.5365,  1.2314, -2.7470,    -inf],\n",
       "         [ 0.0920,  0.1078,  0.2419,  0.3592, -0.1092, -0.1557]],\n",
       "\n",
       "        [[-1.2595,    -inf,    -inf,    -inf,    -inf,    -inf],\n",
       "         [-0.6768, -0.0113,    -inf,    -inf,    -inf,    -inf],\n",
       "         [-0.6484, -0.3335, -0.6217,    -inf,    -inf,    -inf],\n",
       "         [ 0.0233,  0.0760,  0.1851,  0.2254,    -inf,    -inf],\n",
       "         [-1.4536,  0.7992,  2.5365,  1.2314, -2.7470,    -inf],\n",
       "         [ 0.0920,  0.1078,  0.2419,  0.3592, -0.1092, -0.1557]]],\n",
       "       grad_fn=<MaskedFillBackward0>)"
      ]
     },
     "execution_count": 81,
     "metadata": {},
     "output_type": "execute_result"
    }
   ],
   "source": [
    "batch_attn_sc.masked_fill(mask_upper.bool(), -torch.inf)"
   ]
  },
  {
   "cell_type": "code",
   "execution_count": 82,
   "id": "ca5cad00-9aa7-45ac-9a6b-b85179c2cc54",
   "metadata": {},
   "outputs": [
    {
     "data": {
      "text/plain": [
       "tensor([[[-1.2595,    -inf,    -inf,    -inf,    -inf,    -inf],\n",
       "         [-0.6768, -0.0113,    -inf,    -inf,    -inf,    -inf],\n",
       "         [-0.6484, -0.3335, -0.6217,    -inf,    -inf,    -inf],\n",
       "         [ 0.0233,  0.0760,  0.1851,  0.2254,    -inf,    -inf],\n",
       "         [-1.4536,  0.7992,  2.5365,  1.2314, -2.7470,    -inf],\n",
       "         [ 0.0920,  0.1078,  0.2419,  0.3592, -0.1092, -0.1557]],\n",
       "\n",
       "        [[-1.2595,    -inf,    -inf,    -inf,    -inf,    -inf],\n",
       "         [-0.6768, -0.0113,    -inf,    -inf,    -inf,    -inf],\n",
       "         [-0.6484, -0.3335, -0.6217,    -inf,    -inf,    -inf],\n",
       "         [ 0.0233,  0.0760,  0.1851,  0.2254,    -inf,    -inf],\n",
       "         [-1.4536,  0.7992,  2.5365,  1.2314, -2.7470,    -inf],\n",
       "         [ 0.0920,  0.1078,  0.2419,  0.3592, -0.1092, -0.1557]]],\n",
       "       grad_fn=<MaskedFillBackward0>)"
      ]
     },
     "execution_count": 82,
     "metadata": {},
     "output_type": "execute_result"
    }
   ],
   "source": [
    "batch_attn_sc.masked_fill_(mask_upper.bool(), -torch.inf)"
   ]
  },
  {
   "cell_type": "markdown",
   "id": "f621e530-7a38-46ab-bf92-960b819ba4fe",
   "metadata": {},
   "source": [
    "#### NOTE\n",
    "\n",
    "* In Pytorch, tensor methods ending in '_' applies the methods in-place."
   ]
  },
  {
   "cell_type": "code",
   "execution_count": 83,
   "id": "f24701c0-d522-4dbd-94de-6871ab7dabea",
   "metadata": {
    "scrolled": true
   },
   "outputs": [
    {
     "data": {
      "text/plain": [
       "tensor([[[-1.2595,    -inf,    -inf,    -inf,    -inf,    -inf],\n",
       "         [-0.6768, -0.0113,    -inf,    -inf,    -inf,    -inf],\n",
       "         [-0.6484, -0.3335, -0.6217,    -inf,    -inf,    -inf],\n",
       "         [ 0.0233,  0.0760,  0.1851,  0.2254,    -inf,    -inf],\n",
       "         [-1.4536,  0.7992,  2.5365,  1.2314, -2.7470,    -inf],\n",
       "         [ 0.0920,  0.1078,  0.2419,  0.3592, -0.1092, -0.1557]],\n",
       "\n",
       "        [[-1.2595,    -inf,    -inf,    -inf,    -inf,    -inf],\n",
       "         [-0.6768, -0.0113,    -inf,    -inf,    -inf,    -inf],\n",
       "         [-0.6484, -0.3335, -0.6217,    -inf,    -inf,    -inf],\n",
       "         [ 0.0233,  0.0760,  0.1851,  0.2254,    -inf,    -inf],\n",
       "         [-1.4536,  0.7992,  2.5365,  1.2314, -2.7470,    -inf],\n",
       "         [ 0.0920,  0.1078,  0.2419,  0.3592, -0.1092, -0.1557]]],\n",
       "       grad_fn=<MaskedFillBackward0>)"
      ]
     },
     "execution_count": 83,
     "metadata": {},
     "output_type": "execute_result"
    }
   ],
   "source": [
    "batch_attn_sc"
   ]
  },
  {
   "cell_type": "code",
   "execution_count": 85,
   "id": "f39a3fc5-5be1-4a13-8a0e-3923c52fba2b",
   "metadata": {},
   "outputs": [
    {
     "data": {
      "text/plain": [
       "2"
      ]
     },
     "execution_count": 85,
     "metadata": {},
     "output_type": "execute_result"
    }
   ],
   "source": [
    "batch_keys.shape[-1]"
   ]
  },
  {
   "cell_type": "code",
   "execution_count": 86,
   "id": "61a0cc23-3673-46b1-92a7-2897c9495b09",
   "metadata": {},
   "outputs": [
    {
     "data": {
      "text/plain": [
       "1.4142135623730951"
      ]
     },
     "execution_count": 86,
     "metadata": {},
     "output_type": "execute_result"
    }
   ],
   "source": [
    "batch_keys.shape[-1]**0.5"
   ]
  },
  {
   "cell_type": "code",
   "execution_count": 87,
   "id": "95984204-a878-4a0c-b7d4-833cfeca393c",
   "metadata": {},
   "outputs": [
    {
     "data": {
      "text/plain": [
       "torch.Size([2, 6, 6])"
      ]
     },
     "execution_count": 87,
     "metadata": {},
     "output_type": "execute_result"
    }
   ],
   "source": [
    "batch_attn_wghts = torch.softmax(batch_attn_sc/batch_keys.shape[-1]**0.5, dim=-1)\n",
    "batch_attn_wghts.shape"
   ]
  },
  {
   "cell_type": "code",
   "execution_count": 88,
   "id": "c9bd3b9b-732e-4e2b-8910-e9be686368a9",
   "metadata": {},
   "outputs": [
    {
     "data": {
      "text/plain": [
       "tensor([[[1.0000, 0.0000, 0.0000, 0.0000, 0.0000, 0.0000],\n",
       "         [0.3845, 0.6155, 0.0000, 0.0000, 0.0000, 0.0000],\n",
       "         [0.3060, 0.3823, 0.3118, 0.0000, 0.0000, 0.0000],\n",
       "         [0.2319, 0.2407, 0.2600, 0.2675, 0.0000, 0.0000],\n",
       "         [0.0336, 0.1651, 0.5638, 0.2241, 0.0134, 0.0000],\n",
       "         [0.1656, 0.1675, 0.1842, 0.2001, 0.1437, 0.1390]],\n",
       "\n",
       "        [[1.0000, 0.0000, 0.0000, 0.0000, 0.0000, 0.0000],\n",
       "         [0.3845, 0.6155, 0.0000, 0.0000, 0.0000, 0.0000],\n",
       "         [0.3060, 0.3823, 0.3118, 0.0000, 0.0000, 0.0000],\n",
       "         [0.2319, 0.2407, 0.2600, 0.2675, 0.0000, 0.0000],\n",
       "         [0.0336, 0.1651, 0.5638, 0.2241, 0.0134, 0.0000],\n",
       "         [0.1656, 0.1675, 0.1842, 0.2001, 0.1437, 0.1390]]],\n",
       "       grad_fn=<SoftmaxBackward0>)"
      ]
     },
     "execution_count": 88,
     "metadata": {},
     "output_type": "execute_result"
    }
   ],
   "source": [
    "batch_attn_wghts"
   ]
  },
  {
   "cell_type": "code",
   "execution_count": 89,
   "id": "3e04a659-3640-4597-87dc-5f7bd68a54ba",
   "metadata": {},
   "outputs": [
    {
     "data": {
      "text/plain": [
       "tensor([[[0.0000, 0.0000, 0.0000, 0.0000, 0.0000, 0.0000],\n",
       "         [0.0000, 1.2311, 0.0000, 0.0000, 0.0000, 0.0000],\n",
       "         [0.6119, 0.7645, 0.0000, 0.0000, 0.0000, 0.0000],\n",
       "         [0.4637, 0.4814, 0.5199, 0.5350, 0.0000, 0.0000],\n",
       "         [0.0671, 0.3301, 1.1277, 0.4482, 0.0269, 0.0000],\n",
       "         [0.3312, 0.0000, 0.3683, 0.0000, 0.2873, 0.0000]],\n",
       "\n",
       "        [[2.0000, 0.0000, 0.0000, 0.0000, 0.0000, 0.0000],\n",
       "         [0.0000, 1.2311, 0.0000, 0.0000, 0.0000, 0.0000],\n",
       "         [0.6119, 0.7645, 0.6236, 0.0000, 0.0000, 0.0000],\n",
       "         [0.4637, 0.4814, 0.0000, 0.5350, 0.0000, 0.0000],\n",
       "         [0.0671, 0.3301, 0.0000, 0.0000, 0.0269, 0.0000],\n",
       "         [0.0000, 0.3350, 0.3683, 0.0000, 0.2873, 0.0000]]],\n",
       "       grad_fn=<MulBackward0>)"
      ]
     },
     "execution_count": 89,
     "metadata": {},
     "output_type": "execute_result"
    }
   ],
   "source": [
    "batch_attn_wghts_dropout = dropout_layer(batch_attn_wghts)\n",
    "batch_attn_wghts_dropout"
   ]
  },
  {
   "cell_type": "code",
   "execution_count": 93,
   "id": "8d0d7cc2-960e-4343-ba6a-f0f10f8c25d8",
   "metadata": {},
   "outputs": [
    {
     "data": {
      "text/plain": [
       "torch.Size([2, 6, 2])"
      ]
     },
     "execution_count": 93,
     "metadata": {},
     "output_type": "execute_result"
    }
   ],
   "source": [
    "batch_values.shape"
   ]
  },
  {
   "cell_type": "code",
   "execution_count": 92,
   "id": "cf970567-a157-497f-8dbd-0c19040e2aab",
   "metadata": {},
   "outputs": [
    {
     "data": {
      "text/plain": [
       "torch.Size([2, 6, 6])"
      ]
     },
     "execution_count": 92,
     "metadata": {},
     "output_type": "execute_result"
    }
   ],
   "source": [
    "batch_attn_wghts_dropout.shape"
   ]
  },
  {
   "cell_type": "code",
   "execution_count": 94,
   "id": "3b340f5d-f3b8-4911-8507-bd5ca37b2299",
   "metadata": {},
   "outputs": [
    {
     "data": {
      "text/plain": [
       "tensor([[[ 0.0000,  0.0000],\n",
       "         [-0.2316, -0.1170],\n",
       "         [-0.1988,  0.9619],\n",
       "         [ 0.2226,  0.3011],\n",
       "         [ 0.1256, -0.9171],\n",
       "         [-0.2230,  0.7975]],\n",
       "\n",
       "        [[-0.1797,  3.3813],\n",
       "         [-0.2316, -0.1170],\n",
       "         [-0.2798,  0.3406],\n",
       "         [ 0.2902,  0.8191],\n",
       "         [-0.0818,  0.1387],\n",
       "         [-0.2563,  0.2057]]], grad_fn=<UnsafeViewBackward0>)"
      ]
     },
     "execution_count": 94,
     "metadata": {},
     "output_type": "execute_result"
    }
   ],
   "source": [
    "# context vector\n",
    "batch_context_vector = batch_attn_wghts_dropout @ batch_values\n",
    "batch_context_vector"
   ]
  },
  {
   "cell_type": "code",
   "execution_count": 95,
   "id": "0ceac9a0-9b54-4b94-8b23-be86ac87a420",
   "metadata": {},
   "outputs": [
    {
     "data": {
      "text/plain": [
       "torch.Size([2, 6, 2])"
      ]
     },
     "execution_count": 95,
     "metadata": {},
     "output_type": "execute_result"
    }
   ],
   "source": [
    "batch_context_vector.shape"
   ]
  },
  {
   "cell_type": "code",
   "execution_count": null,
   "id": "05a1cbb5-b1dc-46e6-bf11-a9fd89bbe984",
   "metadata": {},
   "outputs": [],
   "source": []
  },
  {
   "cell_type": "code",
   "execution_count": null,
   "id": "3be34e7d-a3b7-49dc-9b84-92869c13768e",
   "metadata": {},
   "outputs": [],
   "source": []
  }
 ],
 "metadata": {
  "kernelspec": {
   "display_name": "llm",
   "language": "python",
   "name": "llm"
  },
  "language_info": {
   "codemirror_mode": {
    "name": "ipython",
    "version": 3
   },
   "file_extension": ".py",
   "mimetype": "text/x-python",
   "name": "python",
   "nbconvert_exporter": "python",
   "pygments_lexer": "ipython3",
   "version": "3.12.8"
  }
 },
 "nbformat": 4,
 "nbformat_minor": 5
}
