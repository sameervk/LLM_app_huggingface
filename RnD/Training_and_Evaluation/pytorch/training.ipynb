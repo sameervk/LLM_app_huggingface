{
 "cells": [
  {
   "cell_type": "code",
   "execution_count": null,
   "id": "887baa1b-bb33-4999-a7d7-338a0d3098b9",
   "metadata": {},
   "outputs": [],
   "source": []
  },
  {
   "cell_type": "code",
   "execution_count": 1,
   "id": "2594d17f-d753-4447-bc99-e82d1b9912f6",
   "metadata": {},
   "outputs": [],
   "source": [
    "import torch"
   ]
  },
  {
   "cell_type": "code",
   "execution_count": 2,
   "id": "0dc83417-5396-4069-a37f-778e1ef9417e",
   "metadata": {},
   "outputs": [],
   "source": [
    "from pathlib import Path"
   ]
  },
  {
   "cell_type": "markdown",
   "id": "bcc1213e-39dd-476a-b4d0-45a0d380d3e1",
   "metadata": {},
   "source": [
    "## Import GPT2 model"
   ]
  },
  {
   "cell_type": "code",
   "execution_count": 3,
   "id": "fe46db89-1af4-4e35-a2f4-c6b0778d1cbd",
   "metadata": {},
   "outputs": [
    {
     "data": {
      "text/plain": [
       "PosixPath('/home/sameervk/Documents/Training/MachineLearning/LLM_app_huggingface/RnD/Training_and_Evaluation')"
      ]
     },
     "execution_count": 3,
     "metadata": {},
     "output_type": "execute_result"
    }
   ],
   "source": [
    "Path.cwd()"
   ]
  },
  {
   "cell_type": "code",
   "execution_count": 4,
   "id": "50d3a1e8-c0fc-40f8-8b26-ca6a23d6d2ca",
   "metadata": {},
   "outputs": [],
   "source": [
    "import sys"
   ]
  },
  {
   "cell_type": "code",
   "execution_count": 5,
   "id": "1f889350-9527-4cfb-93f3-858da98ab76c",
   "metadata": {},
   "outputs": [],
   "source": [
    "file = Path('__file__').resolve()"
   ]
  },
  {
   "cell_type": "code",
   "execution_count": 6,
   "id": "7c815488-e7b5-4960-aa15-116551c58916",
   "metadata": {},
   "outputs": [
    {
     "data": {
      "text/plain": [
       "PosixPath('/home/sameervk/Documents/Training/MachineLearning/LLM_app_huggingface/RnD/Training_and_Evaluation/__file__')"
      ]
     },
     "execution_count": 6,
     "metadata": {},
     "output_type": "execute_result"
    }
   ],
   "source": [
    "file"
   ]
  },
  {
   "cell_type": "code",
   "execution_count": 7,
   "id": "85674703-f663-4cbd-bb06-4b719a73d71a",
   "metadata": {},
   "outputs": [],
   "source": [
    "parent, root = file.parent, file.parents[2]"
   ]
  },
  {
   "cell_type": "code",
   "execution_count": 8,
   "id": "c6a0e197-334c-4ef9-962b-2d445dddbee3",
   "metadata": {},
   "outputs": [
    {
     "data": {
      "text/plain": [
       "PosixPath('/home/sameervk/Documents/Training/MachineLearning/LLM_app_huggingface/RnD/Training_and_Evaluation')"
      ]
     },
     "execution_count": 8,
     "metadata": {},
     "output_type": "execute_result"
    }
   ],
   "source": [
    "parent"
   ]
  },
  {
   "cell_type": "code",
   "execution_count": 9,
   "id": "ed7b22a1-9f8e-47b9-b208-08289a9e98db",
   "metadata": {},
   "outputs": [
    {
     "data": {
      "text/plain": [
       "PosixPath('/home/sameervk/Documents/Training/MachineLearning/LLM_app_huggingface')"
      ]
     },
     "execution_count": 9,
     "metadata": {},
     "output_type": "execute_result"
    }
   ],
   "source": [
    "root"
   ]
  },
  {
   "cell_type": "code",
   "execution_count": 10,
   "id": "bc6bcf8c-cae9-465b-8d48-df50138ded29",
   "metadata": {},
   "outputs": [],
   "source": [
    "sys.path.append(str(root))\n",
    "try:\n",
    "    sys.path.remove(str(parent))\n",
    "except:\n",
    "    pass"
   ]
  },
  {
   "cell_type": "code",
   "execution_count": 11,
   "id": "8c5bb0b7-b8e2-4497-a160-6ede6684b71e",
   "metadata": {},
   "outputs": [
    {
     "data": {
      "text/plain": [
       "['/home/sameervk/.local/share/uv/python/cpython-3.12.8-linux-x86_64-gnu/lib/python312.zip',\n",
       " '/home/sameervk/.local/share/uv/python/cpython-3.12.8-linux-x86_64-gnu/lib/python3.12',\n",
       " '/home/sameervk/.local/share/uv/python/cpython-3.12.8-linux-x86_64-gnu/lib/python3.12/lib-dynload',\n",
       " '',\n",
       " '/home/sameervk/Documents/Training/MachineLearning/LLM_app_huggingface/api/.venv/lib/python3.12/site-packages',\n",
       " '/home/sameervk/Documents/Training/MachineLearning/LLM_app_huggingface']"
      ]
     },
     "execution_count": 11,
     "metadata": {},
     "output_type": "execute_result"
    }
   ],
   "source": [
    "sys.path"
   ]
  },
  {
   "cell_type": "code",
   "execution_count": 13,
   "id": "31f6aafa-6167-4f12-9e57-659d1c12152b",
   "metadata": {},
   "outputs": [],
   "source": [
    "from RnD.LLM_arch.GPT2.llm_gpt2 import GPT2"
   ]
  },
  {
   "cell_type": "code",
   "execution_count": null,
   "id": "011da099-4128-4997-8021-daead4b9c31b",
   "metadata": {},
   "outputs": [],
   "source": []
  },
  {
   "cell_type": "markdown",
   "id": "a9a87f93-5bf0-4d23-9200-ede12b3bc411",
   "metadata": {},
   "source": [
    "## Import GPT2 config"
   ]
  },
  {
   "cell_type": "code",
   "execution_count": 14,
   "id": "2a9aaaa7-28e8-4013-a761-85e66a439bd7",
   "metadata": {},
   "outputs": [],
   "source": [
    "import yaml"
   ]
  },
  {
   "cell_type": "code",
   "execution_count": 15,
   "id": "1cc58886-ffaa-4ed3-a45e-32be57bedc03",
   "metadata": {},
   "outputs": [
    {
     "name": "stdout",
     "output_type": "stream",
     "text": [
      "{'vocab_size': 50257, 'context_length': 1024, 'embed_dim': 768, 'num_attention_heads': 12, 'num_layers': 12, 'drop_rate': 0.1, 'qkv_bias': False}\n"
     ]
    }
   ],
   "source": [
    "with open(\"../LLM_arch/GPT2/GPT2_arch_config.yaml\", 'r') as file:\n",
    "    config = yaml.safe_load(file.read())\n",
    "    print(config)"
   ]
  },
  {
   "cell_type": "markdown",
   "id": "2acdb59d-7899-4e0f-954a-294a65c15026",
   "metadata": {},
   "source": [
    "## Examination"
   ]
  },
  {
   "cell_type": "code",
   "execution_count": 16,
   "id": "2564e0c7-70ff-44f3-b109-073aacd09d07",
   "metadata": {},
   "outputs": [],
   "source": [
    "test_model = GPT2(**config)"
   ]
  },
  {
   "cell_type": "markdown",
   "id": "c67b27bb-9d46-4b53-908a-1a8c8e851987",
   "metadata": {},
   "source": [
    "### Tokenizer"
   ]
  },
  {
   "cell_type": "code",
   "execution_count": 17,
   "id": "ba20613a-05cd-4523-a133-07a52237cc74",
   "metadata": {},
   "outputs": [],
   "source": [
    "from tokenizers import Tokenizer"
   ]
  },
  {
   "cell_type": "code",
   "execution_count": 18,
   "id": "7bae3a9b-08bd-43c5-9282-2b1d5ccccf2d",
   "metadata": {},
   "outputs": [],
   "source": [
    "tokenizer = Tokenizer.from_pretrained(\"gpt2\")"
   ]
  },
  {
   "cell_type": "code",
   "execution_count": null,
   "id": "41a6015a-34f1-4ef9-a5d9-5a227b441a4a",
   "metadata": {},
   "outputs": [],
   "source": [
    "del to"
   ]
  },
  {
   "cell_type": "markdown",
   "id": "a2b85edd-9f31-433a-8fae-5db2f67bfbf7",
   "metadata": {},
   "source": [
    "### Test inputs"
   ]
  },
  {
   "cell_type": "code",
   "execution_count": 19,
   "id": "c860044f-c439-4efb-a8ce-44fb3d769ec2",
   "metadata": {},
   "outputs": [],
   "source": [
    "test_data = [\"The cost of training large language models is very high.\",\n",
    "            \"This planet will fight back just like human bodies fight back against viruses.\"            \n",
    "            ]"
   ]
  },
  {
   "cell_type": "code",
   "execution_count": 30,
   "id": "15b567bd-7dbc-4429-8f7f-40f22fd5a079",
   "metadata": {},
   "outputs": [
    {
     "data": {
      "text/plain": [
       "[Encoding(num_tokens=11, attributes=[ids, type_ids, tokens, offsets, attention_mask, special_tokens_mask, overflowing]),\n",
       " Encoding(num_tokens=14, attributes=[ids, type_ids, tokens, offsets, attention_mask, special_tokens_mask, overflowing])]"
      ]
     },
     "execution_count": 30,
     "metadata": {},
     "output_type": "execute_result"
    }
   ],
   "source": [
    "# encode\n",
    "test_input_tokens = tokenizer.encode_batch(test_data, add_special_tokens=True)\n",
    "test_input_tokens"
   ]
  },
  {
   "cell_type": "code",
   "execution_count": 24,
   "id": "117ae23b-af04-4022-a828-8af36f4ad799",
   "metadata": {},
   "outputs": [],
   "source": [
    "vocab = tokenizer.get_vocab()"
   ]
  },
  {
   "cell_type": "code",
   "execution_count": 25,
   "id": "57c5fa23-0f5e-408a-b2be-fe847b1b4266",
   "metadata": {},
   "outputs": [
    {
     "data": {
      "text/plain": [
       "dict"
      ]
     },
     "execution_count": 25,
     "metadata": {},
     "output_type": "execute_result"
    }
   ],
   "source": [
    "type(vocab)"
   ]
  },
  {
   "cell_type": "code",
   "execution_count": 26,
   "id": "d436e2e0-2ef1-453d-8cd7-f5f5f6364fff",
   "metadata": {},
   "outputs": [
    {
     "data": {
      "text/plain": [
       "50257"
      ]
     },
     "execution_count": 26,
     "metadata": {},
     "output_type": "execute_result"
    }
   ],
   "source": [
    "len(vocab)"
   ]
  },
  {
   "cell_type": "code",
   "execution_count": 27,
   "id": "b8a4653d-64ea-43d3-af71-31c578819f18",
   "metadata": {},
   "outputs": [
    {
     "data": {
      "text/plain": [
       "True"
      ]
     },
     "execution_count": 27,
     "metadata": {},
     "output_type": "execute_result"
    }
   ],
   "source": [
    "'<|endoftext|>' in vocab"
   ]
  },
  {
   "cell_type": "code",
   "execution_count": 28,
   "id": "5fc28b40-5186-4877-a6c9-0ac56a6c7cb3",
   "metadata": {},
   "outputs": [
    {
     "data": {
      "text/plain": [
       "50256"
      ]
     },
     "execution_count": 28,
     "metadata": {},
     "output_type": "execute_result"
    }
   ],
   "source": [
    "vocab['<|endoftext|>']"
   ]
  },
  {
   "cell_type": "code",
   "execution_count": 29,
   "id": "a7044b3f-f15d-49b3-afc0-fae852931cfa",
   "metadata": {},
   "outputs": [
    {
     "data": {
      "text/plain": [
       "False"
      ]
     },
     "execution_count": 29,
     "metadata": {},
     "output_type": "execute_result"
    }
   ],
   "source": [
    "'<|unk|>' in vocab"
   ]
  },
  {
   "cell_type": "code",
   "execution_count": 32,
   "id": "4a93e62e-c99a-47e3-a271-d0eb4edb9254",
   "metadata": {},
   "outputs": [],
   "source": [
    "tokenids = [elem.ids for elem in test_input_tokens]"
   ]
  },
  {
   "cell_type": "code",
   "execution_count": 33,
   "id": "820a3999-6327-44f6-811e-98585e9c1fa3",
   "metadata": {},
   "outputs": [
    {
     "data": {
      "text/plain": [
       "[[464, 1575, 286, 3047, 1588, 3303, 4981, 318, 845, 1029, 13],\n",
       " [1212,\n",
       "  5440,\n",
       "  481,\n",
       "  1907,\n",
       "  736,\n",
       "  655,\n",
       "  588,\n",
       "  1692,\n",
       "  5920,\n",
       "  1907,\n",
       "  736,\n",
       "  1028,\n",
       "  20547,\n",
       "  13]]"
      ]
     },
     "execution_count": 33,
     "metadata": {},
     "output_type": "execute_result"
    }
   ],
   "source": [
    "tokenids"
   ]
  },
  {
   "cell_type": "code",
   "execution_count": 34,
   "id": "80945871-f8d0-42fe-9fc0-35841fcb91d7",
   "metadata": {},
   "outputs": [
    {
     "data": {
      "text/plain": [
       "[[464, 1575, 286, 3047], [1212, 5440, 481, 1907]]"
      ]
     },
     "execution_count": 34,
     "metadata": {},
     "output_type": "execute_result"
    }
   ],
   "source": [
    "test_x = [row[:4] for row in tokenids]\n",
    "test_x"
   ]
  },
  {
   "cell_type": "code",
   "execution_count": 35,
   "id": "52ed933b-687f-4911-b9a1-047f33206fbb",
   "metadata": {},
   "outputs": [
    {
     "data": {
      "text/plain": [
       "[[1575, 286, 3047, 1588], [5440, 481, 1907, 736]]"
      ]
     },
     "execution_count": 35,
     "metadata": {},
     "output_type": "execute_result"
    }
   ],
   "source": [
    "# y: shift 1 elem forward\n",
    "test_y = [row[1:5] for row in tokenids]\n",
    "test_y"
   ]
  },
  {
   "cell_type": "markdown",
   "id": "ee4d6d09-a06d-4e63-a4bc-00a85b0707c3",
   "metadata": {},
   "source": [
    "### Model output probabilities"
   ]
  },
  {
   "cell_type": "code",
   "execution_count": 36,
   "id": "4c55dfdc-e8ac-46cd-a9cf-d5bca1671849",
   "metadata": {},
   "outputs": [],
   "source": [
    "logits = test_model(torch.tensor(test_x))"
   ]
  },
  {
   "cell_type": "code",
   "execution_count": 37,
   "id": "d9a9e1fd-c565-45db-991c-dd615cb5bdfb",
   "metadata": {},
   "outputs": [
    {
     "data": {
      "text/plain": [
       "torch.Size([2, 4, 50257])"
      ]
     },
     "execution_count": 37,
     "metadata": {},
     "output_type": "execute_result"
    }
   ],
   "source": [
    "logits.size()"
   ]
  },
  {
   "cell_type": "code",
   "execution_count": 101,
   "id": "b08e8674-92b4-4ed4-b3f0-ec13bab3d199",
   "metadata": {},
   "outputs": [
    {
     "data": {
      "text/plain": [
       "torch.Size([2, 4, 50257])"
      ]
     },
     "execution_count": 101,
     "metadata": {},
     "output_type": "execute_result"
    }
   ],
   "source": [
    "probs = torch.softmax(logits, dim=-1)\n",
    "probs.shape"
   ]
  },
  {
   "cell_type": "markdown",
   "id": "cf7c7fb7-9191-4e09-b762-fcc319e44afd",
   "metadata": {},
   "source": [
    "#### Predicted Next Token Probabilities"
   ]
  },
  {
   "cell_type": "code",
   "execution_count": 71,
   "id": "c8fae8cb-79d0-42dc-847c-e9724a120985",
   "metadata": {},
   "outputs": [],
   "source": [
    "predicted_probs = torch.max(probs, dim=-1)"
   ]
  },
  {
   "cell_type": "code",
   "execution_count": 72,
   "id": "5ff48d3a-739c-4037-90c7-da22fedfa7a5",
   "metadata": {},
   "outputs": [
    {
     "data": {
      "text/plain": [
       "torch.return_types.max(\n",
       "values=tensor([[0.0003, 0.0002, 0.0002, 0.0003],\n",
       "        [0.0002, 0.0003, 0.0002, 0.0002]], grad_fn=<MaxBackward0>),\n",
       "indices=tensor([[49633, 11466, 39003, 13462],\n",
       "        [32524, 17028, 25234, 41271]]))"
      ]
     },
     "execution_count": 72,
     "metadata": {},
     "output_type": "execute_result"
    }
   ],
   "source": [
    "predicted_probs"
   ]
  },
  {
   "cell_type": "code",
   "execution_count": 73,
   "id": "e1cbfc51-b368-4879-b1f8-03a466702fc5",
   "metadata": {},
   "outputs": [
    {
     "data": {
      "text/plain": [
       "tensor([[0.0003, 0.0002, 0.0002, 0.0003],\n",
       "        [0.0002, 0.0003, 0.0002, 0.0002]], grad_fn=<MaxBackward0>)"
      ]
     },
     "execution_count": 73,
     "metadata": {},
     "output_type": "execute_result"
    }
   ],
   "source": [
    "predicted_probs.values"
   ]
  },
  {
   "cell_type": "code",
   "execution_count": 74,
   "id": "e69a053e-eebe-4b15-96cb-e5c9185fd57d",
   "metadata": {},
   "outputs": [
    {
     "data": {
      "text/plain": [
       "tensor([[0.0003, 0.0002, 0.0002, 0.0003],\n",
       "        [0.0002, 0.0003, 0.0002, 0.0002]])"
      ]
     },
     "execution_count": 74,
     "metadata": {},
     "output_type": "execute_result"
    }
   ],
   "source": [
    "predicted_probs.values.detach()"
   ]
  },
  {
   "cell_type": "code",
   "execution_count": 39,
   "id": "a08225c9-dc3f-4fac-ab0d-476117ec0684",
   "metadata": {},
   "outputs": [
    {
     "data": {
      "text/plain": [
       "tensor([[[49633],\n",
       "         [11466],\n",
       "         [39003],\n",
       "         [13462]],\n",
       "\n",
       "        [[32524],\n",
       "         [17028],\n",
       "         [25234],\n",
       "         [41271]]])"
      ]
     },
     "execution_count": 39,
     "metadata": {},
     "output_type": "execute_result"
    }
   ],
   "source": [
    "# output indices\n",
    "output_idx = torch.argmax(probs, dim=-1, keepdim=True)\n",
    "output_idx"
   ]
  },
  {
   "cell_type": "markdown",
   "id": "f6247d9a-6564-4167-8c4c-552145e2def3",
   "metadata": {},
   "source": [
    "#### Target probabilities"
   ]
  },
  {
   "cell_type": "code",
   "execution_count": 40,
   "id": "4888477b-efcd-4d00-b5dc-a24f2aa0084b",
   "metadata": {},
   "outputs": [
    {
     "data": {
      "text/plain": [
       "[[1575, 286, 3047, 1588], [5440, 481, 1907, 736]]"
      ]
     },
     "execution_count": 40,
     "metadata": {},
     "output_type": "execute_result"
    }
   ],
   "source": [
    "test_y"
   ]
  },
  {
   "cell_type": "code",
   "execution_count": 41,
   "id": "64467f73-ac99-4f74-8eec-156b2ebdac1f",
   "metadata": {},
   "outputs": [
    {
     "data": {
      "text/plain": [
       "torch.Size([2, 4])"
      ]
     },
     "execution_count": 41,
     "metadata": {},
     "output_type": "execute_result"
    }
   ],
   "source": [
    "test_y = torch.tensor(test_y)\n",
    "test_y.shape"
   ]
  },
  {
   "cell_type": "code",
   "execution_count": 61,
   "id": "792e4274-c5f8-4c3c-be76-a73a1a4abb46",
   "metadata": {},
   "outputs": [
    {
     "data": {
      "text/plain": [
       "tensor([[[[9.1741e-06, 2.7827e-05, 3.3129e-05, 6.5669e-06],\n",
       "          [1.7419e-05, 1.7504e-05, 4.0294e-05, 2.0428e-05]],\n",
       "\n",
       "         [[2.3878e-05, 4.4040e-05, 2.2334e-05, 1.4561e-05],\n",
       "          [1.4114e-05, 5.3751e-06, 2.3284e-05, 1.3729e-05]],\n",
       "\n",
       "         [[1.8311e-05, 1.2645e-05, 1.4060e-05, 1.3956e-05],\n",
       "          [1.3896e-05, 5.8000e-06, 2.4935e-05, 1.8271e-05]],\n",
       "\n",
       "         [[1.3174e-05, 1.8269e-05, 3.2913e-05, 1.9116e-05],\n",
       "          [2.2694e-05, 1.5157e-05, 1.0626e-05, 1.3994e-05]]],\n",
       "\n",
       "\n",
       "        [[[1.0472e-05, 2.8052e-05, 1.5445e-05, 9.4022e-06],\n",
       "          [9.9974e-06, 1.2662e-05, 2.0372e-05, 2.9668e-05]],\n",
       "\n",
       "         [[1.6634e-05, 2.7273e-05, 1.7232e-05, 1.3653e-05],\n",
       "          [9.8789e-06, 6.6897e-06, 4.0113e-05, 1.4667e-05]],\n",
       "\n",
       "         [[2.0394e-05, 4.5099e-05, 7.9016e-06, 8.8200e-06],\n",
       "          [1.3738e-05, 1.1901e-05, 1.5592e-05, 2.0482e-05]],\n",
       "\n",
       "         [[2.1178e-05, 2.1895e-05, 1.5412e-05, 1.3532e-05],\n",
       "          [1.2191e-05, 1.0758e-05, 1.8833e-05, 1.1507e-05]]]],\n",
       "       grad_fn=<IndexBackward0>)"
      ]
     },
     "execution_count": 61,
     "metadata": {},
     "output_type": "execute_result"
    }
   ],
   "source": [
    "probs[:,:,test_y]"
   ]
  },
  {
   "cell_type": "code",
   "execution_count": 45,
   "id": "052c279e-e7b8-4562-8936-cffce87ac356",
   "metadata": {},
   "outputs": [
    {
     "data": {
      "text/plain": [
       "torch.Size([2, 4, 1])"
      ]
     },
     "execution_count": 45,
     "metadata": {},
     "output_type": "execute_result"
    }
   ],
   "source": [
    "test_y.unsqueeze(-1).shape"
   ]
  },
  {
   "cell_type": "code",
   "execution_count": 52,
   "id": "dd2c7525-794c-431f-af34-d30b2b0dbb76",
   "metadata": {},
   "outputs": [
    {
     "data": {
      "text/plain": [
       "tensor([9.1741e-06, 4.4040e-05, 1.4060e-05, 1.9116e-05],\n",
       "       grad_fn=<IndexBackward0>)"
      ]
     },
     "execution_count": 52,
     "metadata": {},
     "output_type": "execute_result"
    }
   ],
   "source": [
    "probs[0,[0,1,2,3], test_y[0]]"
   ]
  },
  {
   "cell_type": "code",
   "execution_count": 64,
   "id": "ad0d245e-a916-4f1b-b65e-69bd8682a105",
   "metadata": {},
   "outputs": [
    {
     "data": {
      "text/plain": [
       "tensor([9.9974e-06, 6.6897e-06, 1.5592e-05, 1.1507e-05],\n",
       "       grad_fn=<IndexBackward0>)"
      ]
     },
     "execution_count": 64,
     "metadata": {},
     "output_type": "execute_result"
    }
   ],
   "source": [
    "probs[1,[0,1,2,3], test_y[1]]"
   ]
  },
  {
   "cell_type": "code",
   "execution_count": 56,
   "id": "f98ba9ba-4217-494c-a797-2b07141e0bc3",
   "metadata": {},
   "outputs": [
    {
     "data": {
      "text/plain": [
       "tensor([[1575],\n",
       "        [ 286],\n",
       "        [3047],\n",
       "        [1588]])"
      ]
     },
     "execution_count": 56,
     "metadata": {},
     "output_type": "execute_result"
    }
   ],
   "source": [
    "test_y[0].unsqueeze(-1)"
   ]
  },
  {
   "cell_type": "code",
   "execution_count": 58,
   "id": "57b2e662-9c67-4e7f-94fc-c238eb6acc81",
   "metadata": {},
   "outputs": [
    {
     "data": {
      "text/plain": [
       "tensor([[9.1741e-06, 2.7827e-05, 3.3129e-05, 6.5669e-06],\n",
       "        [2.3878e-05, 4.4040e-05, 2.2334e-05, 1.4561e-05],\n",
       "        [1.8311e-05, 1.2645e-05, 1.4060e-05, 1.3956e-05],\n",
       "        [1.3174e-05, 1.8269e-05, 3.2913e-05, 1.9116e-05]],\n",
       "       grad_fn=<IndexBackward0>)"
      ]
     },
     "execution_count": 58,
     "metadata": {},
     "output_type": "execute_result"
    }
   ],
   "source": [
    "probs[0,:,test_y[0]]"
   ]
  },
  {
   "cell_type": "code",
   "execution_count": 65,
   "id": "4f37ac4b-bacb-4acd-b3e9-c8b106db185a",
   "metadata": {},
   "outputs": [
    {
     "data": {
      "text/plain": [
       "tensor([[9.9974e-06, 1.2662e-05, 2.0372e-05, 2.9668e-05],\n",
       "        [9.8789e-06, 6.6897e-06, 4.0113e-05, 1.4667e-05],\n",
       "        [1.3738e-05, 1.1901e-05, 1.5592e-05, 2.0482e-05],\n",
       "        [1.2191e-05, 1.0758e-05, 1.8833e-05, 1.1507e-05]],\n",
       "       grad_fn=<IndexBackward0>)"
      ]
     },
     "execution_count": 65,
     "metadata": {},
     "output_type": "execute_result"
    }
   ],
   "source": [
    "probs[1,:,test_y[1]]"
   ]
  },
  {
   "cell_type": "code",
   "execution_count": 59,
   "id": "e429aac9-50da-4f2b-aeb0-7f060503fe64",
   "metadata": {},
   "outputs": [
    {
     "data": {
      "text/plain": [
       "tensor([9.1741e-06, 4.4040e-05, 1.4060e-05, 1.9116e-05],\n",
       "       grad_fn=<DiagonalBackward0_copy>)"
      ]
     },
     "execution_count": 59,
     "metadata": {},
     "output_type": "execute_result"
    }
   ],
   "source": [
    "torch.diag(probs[0,:,test_y[0]], 0)"
   ]
  },
  {
   "cell_type": "code",
   "execution_count": 63,
   "id": "2556cd5d-a63e-4d62-b89a-fe5fe6fd857e",
   "metadata": {},
   "outputs": [
    {
     "data": {
      "text/plain": [
       "[tensor([9.1741e-06, 4.4040e-05, 1.4060e-05, 1.9116e-05],\n",
       "        grad_fn=<DiagonalBackward0_copy>),\n",
       " tensor([9.9974e-06, 6.6897e-06, 1.5592e-05, 1.1507e-05],\n",
       "        grad_fn=<DiagonalBackward0_copy>)]"
      ]
     },
     "execution_count": 63,
     "metadata": {},
     "output_type": "execute_result"
    }
   ],
   "source": [
    "[torch.diag(probs[i,:,test_y[i]], 0) for i in range(probs.shape[0])]"
   ]
  },
  {
   "cell_type": "code",
   "execution_count": 66,
   "id": "15454091-1177-4650-bc70-ba6a77ba8b37",
   "metadata": {},
   "outputs": [],
   "source": [
    "x = torch.diag(probs[0,:,test_y[0]], 0)"
   ]
  },
  {
   "cell_type": "code",
   "execution_count": 67,
   "id": "aee05135-1db8-41ad-b407-f4d18c2fcd31",
   "metadata": {},
   "outputs": [],
   "source": [
    "x=x.detach()"
   ]
  },
  {
   "cell_type": "code",
   "execution_count": 68,
   "id": "a0d3d3c0-901f-4c70-bba9-386d15340a8e",
   "metadata": {},
   "outputs": [
    {
     "data": {
      "text/plain": [
       "tensor([9.1741e-06, 4.4040e-05, 1.4060e-05, 1.9116e-05])"
      ]
     },
     "execution_count": 68,
     "metadata": {},
     "output_type": "execute_result"
    }
   ],
   "source": [
    "x"
   ]
  },
  {
   "cell_type": "code",
   "execution_count": 69,
   "id": "5dab6eff-a81a-429b-9aa3-b4e8e449add4",
   "metadata": {},
   "outputs": [
    {
     "data": {
      "text/plain": [
       "[tensor([9.1741e-06, 4.4040e-05, 1.4060e-05, 1.9116e-05]),\n",
       " tensor([9.9974e-06, 6.6897e-06, 1.5592e-05, 1.1507e-05])]"
      ]
     },
     "execution_count": 69,
     "metadata": {},
     "output_type": "execute_result"
    }
   ],
   "source": [
    "[torch.diag(probs[i,:,test_y[i]], diagonal=0).detach() for i in range(probs.shape[0])]"
   ]
  },
  {
   "cell_type": "code",
   "execution_count": 75,
   "id": "4d98ab83-58dc-4e3b-923f-58a9038f8473",
   "metadata": {},
   "outputs": [
    {
     "data": {
      "text/plain": [
       "[tensor([9.1741e-06, 4.4040e-05, 1.4060e-05, 1.9116e-05]),\n",
       " tensor([9.9974e-06, 6.6897e-06, 1.5592e-05, 1.1507e-05])]"
      ]
     },
     "execution_count": 75,
     "metadata": {},
     "output_type": "execute_result"
    }
   ],
   "source": [
    "target_probs = [torch.diag(probs[i,:,test_y[i]], diagonal=0).detach() for i in range(probs.shape[0])]\n",
    "target_probs"
   ]
  },
  {
   "cell_type": "code",
   "execution_count": 77,
   "id": "a581a1fe-c5e4-4e77-943c-e1e9cfbcd88c",
   "metadata": {},
   "outputs": [
    {
     "data": {
      "text/plain": [
       "tensor([[0.0003, 0.0002, 0.0002, 0.0003],\n",
       "        [0.0002, 0.0003, 0.0002, 0.0002]])"
      ]
     },
     "execution_count": 77,
     "metadata": {},
     "output_type": "execute_result"
    }
   ],
   "source": [
    "predicted_probs.values.detach()"
   ]
  },
  {
   "cell_type": "code",
   "execution_count": null,
   "id": "7b71876a-acdd-4307-bdbe-888d4159d60c",
   "metadata": {},
   "outputs": [],
   "source": []
  },
  {
   "cell_type": "markdown",
   "id": "c4748909-92cd-43a3-8dca-91e51aaa0060",
   "metadata": {},
   "source": [
    "## Loss function"
   ]
  },
  {
   "cell_type": "markdown",
   "id": "7964f028-9d21-454b-a9ec-de0f29069160",
   "metadata": {},
   "source": [
    "### NOTE\n",
    "\n",
    "* Objective is to \"to reduce the average log target probability to zero\". Why?\n",
    "* Answer: Because, loss calculation is the difference between true and predicted. So, this difference must be reduced to zero during training."
   ]
  },
  {
   "cell_type": "markdown",
   "id": "d1233b10-04ac-4436-8158-dc348c3b4c90",
   "metadata": {},
   "source": [
    "### Custom loss calculation"
   ]
  },
  {
   "cell_type": "code",
   "execution_count": 78,
   "id": "52b10d51-dbda-4726-9f8f-223b4e7ab323",
   "metadata": {},
   "outputs": [],
   "source": [
    "# concatenate\n",
    "log_target_probs = torch.cat(target_probs)"
   ]
  },
  {
   "cell_type": "code",
   "execution_count": 79,
   "id": "c4955a48-707d-4067-9aee-831f4569cebe",
   "metadata": {},
   "outputs": [
    {
     "data": {
      "text/plain": [
       "tensor([9.1741e-06, 4.4040e-05, 1.4060e-05, 1.9116e-05, 9.9974e-06, 6.6897e-06,\n",
       "        1.5592e-05, 1.1507e-05])"
      ]
     },
     "execution_count": 79,
     "metadata": {},
     "output_type": "execute_result"
    }
   ],
   "source": [
    "log_target_probs"
   ]
  },
  {
   "cell_type": "code",
   "execution_count": 80,
   "id": "e731f404-a970-4195-ad0c-8849a5836038",
   "metadata": {},
   "outputs": [
    {
     "data": {
      "text/plain": [
       "tensor([-11.5991, -10.0304, -11.1722, -10.8650, -11.5132, -11.9149, -11.0687,\n",
       "        -11.3726])"
      ]
     },
     "execution_count": 80,
     "metadata": {},
     "output_type": "execute_result"
    }
   ],
   "source": [
    "# apply log in place\n",
    "log_target_probs.log_()"
   ]
  },
  {
   "cell_type": "code",
   "execution_count": 81,
   "id": "21413f77-ebfa-41ff-bcf2-084d070f0b36",
   "metadata": {},
   "outputs": [
    {
     "data": {
      "text/plain": [
       "tensor(-11.1920)"
      ]
     },
     "execution_count": 81,
     "metadata": {},
     "output_type": "execute_result"
    }
   ],
   "source": [
    "# mean\n",
    "avg_log_target_probs = torch.mean(log_target_probs)\n",
    "avg_log_target_probs"
   ]
  },
  {
   "cell_type": "code",
   "execution_count": 82,
   "id": "dd45ab78-eba1-435e-bad4-f9e52f9aac36",
   "metadata": {},
   "outputs": [
    {
     "data": {
      "text/plain": [
       "tensor(11.1920)"
      ]
     },
     "execution_count": 82,
     "metadata": {},
     "output_type": "execute_result"
    }
   ],
   "source": [
    "# negative of mean\n",
    "neg_avg_log_target_probs = -1*avg_log_target_probs\n",
    "neg_avg_log_target_probs"
   ]
  },
  {
   "cell_type": "code",
   "execution_count": null,
   "id": "c6534916-5145-448c-9731-a7ae92fd4e45",
   "metadata": {},
   "outputs": [],
   "source": []
  },
  {
   "cell_type": "markdown",
   "id": "86cb75f8-8fb6-4897-8b66-96f882173ba8",
   "metadata": {},
   "source": [
    "### Cross Entropy"
   ]
  },
  {
   "cell_type": "code",
   "execution_count": 83,
   "id": "8c8db94f-11d0-4c46-88a9-ddb0130fe215",
   "metadata": {},
   "outputs": [
    {
     "data": {
      "text/plain": [
       "torch.Size([2, 4, 50257])"
      ]
     },
     "execution_count": 83,
     "metadata": {},
     "output_type": "execute_result"
    }
   ],
   "source": [
    "logits.shape"
   ]
  },
  {
   "cell_type": "code",
   "execution_count": 84,
   "id": "17d4e517-6cca-4c90-919a-d4e075a3a67c",
   "metadata": {},
   "outputs": [
    {
     "data": {
      "text/plain": [
       "torch.Size([2, 4])"
      ]
     },
     "execution_count": 84,
     "metadata": {},
     "output_type": "execute_result"
    }
   ],
   "source": [
    "test_y.shape"
   ]
  },
  {
   "cell_type": "code",
   "execution_count": 87,
   "id": "65cb53bd-242d-4277-9cb5-2150142743bc",
   "metadata": {},
   "outputs": [
    {
     "data": {
      "text/plain": [
       "tensor([[1575,  286, 3047, 1588],\n",
       "        [5440,  481, 1907,  736]])"
      ]
     },
     "execution_count": 87,
     "metadata": {},
     "output_type": "execute_result"
    }
   ],
   "source": [
    "test_y"
   ]
  },
  {
   "cell_type": "code",
   "execution_count": 85,
   "id": "c9adee71-9bfb-4ff5-8077-7b6378e398d9",
   "metadata": {},
   "outputs": [
    {
     "data": {
      "text/plain": [
       "torch.Size([8, 50257])"
      ]
     },
     "execution_count": 85,
     "metadata": {},
     "output_type": "execute_result"
    }
   ],
   "source": [
    "logits_flat = logits.flatten(0,1)\n",
    "logits_flat.shape"
   ]
  },
  {
   "cell_type": "code",
   "execution_count": 88,
   "id": "8d289387-9c69-4cbc-9600-f89c47c1e4f8",
   "metadata": {},
   "outputs": [
    {
     "data": {
      "text/plain": [
       "tensor([1575,  286, 3047, 1588, 5440,  481, 1907,  736])"
      ]
     },
     "execution_count": 88,
     "metadata": {},
     "output_type": "execute_result"
    }
   ],
   "source": [
    "test_y_flat = test_y.flatten(0)\n",
    "test_y_flat"
   ]
  },
  {
   "cell_type": "markdown",
   "id": "ff5d2745-6daa-46b8-ad79-3d639f0f8c37",
   "metadata": {},
   "source": [
    "#### Using target indices"
   ]
  },
  {
   "cell_type": "code",
   "execution_count": 89,
   "id": "c46f3d8b-3156-4200-a151-d5a23b2c0498",
   "metadata": {},
   "outputs": [
    {
     "data": {
      "text/plain": [
       "tensor(11.1920, grad_fn=<NllLossBackward0>)"
      ]
     },
     "execution_count": 89,
     "metadata": {},
     "output_type": "execute_result"
    }
   ],
   "source": [
    "cross_entropy_loss = torch.nn.functional.cross_entropy(input=logits_flat, target=test_y_flat)\n",
    "cross_entropy_loss"
   ]
  },
  {
   "cell_type": "markdown",
   "id": "78e26842-5f2c-4129-86d5-844a5f887498",
   "metadata": {},
   "source": [
    "* Matches the custom calculation"
   ]
  },
  {
   "cell_type": "code",
   "execution_count": 109,
   "id": "c314cadc-38fe-456a-84f4-62be488610a3",
   "metadata": {},
   "outputs": [
    {
     "data": {
      "text/plain": [
       "tensor([2.7601, 2.4410, 2.2409, 2.8765, 2.3931, 2.7756, 2.4282, 2.4139],\n",
       "       grad_fn=<MaxBackward0>)"
      ]
     },
     "execution_count": 109,
     "metadata": {},
     "output_type": "execute_result"
    }
   ],
   "source": [
    "torch.max(logits_flat, dim=-1).values"
   ]
  },
  {
   "cell_type": "markdown",
   "id": "b305d28a-3135-4a2d-b01a-05d97581d41b",
   "metadata": {},
   "source": [
    "#### Using probabilities"
   ]
  },
  {
   "cell_type": "code",
   "execution_count": 90,
   "id": "02f73d0e-b0b8-4876-a31a-c64f9dfa97e8",
   "metadata": {},
   "outputs": [
    {
     "data": {
      "text/plain": [
       "[tensor([9.1741e-06, 4.4040e-05, 1.4060e-05, 1.9116e-05]),\n",
       " tensor([9.9974e-06, 6.6897e-06, 1.5592e-05, 1.1507e-05])]"
      ]
     },
     "execution_count": 90,
     "metadata": {},
     "output_type": "execute_result"
    }
   ],
   "source": [
    "target_probs"
   ]
  },
  {
   "cell_type": "code",
   "execution_count": 95,
   "id": "2c03a2fb-3033-4993-a59a-ae0fbd4777ea",
   "metadata": {},
   "outputs": [
    {
     "data": {
      "text/plain": [
       "tensor([[9.1741e-06, 4.4040e-05, 1.4060e-05, 1.9116e-05],\n",
       "        [9.9974e-06, 6.6897e-06, 1.5592e-05, 1.1507e-05]])"
      ]
     },
     "execution_count": 95,
     "metadata": {},
     "output_type": "execute_result"
    }
   ],
   "source": [
    "target_probs_flat = torch.tensor([elem.tolist() for elem in target_probs])\n",
    "target_probs_flat"
   ]
  },
  {
   "cell_type": "code",
   "execution_count": 96,
   "id": "dae08408-7011-402e-ab32-fb48f798a668",
   "metadata": {},
   "outputs": [
    {
     "data": {
      "text/plain": [
       "tensor([9.1741e-06, 4.4040e-05, 1.4060e-05, 1.9116e-05, 9.9974e-06, 6.6897e-06,\n",
       "        1.5592e-05, 1.1507e-05])"
      ]
     },
     "execution_count": 96,
     "metadata": {},
     "output_type": "execute_result"
    }
   ],
   "source": [
    "target_probs_flat = target_probs_flat.flatten()\n",
    "target_probs_flat"
   ]
  },
  {
   "cell_type": "code",
   "execution_count": 110,
   "id": "46ad3fad-fa96-49ce-b0f0-f81930989836",
   "metadata": {},
   "outputs": [
    {
     "data": {
      "text/plain": [
       "tensor(0.0003, grad_fn=<DivBackward1>)"
      ]
     },
     "execution_count": 110,
     "metadata": {},
     "output_type": "execute_result"
    }
   ],
   "source": [
    "cross_entropy_loss_p = torch.nn.functional.cross_entropy(torch.max(logits_flat, dim=-1).values, \n",
    "                                                         target_probs_flat,\n",
    "                                                        )\n",
    "cross_entropy_loss_p"
   ]
  },
  {
   "cell_type": "markdown",
   "id": "81d4fe87-df4c-4808-8af4-8cce16564594",
   "metadata": {},
   "source": [
    "#### NOTE:\n",
    "* Cannot use probabilities because we do not know the true probabilities.\n",
    "* Here the true targets are class indices not probabilities.\n",
    "* In the current check above using indices, pytorch uses the indices to retrieve the corresponding values from the predicted logits and follows the same steps as in the custom calculation."
   ]
  },
  {
   "cell_type": "code",
   "execution_count": null,
   "id": "d1d3ed79-c9bf-4add-97d4-96c1ece8d6df",
   "metadata": {},
   "outputs": [],
   "source": []
  }
 ],
 "metadata": {
  "kernelspec": {
   "display_name": "llm",
   "language": "python",
   "name": "llm"
  },
  "language_info": {
   "codemirror_mode": {
    "name": "ipython",
    "version": 3
   },
   "file_extension": ".py",
   "mimetype": "text/x-python",
   "name": "python",
   "nbconvert_exporter": "python",
   "pygments_lexer": "ipython3",
   "version": "3.12.8"
  }
 },
 "nbformat": 4,
 "nbformat_minor": 5
}
