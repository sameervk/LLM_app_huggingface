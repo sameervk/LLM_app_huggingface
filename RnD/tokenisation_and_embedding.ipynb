{
 "cells": [
  {
   "cell_type": "markdown",
   "id": "8d98cf8e-7fd2-49aa-aa6d-3177887b8621",
   "metadata": {},
   "source": [
    "# Import data"
   ]
  },
  {
   "cell_type": "code",
   "execution_count": 1,
   "id": "67286c7a-f86d-4277-9648-92c12c112a33",
   "metadata": {},
   "outputs": [],
   "source": [
    "import urllib.request"
   ]
  },
  {
   "cell_type": "code",
   "execution_count": 4,
   "id": "9932bab4-a64c-4654-ad82-b251e93ec3c4",
   "metadata": {},
   "outputs": [
    {
     "data": {
      "text/plain": [
       "('the-verdict.txt', <http.client.HTTPMessage at 0x730f0cd918b0>)"
      ]
     },
     "execution_count": 4,
     "metadata": {},
     "output_type": "execute_result"
    }
   ],
   "source": [
    "url = (\"https://raw.githubusercontent.com/rasbt/\"\n",
    "       \"LLMs-from-scratch/main/ch02/01_main-chapter-code/\"\n",
    "      \"the-verdict.txt\")\n",
    "file_path = \"the-verdict.txt\"\n",
    "urllib.request.urlretrieve(url, file_path)"
   ]
  },
  {
   "cell_type": "code",
   "execution_count": 5,
   "id": "4189fb28-5f6a-4636-8277-7a60c62faf61",
   "metadata": {},
   "outputs": [
    {
     "name": "stdout",
     "output_type": "stream",
     "text": [
      "Total number of characters: 20479\n",
      "I HAD always thought Jack Gisburn rather a cheap genius--though a good fellow enough--so it was no \n"
     ]
    }
   ],
   "source": [
    "with open(\"the-verdict.txt\", \"r\", encoding=\"utf-8\") as f:\n",
    "    raw_text = f.read()\n",
    "print(f\"Total number of characters: {len(raw_text)}\")\n",
    "print(raw_text[:99])"
   ]
  },
  {
   "cell_type": "code",
   "execution_count": null,
   "id": "ba8965db-04da-4a38-b923-eab7fb57217f",
   "metadata": {},
   "outputs": [],
   "source": []
  },
  {
   "cell_type": "markdown",
   "id": "3d9ec01a-fdfe-47cf-a680-b97af0a8b983",
   "metadata": {},
   "source": [
    "# Custom tokenizer"
   ]
  },
  {
   "cell_type": "code",
   "execution_count": 6,
   "id": "f2500c8b-be82-4a34-924b-2f593cc5f663",
   "metadata": {},
   "outputs": [],
   "source": [
    "import re"
   ]
  },
  {
   "cell_type": "code",
   "execution_count": 29,
   "id": "0ce348a8-a85b-44a7-9875-204887294441",
   "metadata": {},
   "outputs": [],
   "source": [
    "extracted_content = re.split(r'([,.:;?_!\"()\\']|--|\\s)', raw_text)"
   ]
  },
  {
   "cell_type": "code",
   "execution_count": 30,
   "id": "eab69b0a-3322-4d28-9b58-6c627b9742d6",
   "metadata": {},
   "outputs": [
    {
     "data": {
      "text/plain": [
       "9235"
      ]
     },
     "execution_count": 30,
     "metadata": {},
     "output_type": "execute_result"
    }
   ],
   "source": [
    "len(extracted_content)"
   ]
  },
  {
   "cell_type": "markdown",
   "id": "3dcf96d3-4881-46ba-9b87-b2d0bbe4e895",
   "metadata": {},
   "source": [
    "#### number of white spaces"
   ]
  },
  {
   "cell_type": "code",
   "execution_count": 31,
   "id": "0a371ff9-5912-4491-82de-b3b551926235",
   "metadata": {},
   "outputs": [
    {
     "data": {
      "text/plain": [
       "list"
      ]
     },
     "execution_count": 31,
     "metadata": {},
     "output_type": "execute_result"
    }
   ],
   "source": [
    "type(extracted_content)"
   ]
  },
  {
   "cell_type": "code",
   "execution_count": 32,
   "id": "fc38e4dd-b634-4343-86eb-90655aa6dec6",
   "metadata": {},
   "outputs": [
    {
     "data": {
      "text/plain": [
       "3551"
      ]
     },
     "execution_count": 32,
     "metadata": {},
     "output_type": "execute_result"
    }
   ],
   "source": [
    "len(list(filter(lambda x: x == ' ' or x =='\\t', extracted_content)))"
   ]
  },
  {
   "cell_type": "markdown",
   "id": "5d4c25bb-b812-479e-aef1-ec9951a1f358",
   "metadata": {},
   "source": [
    "#### removing white spaces"
   ]
  },
  {
   "cell_type": "code",
   "execution_count": 33,
   "id": "549d2b08-09df-4a84-80c1-1d6209d34427",
   "metadata": {},
   "outputs": [],
   "source": [
    "x = 'tst '"
   ]
  },
  {
   "cell_type": "code",
   "execution_count": 34,
   "id": "5ebee162-500f-4279-a6a6-28d122f943fa",
   "metadata": {},
   "outputs": [
    {
     "data": {
      "text/plain": [
       "'tst'"
      ]
     },
     "execution_count": 34,
     "metadata": {},
     "output_type": "execute_result"
    }
   ],
   "source": [
    "x.strip()"
   ]
  },
  {
   "cell_type": "code",
   "execution_count": 35,
   "id": "283ddb5a-62ff-41c6-8d47-3c5560c518f8",
   "metadata": {},
   "outputs": [],
   "source": [
    "extracted_content =  [item.strip() for item in extracted_content if item.strip()]"
   ]
  },
  {
   "cell_type": "code",
   "execution_count": 36,
   "id": "827d9834-cdf2-4acf-a389-a085b0eec2e6",
   "metadata": {},
   "outputs": [
    {
     "data": {
      "text/plain": [
       "4690"
      ]
     },
     "execution_count": 36,
     "metadata": {},
     "output_type": "execute_result"
    }
   ],
   "source": [
    "len(extracted_content)"
   ]
  },
  {
   "cell_type": "code",
   "execution_count": 37,
   "id": "9ba58479-ccb5-4d30-9f74-b395c103aea6",
   "metadata": {},
   "outputs": [
    {
     "data": {
      "text/plain": [
       "['I',\n",
       " 'HAD',\n",
       " 'always',\n",
       " 'thought',\n",
       " 'Jack',\n",
       " 'Gisburn',\n",
       " 'rather',\n",
       " 'a',\n",
       " 'cheap',\n",
       " 'genius',\n",
       " '--',\n",
       " 'though',\n",
       " 'a',\n",
       " 'good',\n",
       " 'fellow',\n",
       " 'enough',\n",
       " '--',\n",
       " 'so',\n",
       " 'it',\n",
       " 'was',\n",
       " 'no',\n",
       " 'great',\n",
       " 'surprise',\n",
       " 'to',\n",
       " 'me',\n",
       " 'to',\n",
       " 'hear',\n",
       " 'that',\n",
       " ',',\n",
       " 'in']"
      ]
     },
     "execution_count": 37,
     "metadata": {},
     "output_type": "execute_result"
    }
   ],
   "source": [
    "extracted_content[:30]"
   ]
  },
  {
   "cell_type": "markdown",
   "id": "ebf36360-08b5-47fa-a63b-eac6361dae8e",
   "metadata": {},
   "source": [
    "## Assign tokenIDs"
   ]
  },
  {
   "cell_type": "code",
   "execution_count": 38,
   "id": "940e5e59-f4d4-4908-bc18-191fd177db44",
   "metadata": {},
   "outputs": [],
   "source": [
    "# unique tokens\n",
    "vocab = set(extracted_content)"
   ]
  },
  {
   "cell_type": "code",
   "execution_count": 41,
   "id": "dd193886-a080-442e-b3cd-1974474a9792",
   "metadata": {
    "scrolled": true
   },
   "outputs": [
    {
     "data": {
      "text/plain": [
       "1130"
      ]
     },
     "execution_count": 41,
     "metadata": {},
     "output_type": "execute_result"
    }
   ],
   "source": [
    "len(vocab)"
   ]
  },
  {
   "cell_type": "code",
   "execution_count": 42,
   "id": "34b6c619-9e84-46db-b9ac-6c72d8e12e60",
   "metadata": {},
   "outputs": [],
   "source": [
    "# sorting alphabetically\n",
    "vocab = sorted(vocab)"
   ]
  },
  {
   "cell_type": "code",
   "execution_count": 43,
   "id": "6e808c07-d635-4c34-ac80-2e5aea4fe07f",
   "metadata": {},
   "outputs": [
    {
     "data": {
      "text/plain": [
       "['!', '\"', \"'\", '(', ')', ',', '--', '.', ':', ';']"
      ]
     },
     "execution_count": 43,
     "metadata": {},
     "output_type": "execute_result"
    }
   ],
   "source": [
    "vocab[:10]"
   ]
  },
  {
   "cell_type": "code",
   "execution_count": 44,
   "id": "71a1ad20-2b90-46d8-8a7b-11631ff9c703",
   "metadata": {},
   "outputs": [],
   "source": [
    "vocab = {token: integer for integer, token in enumerate(vocab)}"
   ]
  },
  {
   "cell_type": "code",
   "execution_count": 46,
   "id": "6a0f7adb-76d8-4964-b3dc-da7840e26739",
   "metadata": {},
   "outputs": [
    {
     "name": "stdout",
     "output_type": "stream",
     "text": [
      "('!', 0)\n",
      "('\"', 1)\n",
      "(\"'\", 2)\n",
      "('(', 3)\n",
      "(')', 4)\n",
      "(',', 5)\n",
      "('--', 6)\n",
      "('.', 7)\n",
      "(':', 8)\n",
      "(';', 9)\n",
      "('?', 10)\n"
     ]
    }
   ],
   "source": [
    "for i, item in enumerate(vocab.items()):\n",
    "    print(item)\n",
    "    if i>=10:\n",
    "        break"
   ]
  },
  {
   "cell_type": "markdown",
   "id": "501d0d92-dbd2-4e12-8005-86ca377a3ce5",
   "metadata": {},
   "source": [
    "## Tokenizer:V1"
   ]
  },
  {
   "cell_type": "code",
   "execution_count": 47,
   "id": "933ae685-5eb1-40e5-89cc-4ac0c142231d",
   "metadata": {},
   "outputs": [],
   "source": [
    "class SimpleTokenizerV1:\n",
    "\n",
    "    def __init__(self, vocab):\n",
    "\n",
    "        self.str_to_int =  vocab\n",
    "        self.int_to_str = {i:s for s,i in vocab.items()}\n",
    "\n",
    "    def encode(self, text):\n",
    "        preprocessed = re.split(r'([,.?_!\"()\\']|--|\\s)', text)\n",
    "        preprocessed = [item.strip() for item in preprocessed if item.strip()]\n",
    "        ids = [self.str_to_int[item] for item in preprocessed]\n",
    "        return ids\n",
    "\n",
    "    def decode(self, ids):\n",
    "        text = \" \".join([self.int_to_str[i] for i in ids])\n",
    "        text = re.sub(r'\\s+([,.?!\"()\\'])', r'\\1', text)\n",
    "        return text"
   ]
  },
  {
   "cell_type": "markdown",
   "id": "9896ebb0-e53c-486c-8c12-a4ad12e4bc45",
   "metadata": {},
   "source": [
    "##### NOTES\n",
    "\n",
    "* r'\\1': This is a backreference in regex, referring to the first captured group in a pattern.\n"
   ]
  },
  {
   "cell_type": "code",
   "execution_count": 48,
   "id": "eb276650-6f11-4d6a-96a1-71fcfffc6e1c",
   "metadata": {},
   "outputs": [],
   "source": [
    "# tokenizer\n",
    "simpletokenizer_v1 = SimpleTokenizerV1(vocab)"
   ]
  },
  {
   "cell_type": "code",
   "execution_count": 51,
   "id": "ce045982-e18e-4f5e-aa38-85f0d5610326",
   "metadata": {},
   "outputs": [],
   "source": [
    "test = \"\"\"\"It's the last he painted, you know,\"\n",
    "Mrs.Gisburn said with pardonable pride.\"\"\"\n",
    "test_ids = simpletokenizer_v1.encode(test)"
   ]
  },
  {
   "cell_type": "code",
   "execution_count": 52,
   "id": "c7d9b423-948c-4abb-8103-72ed264ec498",
   "metadata": {},
   "outputs": [
    {
     "data": {
      "text/plain": [
       "[1,\n",
       " 56,\n",
       " 2,\n",
       " 850,\n",
       " 988,\n",
       " 602,\n",
       " 533,\n",
       " 746,\n",
       " 5,\n",
       " 1126,\n",
       " 596,\n",
       " 5,\n",
       " 1,\n",
       " 67,\n",
       " 7,\n",
       " 38,\n",
       " 851,\n",
       " 1108,\n",
       " 754,\n",
       " 793,\n",
       " 7]"
      ]
     },
     "execution_count": 52,
     "metadata": {},
     "output_type": "execute_result"
    }
   ],
   "source": [
    "test_ids"
   ]
  },
  {
   "cell_type": "code",
   "execution_count": 53,
   "id": "1c928eb7-946e-485f-9a99-22a9a079feb7",
   "metadata": {},
   "outputs": [
    {
     "data": {
      "text/plain": [
       "'\" It\\' s the last he painted, you know,\" Mrs. Gisburn said with pardonable pride.'"
      ]
     },
     "execution_count": 53,
     "metadata": {},
     "output_type": "execute_result"
    }
   ],
   "source": [
    "simpletokenizer_v1.decode(test_ids)"
   ]
  },
  {
   "cell_type": "code",
   "execution_count": 54,
   "id": "8271f92b-2a04-481a-bba6-4776000f79b3",
   "metadata": {},
   "outputs": [
    {
     "name": "stdout",
     "output_type": "stream",
     "text": [
      "\" It' s the last he painted, you know,\" Mrs. Gisburn said with pardonable pride.\n"
     ]
    }
   ],
   "source": [
    "print(simpletokenizer_v1.decode(test_ids))"
   ]
  },
  {
   "cell_type": "code",
   "execution_count": null,
   "id": "ca1dd705-78dd-4cc3-a703-afd8f29d1558",
   "metadata": {},
   "outputs": [],
   "source": []
  },
  {
   "cell_type": "markdown",
   "id": "20eeac77-b7b9-44e4-b961-28a91cf97716",
   "metadata": {},
   "source": [
    "## Tokenizer:V2"
   ]
  },
  {
   "cell_type": "markdown",
   "id": "7fb8c46c-3e35-4ada-a719-aca73152ff61",
   "metadata": {},
   "source": [
    "### \\<unk> and \\<endoftext>"
   ]
  },
  {
   "cell_type": "code",
   "execution_count": 55,
   "id": "972f8d7c-a7c8-4ead-bfb9-0ff70b6a8917",
   "metadata": {},
   "outputs": [],
   "source": [
    "alltokens = sorted(set(extracted_content))"
   ]
  },
  {
   "cell_type": "code",
   "execution_count": 56,
   "id": "882e5602-38a7-41ee-bbdf-caff82ab4970",
   "metadata": {},
   "outputs": [],
   "source": [
    "alltokens.extend([\"<|endoftext|>\", \"<|unk|>\"])"
   ]
  },
  {
   "cell_type": "code",
   "execution_count": 57,
   "id": "e9f2ae0a-ad10-4ba4-9270-98ed432274a5",
   "metadata": {},
   "outputs": [],
   "source": [
    "vocab_dict = {token:integer for integer, token in enumerate(alltokens)}"
   ]
  },
  {
   "cell_type": "code",
   "execution_count": 58,
   "id": "5d6667fb-4980-4bd9-8318-f8a84bc94d11",
   "metadata": {},
   "outputs": [
    {
     "data": {
      "text/plain": [
       "1132"
      ]
     },
     "execution_count": 58,
     "metadata": {},
     "output_type": "execute_result"
    }
   ],
   "source": [
    "len(vocab_dict)"
   ]
  },
  {
   "cell_type": "code",
   "execution_count": 61,
   "id": "b950b83e-5dd8-44fa-b90b-06d884717e22",
   "metadata": {
    "scrolled": true
   },
   "outputs": [
    {
     "name": "stdout",
     "output_type": "stream",
     "text": [
      "('younger', 1127)\n",
      "('your', 1128)\n",
      "('yourself', 1129)\n",
      "('<|endoftext|>', 1130)\n",
      "('<|unk|>', 1131)\n"
     ]
    }
   ],
   "source": [
    "# CHECKING\n",
    "for i, item in enumerate(list(vocab_dict.items())[-5:]):\n",
    "    print(item)"
   ]
  },
  {
   "cell_type": "code",
   "execution_count": 63,
   "id": "f2b62e93-4b37-4d69-8836-fc74fa9a47d0",
   "metadata": {},
   "outputs": [
    {
     "data": {
      "text/plain": [
       "True"
      ]
     },
     "execution_count": 63,
     "metadata": {},
     "output_type": "execute_result"
    }
   ],
   "source": [
    "'your' in vocab_dict"
   ]
  },
  {
   "cell_type": "code",
   "execution_count": 78,
   "id": "07980db7-39db-4199-8846-bd53224f6dd9",
   "metadata": {},
   "outputs": [
    {
     "data": {
      "text/plain": [
       "False"
      ]
     },
     "execution_count": 78,
     "metadata": {},
     "output_type": "execute_result"
    }
   ],
   "source": [
    "1127 in vocab_dict"
   ]
  },
  {
   "cell_type": "code",
   "execution_count": 64,
   "id": "b987d592-60b2-425d-bec3-1605510e29e5",
   "metadata": {},
   "outputs": [],
   "source": [
    "class SimpleTokenizerV2:\n",
    "\n",
    "    def __init__(self, vocab):\n",
    "\n",
    "        self.str_to_int =  vocab\n",
    "        self.int_to_str = {i:s for s,i in vocab.items()}\n",
    "\n",
    "    def encode(self, text):\n",
    "        preprocessed = re.split(r'([,.?_!\"()\\']|--|\\s)', text)\n",
    "        preprocessed = [item.strip() for item in preprocessed if item.strip()]\n",
    "        preprocessed = [item if item in self.str_to_int else \"<|unk|>\" for item in preprocessed]\n",
    "        ids = [self.str_to_int[item] for item in preprocessed]\n",
    "        return ids\n",
    "\n",
    "    def decode(self, ids):\n",
    "        text = \" \".join([self.int_to_str[i] for i in ids])\n",
    "        text = re.sub(r'\\s+([,.?!\"()\\'])', r'\\1', text)\n",
    "        return text"
   ]
  },
  {
   "cell_type": "code",
   "execution_count": 66,
   "id": "dbaf0d21-b88f-4247-ac1e-0252aece039a",
   "metadata": {},
   "outputs": [],
   "source": [
    "# testing\n",
    "test1 = \"Hello, do you like tea?\"\n",
    "\n",
    "simpletokenizer_v2 = SimpleTokenizerV2(vocab_dict)"
   ]
  },
  {
   "cell_type": "code",
   "execution_count": 68,
   "id": "a4e7923c-070e-4a5d-9b5a-156eb4f7873b",
   "metadata": {},
   "outputs": [],
   "source": [
    "output1 = simpletokenizer_v2.encode(test1)"
   ]
  },
  {
   "cell_type": "code",
   "execution_count": 69,
   "id": "2b852bea-ea30-490c-81d5-c07a7ae0466f",
   "metadata": {},
   "outputs": [
    {
     "data": {
      "text/plain": [
       "'<|unk|>, do you like tea?'"
      ]
     },
     "execution_count": 69,
     "metadata": {},
     "output_type": "execute_result"
    }
   ],
   "source": [
    "simpletokenizer_v2.decode(output1)"
   ]
  },
  {
   "cell_type": "code",
   "execution_count": 79,
   "id": "a912113f-2eac-420d-ae51-00091abd4eee",
   "metadata": {},
   "outputs": [
    {
     "data": {
      "text/plain": [
       "'Hello, do you like tea? <|endoftext|> In the sunlit terraces of the palace. <|endoftext|> With some sugar.'"
      ]
     },
     "execution_count": 79,
     "metadata": {},
     "output_type": "execute_result"
    }
   ],
   "source": [
    "test2 = \"In the sunlit terraces of the palace.\"\n",
    "test3 = \"With some sugar.\"\n",
    "test = \" <|endoftext|> \".join([test1, test2, test3])\n",
    "test"
   ]
  },
  {
   "cell_type": "code",
   "execution_count": 80,
   "id": "67a98825-3ee7-4a55-862f-e8aca3d61ce7",
   "metadata": {},
   "outputs": [],
   "source": [
    "output2 = simpletokenizer_v2.encode(test)"
   ]
  },
  {
   "cell_type": "code",
   "execution_count": 81,
   "id": "b77dcd2a-3624-4f14-b3c1-a5972099e75d",
   "metadata": {},
   "outputs": [
    {
     "data": {
      "text/plain": [
       "'<|unk|>, do you like tea? <|endoftext|> In the sunlit terraces of the <|unk|>. <|endoftext|> <|unk|> some sugar.'"
      ]
     },
     "execution_count": 81,
     "metadata": {},
     "output_type": "execute_result"
    }
   ],
   "source": [
    "simpletokenizer_v2.decode(output2)"
   ]
  },
  {
   "cell_type": "code",
   "execution_count": null,
   "id": "38a6a614-b808-4666-9ec0-c1a606f4970b",
   "metadata": {},
   "outputs": [],
   "source": []
  },
  {
   "cell_type": "markdown",
   "id": "88434283-0053-4b97-a0e5-3220080d1fff",
   "metadata": {},
   "source": [
    "# Byte-Pair encoding"
   ]
  },
  {
   "cell_type": "code",
   "execution_count": null,
   "id": "0af2064b-b5c1-4c07-8a19-d4888c8700f0",
   "metadata": {},
   "outputs": [],
   "source": []
  }
 ],
 "metadata": {
  "kernelspec": {
   "display_name": "llm",
   "language": "python",
   "name": "llm"
  },
  "language_info": {
   "codemirror_mode": {
    "name": "ipython",
    "version": 3
   },
   "file_extension": ".py",
   "mimetype": "text/x-python",
   "name": "python",
   "nbconvert_exporter": "python",
   "pygments_lexer": "ipython3",
   "version": "3.12.8"
  }
 },
 "nbformat": 4,
 "nbformat_minor": 5
}
